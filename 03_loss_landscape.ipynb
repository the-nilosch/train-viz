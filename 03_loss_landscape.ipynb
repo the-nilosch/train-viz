{
 "cells": [
  {
   "cell_type": "code",
   "id": "initial_id",
   "metadata": {},
   "source": [
    "import os\n",
    "import torch\n",
    "from torch import nn\n",
    "\n",
    "from NeuroVisualizer.neuro_aux.AEmodel import UniformAutoencoder\n",
    "from NeuroVisualizer.neuro_aux.utils import get_files\n",
    "\n",
    "from helper.neuro_viz import get_dataloader_flat\n",
    "\n",
    "device = torch.device(\"cuda\" if torch.cuda.is_available() else \"cpu\")"
   ],
   "outputs": [],
   "execution_count": null
  },
  {
   "metadata": {
    "collapsed": false
   },
   "cell_type": "markdown",
   "source": [
    "# Neuro-Visualizer\n",
    "This notebook creates the loss landscape from the NeuroVisualizer"
   ],
   "id": "f5326ecff0764644"
  },
  {
   "metadata": {},
   "cell_type": "code",
   "source": [
    "dataset_name = 'cifar10'\n",
    "model_name = 'CNN'\n",
    "runs = [\n",
    "#    \"run-0011-CNN_mnist_32_0.9776\",\n",
    "#    \"run-0012-CNN_mnist_32_0.9768\",\n",
    "#    \"run-0007-CNN_mnist_128_0.9851\",\n",
    "    \n",
    "    # With Residual\n",
    "#    \"run-0016-CNN_cifar10_128_0.8093\", # Seed 42, SAM\n",
    "#    \"run-0018-CNN_cifar10_128_0.8499\", # Seed 42\n",
    "#    \"run-0020-CNN_cifar10_128_0.8079\", # Seed 11, SAM\n",
    "#    \"run-0022-CNN_cifar10_128_0.8519\", # Seed 11\n",
    "    \n",
    "    # No Residual\n",
    "    \"run-0017-CNN_cifar10_128_0.8072\", # Seed 42, SAM\n",
    "    \"run-0019-CNN_cifar10_128_0.8487\", # Seed 42\n",
    "    \"run-0021-CNN_cifar10_128_0.8054\", # Seed 11, SAM\n",
    "    \"run-0023-CNN_cifar10_128_0.8509\", # Seed 11\n",
    "]"
   ],
   "id": "58929cbf76aab1ac",
   "outputs": [],
   "execution_count": null
  },
  {
   "metadata": {},
   "cell_type": "code",
   "source": [
    "titles = [\n",
    "    #\"Seed 42, SAM, Residual 0.8093\", #16\n",
    "    \"Seed 42, SAM, 0.8072\",          #17\n",
    "    #\"Seed 42, SGD, Residual 0.8499\", #18\n",
    "    \"Seed 42, SGD, 0.8487\",          #19\n",
    "    #\"Seed 11, SAM, Residual 0.8079\", #20\n",
    "    \"Seed 11, SAM, 0.8054\",          #21\n",
    "    #\"Seed 11, SGD, Residual 0.8519\", #22\n",
    "    \"Seed 11, SGD, 0.8509\",          #23\n",
    "]"
   ],
   "id": "b52aeb648021810",
   "outputs": [],
   "execution_count": null
  },
  {
   "metadata": {},
   "cell_type": "code",
   "source": [
    "from helper.data_manager import load_training_data\n",
    "results = []\n",
    "run_ids = []\n",
    "vis_id = \"\"\n",
    "\n",
    "for run in runs:\n",
    "    results.append(load_training_data(run))\n",
    "    run_ids.append(results[-1][\"ll_flattened_weights_dir\"])\n",
    "\n",
    "vis_id = ' x '.join(run_ids)\n",
    "print(run_ids)\n",
    "print(vis_id)"
   ],
   "id": "59a509a266a496e7",
   "outputs": [],
   "execution_count": null
  },
  {
   "cell_type": "code",
   "id": "6035cac7-16bf-49e4-911d-58b68b9738e3",
   "metadata": {},
   "source": [
    "model_file = f'ae_models/{vis_id}.pt'"
   ],
   "outputs": [],
   "execution_count": null
  },
  {
   "metadata": {},
   "cell_type": "code",
   "source": [
    "#model_file = \"ae_models/run-0016-CNN x run-0017-CNN x run-0018-CNN x run-0019-CNN x run-0020-CNN x run-0021-CNN.pt\""
   ],
   "id": "2d55b55118bde2f1",
   "outputs": [],
   "execution_count": null
  },
  {
   "metadata": {},
   "cell_type": "code",
   "source": [
    "# Adjust this path to your folder\n",
    "pt_files = []\n",
    "\n",
    "for run_id in run_ids:\n",
    "    model_folder = f\"trainings/{run_id}\"\n",
    "    pt_files.append(get_files(model_folder, prefix=\"model-\"))\n",
    "    print(f\"Found {len(pt_files[-1])} checkpoint files.\")\n",
    "\n",
    "pt_files_flat = [path for sublist in pt_files for path in sublist]"
   ],
   "id": "facbac55a84c9797",
   "outputs": [],
   "execution_count": null
  },
  {
   "cell_type": "markdown",
   "id": "acb78a0bbfb31f46",
   "metadata": {
    "collapsed": false
   },
   "source": [
    "## Train AE Model\n",
    "Run this part to train an AE-Model"
   ]
  },
  {
   "metadata": {},
   "cell_type": "code",
   "source": [
    "batch_size = 8 #4 - 32 Batch Size of AE Training\n",
    "\n",
    "loader, normalizer = get_dataloader_flat(pt_files_flat, batch_size,\n",
    "                                         shuffle=True, oversample_later=True, # more samples from later epochs, that diverge more\n",
    "                                         )"
   ],
   "id": "9a18114eaaaab3a7",
   "outputs": [],
   "execution_count": null
  },
  {
   "metadata": {},
   "cell_type": "code",
   "source": [
    "torch.cuda.empty_cache()"
   ],
   "id": "c5dafee49f121593",
   "outputs": [],
   "execution_count": null
  },
  {
   "metadata": {},
   "cell_type": "markdown",
   "source": [
    "Adjust: Choose the hidden dimension (that the model-GPU combination is still working with)"
   ],
   "id": "2c4b8e2cd9f4ae49"
  },
  {
   "cell_type": "code",
   "id": "2a8d44219a8c9983",
   "metadata": {
    "collapsed": false
   },
   "source": [
    "input_dim = loader.dataset[0].shape[0]\n",
    "print(f\"Input dimension: {input_dim}\")\n",
    "\n",
    "latent_dim = 2\n",
    "num_layers = 4\n",
    "\n",
    "# Aggressive compression (scales with first hidden dim)\n",
    "#h = [input_dim, 64, 32, 8]\n",
    "h = [input_dim, 128, 64, 16]\n",
    "ae = UniformAutoencoder(input_dim, num_layers, latent_dim, h=h).to(device)\n",
    "\n",
    "#ae = UniformAutoencoder(input_dim, num_layers, latent_dim).to(device)"
   ],
   "outputs": [],
   "execution_count": null
  },
  {
   "metadata": {},
   "cell_type": "code",
   "source": [
    "total_params = sum(p.numel() for p in ae.parameters())\n",
    "trainable_params = sum(p.numel() for p in ae.parameters() if p.requires_grad)\n",
    "\n",
    "size_mb = total_params * 4 / (1024**2)\n",
    "print(f\"Total parameters: {total_params:,}\")\n",
    "print(f\"Trainable parameters: {trainable_params:,}\")\n",
    "print(f\"Approx. size: {size_mb:.2f} MB\")"
   ],
   "id": "a67b3302e2b82a1e",
   "outputs": [],
   "execution_count": null
  },
  {
   "metadata": {},
   "cell_type": "code",
   "source": [
    "# Load from previous train process (if available, eg. after a crash)\n",
    "ae.load_state_dict(torch.load(model_file, weights_only=True))"
   ],
   "id": "839c74395255eceb",
   "outputs": [],
   "execution_count": null
  },
  {
   "metadata": {},
   "cell_type": "code",
   "source": [
    "from helper.neuro_viz import train_autoencoder\n",
    "\n",
    "trained_model = train_autoencoder(\n",
    "    model=ae,\n",
    "    train_loader=loader,\n",
    "    device=device,\n",
    "    save_path=model_file,\n",
    "    num_epochs=50, #1000 would be great\n",
    "    lr=0.005, # 0.01 -\n",
    "    patience=15,\n",
    "    avoid_overheat=True # Avoids chrashes on Nembus Computer\n",
    ")\n",
    "\n",
    "# ~ 0.0173 possible"
   ],
   "id": "6304411380a6b2a1",
   "outputs": [],
   "execution_count": null
  },
  {
   "metadata": {},
   "cell_type": "code",
   "source": [
    "torch.save(ae.state_dict(), model_file)"
   ],
   "id": "5f12cb3ff59f854b",
   "outputs": [],
   "execution_count": null
  },
  {
   "cell_type": "markdown",
   "id": "98f04cc2b2a5a865",
   "metadata": {
    "collapsed": false
   },
   "source": [
    "## Visualize Trajectory"
   ]
  },
  {
   "cell_type": "code",
   "id": "570c59ac3e986644",
   "metadata": {
    "collapsed": false
   },
   "source": [
    "import os\n",
    "import torch\n",
    "import numpy as np\n",
    "import matplotlib.pyplot as plt\n",
    "\n",
    "from NeuroVisualizer.neuro_aux.AEmodel import UniformAutoencoder\n",
    "from NeuroVisualizer.neuro_aux.utils import get_files, repopulate_model\n",
    "from NeuroVisualizer.neuro_aux.trajectories_data import get_trajectory_dataloader"
   ],
   "outputs": [],
   "execution_count": null
  },
  {
   "cell_type": "code",
   "id": "a2a9a413afb8e33d",
   "metadata": {
    "collapsed": false
   },
   "source": [
    "batch_size = 4\n",
    "loss_name = 'test_loss'\n",
    "whichloss = 'mse' # this is CrossEntropyLoss\n",
    "device = torch.device(\"cuda\" if torch.cuda.is_available() else \"cpu\")"
   ],
   "outputs": [],
   "execution_count": null
  },
  {
   "cell_type": "code",
   "id": "20578face5ae73b",
   "metadata": {
    "collapsed": false,
    "scrolled": true
   },
   "source": [
    "# Get file list\n",
    "# pt_files = get_files(model_folder, prefix=\"model-\")\n",
    "\n",
    "# Load AE\n",
    "example_tensor = torch.load(pt_files[0][0], weights_only=True)\n",
    "input_dim = example_tensor.shape[0]\n",
    "latent_dim = 2\n",
    "num_layers = 4\n",
    "#h = [input_dim, 64, 32, 8]\n",
    "h = [input_dim, 128, 64, 16]\n",
    "\n",
    "\n",
    "ae_model = UniformAutoencoder(input_dim, num_layers, latent_dim, h=h).to(device)\n",
    "ae_model.load_state_dict(torch.load(model_file, weights_only=True))\n",
    "#ae_model.eval()"
   ],
   "outputs": [],
   "execution_count": null
  },
  {
   "cell_type": "code",
   "id": "d9aac66468474164",
   "metadata": {
    "collapsed": false
   },
   "source": [
    "# ---- Load data ----\n",
    "from helper.neuro_viz import get_dataloader_flat\n",
    "\n",
    "trajectory_loader, transform = get_dataloader_flat(pt_files_flat, batch_size, shuffle=False) #[:5] for Subset"
   ],
   "outputs": [],
   "execution_count": null
  },
  {
   "metadata": {},
   "cell_type": "markdown",
   "source": [
    "### Repopulate original Model Architecture\n",
    "**IMPORTANT: needs correct model**"
   ],
   "id": "361a2b7dae10cfe7"
  },
  {
   "metadata": {},
   "cell_type": "code",
   "source": [
    "for result in results:\n",
    "    print(result[\"model_info\"])"
   ],
   "id": "c66f954b969e6254",
   "outputs": [],
   "execution_count": null
  },
  {
   "metadata": {},
   "cell_type": "code",
   "source": [
    "from helper.vision_classification import init_mlp_for_dataset, init_cnn_for_dataset\n",
    "from helper.neuro_viz import Loss\n",
    "\n",
    "#TODO Check the model:\n",
    "#model = init_cnn_for_dataset(dataset_name, conv_dims=[8, 16], kernel_sizes=[3, 3], hidden_dims=[32], dropout=0.25, residual=False).to(device)\n",
    "#model = init_cnn_for_dataset(dataset_name, conv_dims=[8, 16], kernel_sizes=[3, 3], hidden_dims=[32], dropout=0.25, residual=True).to(device)\n",
    "\n",
    "#model = init_cnn_for_dataset(dataset_name, conv_dims=[32, 64], kernel_sizes=[3, 3], hidden_dims=[128], dropout=0.25, residual=False).to(device)\n",
    "#model = init_cnn_for_dataset(dataset, conv_dims=[32, 64], kernel_sizes=[3, 3], hidden_dims=[128], dropout=0.25, residual=True).to(device)\n",
    "model = init_cnn_for_dataset(dataset_name, conv_dims=[64, 128, 256], kernel_sizes=[5, 3, 3], hidden_dims=[256, 128], dropout=0.2, residual=False).to(device)\n",
    "#model = init_mlp_for_dataset(dataset_name, hidden_dims=[254, 64], dropout=0.1).to(device)\n",
    "loss_obj = Loss(dataset_name, device)"
   ],
   "id": "d6c5003998a319ab",
   "outputs": [],
   "execution_count": null
  },
  {
   "metadata": {},
   "cell_type": "code",
   "source": [
    "def count_parameters(model):\n",
    "    return sum(p.numel() for p in model.parameters() if p.requires_grad)\n",
    "\n",
    "print(f\"Trainable parameters: {count_parameters(model):,}\")\n",
    "print(f\"AE input/output dim:  {ae_model.encoder.fcs[0].in_features:,}\")"
   ],
   "id": "2f1206dc0e81cc0f",
   "outputs": [],
   "execution_count": null
  },
  {
   "metadata": {},
   "cell_type": "markdown",
   "source": [
    "#### Compute trajectory (Coordinates and Loss)"
   ],
   "id": "eff1d929fb6993e7"
  },
  {
   "metadata": {},
   "cell_type": "code",
   "source": [
    "from helper.neuro_viz import compute_trajectory\n",
    "\n",
    "trajectory_coordinates, trajectory_models, trajectory_losses = compute_trajectory(\n",
    "    trajectory_loader,\n",
    "    ae_model,\n",
    "    transform,\n",
    "    loss_obj,\n",
    "    model,\n",
    "    loss_name,\n",
    "    whichloss,\n",
    "    device,\n",
    ")\n",
    "# Mismatch in parameter size: 2340426 vs 1878346\n",
    "# Mismatch in parameter size: 2340426 vs 1878346"
   ],
   "id": "7705dad961771adb",
   "outputs": [],
   "execution_count": null
  },
  {
   "metadata": {},
   "cell_type": "code",
   "source": [
    "num_chunks = len(pt_files)\n",
    "chunk_size = len(pt_files[0])\n",
    "\n",
    "# Reshape the values\n",
    "tr_losses = np.split(trajectory_losses.cpu().numpy(), num_chunks)  # list of arrays\n",
    "tr_coordinates = np.split(trajectory_coordinates.cpu().numpy(), num_chunks)  # list of arrays\n",
    "\n",
    "real_losses = [results[i][\"val_losses\"] for i in range(num_chunks)]"
   ],
   "id": "36a3d3e11546ffc3",
   "outputs": [],
   "execution_count": null
  },
  {
   "metadata": {},
   "cell_type": "code",
   "source": [
    "# Fix, that there is one epoch 0 for the pt files\n",
    "for i in range(num_chunks):\n",
    "    first_loss = tr_losses[i][0]\n",
    "    real_losses[i] = np.concatenate(([first_loss], real_losses[i]))"
   ],
   "id": "fb7d461733d0a60a",
   "outputs": [],
   "execution_count": null
  },
  {
   "cell_type": "code",
   "id": "2a432896303748a7",
   "metadata": {
    "collapsed": false
   },
   "source": [
    "import matplotlib.pyplot as plt\n",
    "\n",
    "for i in range(num_chunks):\n",
    "    plt.figure(figsize=(8, 4))\n",
    "\n",
    "    plt.plot(real_losses[i], label='Logged Validation Loss', marker='o')\n",
    "    plt.plot(tr_losses[i], label='AE-Projected Validation Loss', marker='x')\n",
    "\n",
    "    plt.legend()\n",
    "    plt.title(results[i]['train_config'])\n",
    "    plt.xlabel('Checkpoint Index')\n",
    "    plt.ylabel('Loss (Cross Entropy)')\n",
    "    plt.grid(True)\n",
    "    plt.show()"
   ],
   "outputs": [],
   "execution_count": null
  },
  {
   "metadata": {},
   "cell_type": "code",
   "source": [
    "# Generate grid in latent space\n",
    "from helper.neuro_viz import generate_latent_grid, compute_grid_losses, compute_grid_losses_batched\n",
    "xx, yy, grid_coords = generate_latent_grid(\n",
    "    min_map=-1.1, max_map=1.1,\n",
    "    xnum=30, # 3 - 25\n",
    "    device=device\n",
    ")\n",
    "\n",
    "# Decode grid and compute losses\n",
    "#model = init_mlp_for_dataset(dataset_name, hidden_dims=[254, 64], dropout=0.1).to(device)\n",
    "\n",
    "grid_losses = compute_grid_losses_batched(\n",
    "    grid_coords,\n",
    "    transform,\n",
    "    ae_model,\n",
    "    model,\n",
    "    loss_obj,\n",
    "    loss_name,\n",
    "    whichloss,\n",
    "    device\n",
    ")\n",
    "\n",
    "# Reshape to grid\n",
    "grid_losses = grid_losses.view(xx.shape)"
   ],
   "id": "b88285395fb06cb6",
   "outputs": [],
   "execution_count": null
  },
  {
   "metadata": {},
   "cell_type": "code",
   "source": [
    "print(grid_losses.min().item(), grid_losses.max().item())"
   ],
   "id": "ae5c01aa998f81a",
   "outputs": [],
   "execution_count": null
  },
  {
   "cell_type": "code",
   "id": "dbe82af7fb974760",
   "metadata": {
    "collapsed": false
   },
   "source": [
    "rec_grid_models = ae_model.decoder(grid_coords)\n",
    "rec_grid_models = rec_grid_models*transform.std.to(device) + transform.mean.to(device)"
   ],
   "outputs": [],
   "execution_count": null
  },
  {
   "metadata": {},
   "cell_type": "markdown",
   "source": [
    "If CUDA out of memory"
   ],
   "id": "e0857fbb5674fb15"
  },
  {
   "metadata": {},
   "cell_type": "code",
   "source": [
    "def decode_grid_in_batches(ae_model, grid_coords, transform, device, batch_size=32):\n",
    "    ae_model.eval()\n",
    "    std = transform.std.to(device)\n",
    "    mean = transform.mean.to(device)\n",
    "    chunks = []\n",
    "\n",
    "    with torch.no_grad():\n",
    "        for i in range(0, grid_coords.size(0), batch_size):\n",
    "            coords = grid_coords[i : i + batch_size].to(device)      # [B,2]\n",
    "            rec = ae_model.decoder(coords)                            # [B, D]\n",
    "            rec = rec * std + mean                                    # [B, D]\n",
    "            chunks.append(rec.cpu())     # move back to CPU immediately\n",
    "            del coords, rec\n",
    "            torch.cuda.empty_cache()     # free any cached GPU memory\n",
    "\n",
    "    return torch.cat(chunks, dim=0)      # [N, D]"
   ],
   "id": "e058707b8de26330",
   "outputs": [],
   "execution_count": null
  },
  {
   "metadata": {},
   "cell_type": "code",
   "source": [
    "rec_grid_models = decode_grid_in_batches(\n",
    "    ae_model, grid_coords, transform, device, batch_size=16\n",
    ")"
   ],
   "id": "902678d7b7d136be",
   "outputs": [],
   "execution_count": null
  },
  {
   "metadata": {},
   "cell_type": "code",
   "source": [
    "from helper.neuro_viz import plot_loss_landscape\n",
    "\n",
    "fig = plot_loss_landscape(\n",
    "    xx, yy,\n",
    "    grid_losses,\n",
    "    real_losses, # real_losses or tr_losses\n",
    "    tr_coordinates,\n",
    "    rec_grid_models=rec_grid_models,\n",
    "    draw_density=False,\n",
    "    filled_contours=False\n",
    ")"
   ],
   "id": "a610fae84338aaf5",
   "outputs": [],
   "execution_count": null
  },
  {
   "cell_type": "code",
   "id": "8f9eb868b9361be4",
   "metadata": {
    "collapsed": false
   },
   "source": [
    "# Save to PDF\n",
    "os.makedirs('plots', exist_ok=True)\n",
    "fig.savefig(f'plots/loss_landscape_{vis_id}.pdf', dpi=300, bbox_inches='tight', format='pdf')\n",
    "print(f\"Saved PDF to plots/loss_landscape_{vis_id}.pdf\")\n",
    "\n",
    "plt.show()"
   ],
   "outputs": [],
   "execution_count": null
  },
  {
   "metadata": {},
   "cell_type": "code",
   "source": [
    "fig = plot_loss_landscape(\n",
    "    xx, yy,\n",
    "    grid_losses,\n",
    "    real_losses, # real_losses or tr_losses\n",
    "    tr_coordinates,\n",
    "    rec_grid_models=rec_grid_models,\n",
    "    draw_density=False,\n",
    "    filled_contours=False,\n",
    "    trajectory_labels=titles,            # NEW: list of strs, one per trajectory - ['Test 1', 'Test 2', 'Test 3', 'Test 4'],\n",
    "    label_positions=[('center', 'top'), ('right', 'top'), ('right', 'bottom'), ('right', 'bottom')], # ('left'|'center'|'right', 'top'|'center'|'bottom')\n",
    ")"
   ],
   "id": "a238c0a7132f3419",
   "outputs": [],
   "execution_count": null
  },
  {
   "metadata": {},
   "cell_type": "code",
   "source": [
    "import matplotlib.pyplot as plt\n",
    "from matplotlib.colors import LogNorm\n",
    "import matplotlib.ticker as ticker\n",
    "import numpy as np\n",
    "\n",
    "def plot_loss_landscape(\n",
    "    xx, yy,\n",
    "    grid_losses, trajectory_losses_list, trajectory_coords_list,\n",
    "    rec_grid_models=None,\n",
    "    draw_density=True,\n",
    "    filled_contours=True,\n",
    "    cmap='viridis',\n",
    "    loss_label='Cross Entropy Loss',\n",
    "    trajectory_labels=None,\n",
    "    label_positions=None,\n",
    "):\n",
    "    # === PREPARE LOSSES ===\n",
    "    grid_losses_pos = grid_losses.detach().cpu().numpy()\n",
    "\n",
    "    # === SHARED COLOR SCALE ===\n",
    "    traj_losses_all = np.concatenate([t for t in trajectory_losses_list])\n",
    "    all_losses = np.concatenate([grid_losses_pos.flatten(), traj_losses_all])\n",
    "    vmin = np.clip(all_losses.min() / 1.2, 1e-5, None)\n",
    "    vmax = all_losses.max() * 1.2\n",
    "\n",
    "    if vmin >= vmax or np.isclose(vmin, vmax):\n",
    "        vmax = vmin * 10\n",
    "        print(f\"Adjusted nearly-constant losses: vmin={vmin}, vmax={vmax}\")\n",
    "\n",
    "    levels = np.logspace(np.log10(vmin), np.log10(vmax), 30)\n",
    "    norm = LogNorm(vmin=vmin, vmax=vmax)\n",
    "\n",
    "    # === BEGIN PLOTTING ===\n",
    "    fig, ax = plt.subplots(figsize=(8, 6))\n",
    "\n",
    "    # -- 1 Loss Landscape --\n",
    "    X = xx.cpu().numpy()\n",
    "    Y = yy.cpu().numpy()\n",
    "\n",
    "    if filled_contours:\n",
    "        contour = ax.contourf(X, Y, grid_losses_pos, levels=levels, norm=norm, cmap=cmap)\n",
    "    else:\n",
    "        contour = ax.contour(X, Y, grid_losses_pos, levels=levels, norm=norm, cmap=cmap)\n",
    "        ax.clabel(contour, fmt=\"%.2e\", fontsize=8)\n",
    "\n",
    "    cbar = plt.colorbar(contour, ax=ax, shrink=0.8)\n",
    "    ticks = np.logspace(np.log10(vmin), np.log10(vmax), 5)  # customize number here\n",
    "    cbar.set_ticks(ticks)\n",
    "    cbar.ax.set_ylabel(loss_label, fontsize=12)\n",
    "\n",
    "    # -- 2 & 3: Plot Multiple Trajectories --\n",
    "    for z_tensor, losses_tensor in zip(trajectory_coords_list, trajectory_losses_list):\n",
    "        z = z_tensor\n",
    "        losses = losses_tensor\n",
    "        # Lines\n",
    "        for i in range(len(z) - 1):\n",
    "            ax.plot([z[i, 0], z[i + 1, 0]], [z[i, 1], z[i + 1, 1]], color='k', linewidth=1)\n",
    "        # Points\n",
    "        ax.scatter(\n",
    "            z[:, 0], z[:, 1],\n",
    "            c=losses,\n",
    "            cmap=cmap,\n",
    "            norm=norm,\n",
    "            s=40,\n",
    "            edgecolors='k'\n",
    "        )\n",
    "\n",
    "    # ===== 3b: Annotate each trajectory at its last point =====\n",
    "    offset_pts = 12  # how far, in points, to shift the label\n",
    "\n",
    "    # defaults\n",
    "    n_traj = len(trajectory_coords_list)\n",
    "    if trajectory_labels is None:\n",
    "        trajectory_labels = [f\"traj {i}\" for i in range(n_traj)]\n",
    "    if label_positions is None:\n",
    "        label_positions = ['auto'] * n_traj\n",
    "\n",
    "    for idx, (z, losses, lab) in enumerate(zip(\n",
    "            trajectory_coords_list,\n",
    "            trajectory_losses_list,\n",
    "            trajectory_labels)):\n",
    "        x_end, y_end = float(z[-1, 0]), float(z[-1, 1])\n",
    "\n",
    "        # decide alignment\n",
    "        pos = label_positions[idx]\n",
    "        if pos != 'auto':\n",
    "            ha, va = pos\n",
    "        else:\n",
    "            dx = z[-1, 0] - z[-2, 0]\n",
    "            dy = z[-1, 1] - z[-2, 1]\n",
    "            ha = 'left'   if dx >= 0 else 'right'\n",
    "            va = 'bottom' if dy >= 0 else 'top'\n",
    "\n",
    "        # convert alignment into point‐offset direction\n",
    "        ox =  offset_pts if ha == 'left'   else (-offset_pts if ha == 'right' else 0)\n",
    "        oy =  offset_pts if va == 'bottom' else (-offset_pts if va == 'top'   else 0)\n",
    "\n",
    "        # annotate with offset\n",
    "        ax.annotate(\n",
    "            lab,\n",
    "            xy=(x_end, y_end),\n",
    "            xytext=(ox, oy),\n",
    "            textcoords='offset points',\n",
    "            ha=ha, va=va,\n",
    "            fontsize=10,\n",
    "            bbox=dict(boxstyle=\"round,pad=0.2\", fc=\"white\", alpha=0.6),\n",
    "            arrowprops=dict(arrowstyle='-', lw=0)\n",
    "        )\n",
    "\n",
    "    # -- 4 OPTIONAL: Density Contours --\n",
    "    if draw_density and rec_grid_models is not None:\n",
    "        try:\n",
    "            from NeuroVisualizer.neuro_aux.utils import get_density\n",
    "            density = get_density(rec_grid_models.detach().cpu().numpy(), type='inverse', p=2)\n",
    "            density = density.reshape(xx.shape)\n",
    "            density_levels = np.logspace(\n",
    "                np.log10(max(density.min(), 1e-3)),\n",
    "                np.log10(density.max()),\n",
    "                15\n",
    "            )\n",
    "            CS_density = ax.contour(\n",
    "                X, Y, density,\n",
    "                levels=density_levels,\n",
    "                colors='white',\n",
    "                linewidths=0.8\n",
    "            )\n",
    "            ax.clabel(CS_density, fmt=ticker.FormatStrFormatter('%.1f'), fontsize=7)\n",
    "        except Exception as e:\n",
    "            print(\"Density contour skipped:\", e)\n",
    "\n",
    "    # -- 5 Labels, Grid, Style --\n",
    "    ax.set_title('Loss Landscape with Training Trajectory', fontsize=14)\n",
    "    ax.set_xlabel('Latent Dimension 1', fontsize=12)\n",
    "    ax.set_ylabel('Latent Dimension 2', fontsize=12)\n",
    "    ax.grid(True, linestyle='--', alpha=0.3)\n",
    "\n",
    "    # -- 6 Show --\n",
    "    #plt.show()\n",
    "\n",
    "    return fig"
   ],
   "id": "36aa8683dde74e62",
   "outputs": [],
   "execution_count": null
  },
  {
   "metadata": {},
   "cell_type": "code",
   "source": [],
   "id": "8bec7f4647f57d79",
   "outputs": [],
   "execution_count": null
  }
 ],
 "metadata": {
  "kernelspec": {
   "display_name": "Python (train-viz)",
   "language": "python",
   "name": "train-viz"
  },
  "language_info": {
   "codemirror_mode": {
    "name": "ipython",
    "version": 3
   },
   "file_extension": ".py",
   "mimetype": "text/x-python",
   "name": "python",
   "nbconvert_exporter": "python",
   "pygments_lexer": "ipython3",
   "version": "3.11.5"
  }
 },
 "nbformat": 4,
 "nbformat_minor": 5
}
