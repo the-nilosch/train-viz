{
 "cells": [
  {
   "cell_type": "markdown",
   "id": "77088f6553468de1",
   "metadata": {
    "collapsed": false,
    "jp-MarkdownHeadingCollapsed": true,
    "jupyter": {
     "outputs_hidden": false
    }
   },
   "source": [
    "## TODO List\n",
    "\n",
    "#### Open Questions\n",
    "- [ ] t-SNE with test or train samples?\n",
    "\n",
    "#### Training\n",
    "- [x] MLP \n",
    "- [ ] Different Models / Datasets\n",
    "\n",
    "#### Embedding Visualization\n",
    "Data\n",
    "- [x] PCA\n",
    "- [ ] Use ALL train data for PCA?\n",
    "- [x] t-SNE\n",
    "- [ ] Visualize t-SNE training Steps\n",
    "- [x] UMAP\n",
    "- [x] UMAP Parameters\n",
    "Visualization\n",
    "- [ ] Live during training\n",
    "- [ ] 3D\n",
    "- [ ] With trajectory\n",
    "\n",
    "#### Loss Landscape Visualization (later)\n",
    "- [x] Get Code\n",
    "- [ ] Classical Loss Landscape\n",
    "- [ ] Topological Loss Landscape"
   ]
  },
  {
   "cell_type": "markdown",
   "id": "4cba566ae0eb7252",
   "metadata": {},
   "source": [
    "# Visualizing Embedding Evolution During Training\n",
    "\n",
    "In this notebook, we train an MLP on MNIST and visualize how hidden representations (embeddings) evolve over training using t-SNE. This gives insight into how class structure emerges in the latent space over time."
   ]
  },
  {
   "cell_type": "code",
   "id": "39efc2648a62550",
   "metadata": {},
   "source": [
    "%matplotlib widget\n",
    "\n",
    "import torch\n",
    "import torch.nn as nn\n",
    "import torch.nn.functional as F\n",
    "from torchvision import datasets, transforms\n",
    "from torch.utils.data import DataLoader\n",
    "import matplotlib.pyplot as plt\n",
    "from sklearn.manifold import TSNE\n",
    "import numpy as np\n",
    "import random\n",
    "\n",
    "# Reproducibility\n",
    "seed = 42\n",
    "torch.manual_seed(seed)\n",
    "np.random.seed(seed)\n",
    "random.seed(seed)\n",
    "\n",
    "device = torch.device(\"cuda\" if torch.cuda.is_available() else \"cpu\")\n",
    "print(torch.__version__)\n",
    "print(torch.version.cuda)  # Should print something like '11.8'\n",
    "print(\"Using device:\", device)"
   ],
   "outputs": [],
   "execution_count": null
  },
  {
   "cell_type": "markdown",
   "id": "5679c45d-ffb5-4417-8998-99255b7487ef",
   "metadata": {},
   "source": [
    "# Dataset\n",
    "### MNIST"
   ]
  },
  {
   "cell_type": "code",
   "id": "668a40f6b2187af1",
   "metadata": {},
   "source": [
    "transform = transforms.ToTensor()\n",
    "\n",
    "train_data = datasets.MNIST(root='./data', train=True, download=True, transform=transform)\n",
    "test_data = datasets.MNIST(root='./data', train=False, download=True, transform=transform)\n",
    "\n",
    "train_loader = DataLoader(train_data, batch_size=128, shuffle=True)\n",
    "test_loader = DataLoader(test_data, batch_size=128, shuffle=False)"
   ],
   "outputs": [],
   "execution_count": null
  },
  {
   "cell_type": "markdown",
   "id": "c9217734-1ff7-4196-afa2-833284e3a27b",
   "metadata": {},
   "source": [
    "### Test Subset for visualization"
   ]
  },
  {
   "cell_type": "code",
   "id": "9282c10b4543a664",
   "metadata": {},
   "source": [
    "from torch.utils.data import Subset\n",
    "\n",
    "# First, get all test labels\n",
    "test_targets = test_data.targets.numpy()\n",
    "\n",
    "# Define how many samples per class\n",
    "samples_per_class = 100\n",
    "num_classes = 10\n",
    "\n",
    "# Collect indices (balanced subset)\n",
    "selected_indices = []\n",
    "for class_id in range(num_classes):\n",
    "    class_indices = np.where(test_targets == class_id)[0]\n",
    "    chosen = np.random.choice(class_indices, size=samples_per_class, replace=False)\n",
    "    selected_indices.extend(chosen)\n",
    "\n",
    "# Create a test subset DataLoader (shuffling not needed)\n",
    "test_subset = Subset(test_data, selected_indices)\n",
    "test_subset_loader = DataLoader(test_subset, batch_size=128, shuffle=False)"
   ],
   "outputs": [],
   "execution_count": null
  },
  {
   "cell_type": "code",
   "id": "521c8237be323e86",
   "metadata": {},
   "source": [
    "print(len(train_data))\n",
    "print(len(test_data))\n",
    "print(len(test_subset))"
   ],
   "outputs": [],
   "execution_count": null
  },
  {
   "cell_type": "markdown",
   "id": "38b750cb-c96d-4278-9aee-6e4e8f8d3f3d",
   "metadata": {},
   "source": [
    "# Model\n",
    "### MLP"
   ]
  },
  {
   "cell_type": "code",
   "id": "8de7fdb488369387",
   "metadata": {},
   "source": [
    "class MLP(nn.Module):\n",
    "    def __init__(self, input_dim=28*28, hidden_dim=128, num_classes=10):\n",
    "        super(MLP, self).__init__()\n",
    "        self.fc1 = nn.Linear(input_dim, hidden_dim)\n",
    "        self.fc2 = nn.Linear(hidden_dim, num_classes)\n",
    "\n",
    "    def forward(self, x, return_embedding=False):\n",
    "        x = x.view(x.size(0), -1)\n",
    "        h = F.relu(self.fc1(x))\n",
    "        out = self.fc2(h)\n",
    "        if return_embedding:\n",
    "            return out, h\n",
    "        return out\n",
    "\n",
    "model_mlp = MLP().to(device)"
   ],
   "outputs": [],
   "execution_count": null
  },
  {
   "cell_type": "code",
   "id": "a18b427fd46e4c1",
   "metadata": {},
   "source": [
    "print(f\"{len(train_loader)} Batches\")"
   ],
   "outputs": [],
   "execution_count": null
  },
  {
   "cell_type": "markdown",
   "id": "9d09ea71-f5d6-439c-8cd9-a8eeca2fca1e",
   "metadata": {},
   "source": [
    "##### Training\n",
    "After 10 Epochs\n",
    "| Embedding Dimension | Final Train Acc | Final Test Acc | Test Epoch 3 |\n",
    "| ------------- | ------------- | ------------- | ------------- |\n",
    "| 128 | 0.9897 | 0.9760 | 0.9610 |\n",
    "| 64 | 0.9782 | **0.9706** | 0.9504 |\n",
    "| 32 | 0.9678 | 0.9625 | 0.9428 |\n",
    "| 16 | 0.9434 | 0.9398 | 0.9256 |"
   ]
  },
  {
   "cell_type": "code",
   "id": "7a837fc86af75d6d",
   "metadata": {
    "collapsed": false,
    "jupyter": {
     "outputs_hidden": false
    }
   },
   "source": [
    "%matplotlib inline\n",
    "\n",
    "model_mlp = MLP(hidden_dim=32).to(device)\n",
    "\n",
    "from train_viz import train_model_with_embedding_tracking\n",
    "\n",
    "results = train_model_with_embedding_tracking(\n",
    "    model=model_mlp,\n",
    "    train_loader=train_loader,\n",
    "    test_loader=test_loader,\n",
    "    subset_loader=test_subset,\n",
    "    device=device,\n",
    "    epochs=10,\n",
    "    learning_rate=0.0001, # 0.0001\n",
    "    embedding_records_per_epoch=10,\n",
    "    track_embedding_drift=True\n",
    ")\n",
    "\n",
    "##    return {\n",
    "##        'train_losses': train_losses,\n",
    "##        'val_losses': val_losses,\n",
    "##        'train_accuracies': train_accuracies,\n",
    "##        'val_accuracies': val_accuracies,\n",
    "##        'test_subset_embeddings': test_subset_embeddings,\n",
    "##        'test_subset_labels': test_subset_labels\n",
    "##    }"
   ],
   "outputs": [],
   "execution_count": null
  },
  {
   "cell_type": "markdown",
   "id": "7e2ca231-4afc-4b47-a3c6-23468741d0e5",
   "metadata": {},
   "source": [
    "### Embedding Drift\n",
    "The embedding drift shows the Euclidean distance between the current embedding, compared to the snapshot of N (1 to 5) periods before.\n",
    "\n",
    "It shows that the changes drop quickly, and that drifts measured over higher distances are in a similar range to distance 1."
   ]
  },
  {
   "cell_type": "code",
   "id": "7ab5ed63-c3a4-48c1-af3e-0a1abd61caf2",
   "metadata": {},
   "source": [
    "%matplotlib widget\n",
    "from train_viz import _plot_embedding_drift\n",
    "\n",
    "embedding_drifts = results[\"embedding_drifts\"]\n",
    "\n",
    "fig, axs = plt.subplots(1, 1, figsize=(10, 4))\n",
    "\n",
    "# Plot 2x Drifts\n",
    "axs.plot(range(1, len(embedding_drifts[1]) + 1), np.array(embedding_drifts[1]) * 2, color=\"green\", label=\"2x Drift 1\", alpha=0.3)\n",
    "axs.plot(range(1, len(embedding_drifts[2]) + 1), np.array(embedding_drifts[2]) * 2, color=\"blue\", label=\"2x Drift 2\", alpha=0.3)\n",
    "\n",
    "# Plot original drifts\n",
    "_plot_embedding_drift(axs, embedding_drifts)\n",
    "\n",
    "plt.legend()\n",
    "plt.show()"
   ],
   "outputs": [],
   "execution_count": null
  },
  {
   "cell_type": "markdown",
   "id": "e3d2ff241035dd31",
   "metadata": {},
   "source": [
    "# Video Animation\n",
    "New"
   ]
  },
  {
   "cell_type": "code",
   "id": "429fa008f42cb1c2",
   "metadata": {},
   "source": [
    "from train_viz import generate_projections, animate_projections, show_with_slider, show_multiple_projections_with_slider"
   ],
   "outputs": [],
   "execution_count": null
  },
  {
   "cell_type": "markdown",
   "id": "b06bd4771af9c0df",
   "metadata": {},
   "source": [
    "## PCA"
   ]
  },
  {
   "cell_type": "code",
   "id": "89872158-efa2-4fd1-9f56-1ae828e5de51",
   "metadata": {},
   "source": [
    "projections_pca_first = generate_projections(\n",
    "    embeddings_list=results[\"subset_embeddings\"],\n",
    "    method='pca',\n",
    "    pca_fit_basis='first',\n",
    ")\n",
    "projections_pca_last = generate_projections(\n",
    "    embeddings_list=results[\"subset_embeddings\"],\n",
    "    method='pca',\n",
    "    pca_fit_basis='last',\n",
    ")\n",
    "projections_pca_all = generate_projections(\n",
    "    embeddings_list=results[\"subset_embeddings\"],\n",
    "    method='pca',\n",
    "    pca_fit_basis='all',\n",
    ")"
   ],
   "outputs": [],
   "execution_count": null
  },
  {
   "cell_type": "code",
   "id": "eaf10877f13e2008",
   "metadata": {},
   "source": [
    "%matplotlib widget"
   ],
   "outputs": [],
   "execution_count": null
  },
  {
   "cell_type": "code",
   "id": "134b28e047c72ed1",
   "metadata": {},
   "source": [
    "show_multiple_projections_with_slider(\n",
    "    projections_list=[projections_pca_first, projections_pca_last, projections_pca_all],\n",
    "    labels=results[\"subset_labels\"],\n",
    "    titles=[\"PCA on first\", \"PCA on last\", \"PCA on all\"],\n",
    "    interpolate=True,\n",
    "    steps_per_transition=2,\n",
    "    figsize_per_plot=(4, 4),\n",
    ")"
   ],
   "outputs": [],
   "execution_count": null
  },
  {
   "cell_type": "code",
   "id": "fc939b6488ce95d3",
   "metadata": {},
   "source": [
    "from IPython.display import HTML\n",
    "ani_pca = animate_projections(\n",
    "    projections_pca_all,\n",
    "    labels=results[\"subset_labels\"],\n",
    "    interpolate=False,\n",
    "    steps_per_transition=0\n",
    ")\n",
    "HTML(ani_pca.to_jshtml())"
   ],
   "outputs": [],
   "execution_count": null
  },
  {
   "cell_type": "markdown",
   "id": "22233e6997d3415b",
   "metadata": {},
   "source": [
    "## tSNE"
   ]
  },
  {
   "cell_type": "code",
   "id": "51460a5f9c170a34",
   "metadata": {},
   "source": [
    "projections_tsne = generate_projections(\n",
    "    embeddings_list=results[\"subset_embeddings\"],\n",
    "    method='tsne',\n",
    ")"
   ],
   "outputs": [],
   "execution_count": null
  },
  {
   "cell_type": "code",
   "id": "b8bd2e0db752c7c3",
   "metadata": {},
   "source": [
    "ani_tsne = show_with_slider(\n",
    "    projections_tsne,\n",
    "    labels=results[\"subset_labels\"],\n",
    "    interpolate=False,\n",
    ")"
   ],
   "outputs": [],
   "execution_count": null
  },
  {
   "cell_type": "markdown",
   "id": "a2bafedd-865a-4a72-9868-8b8683b6cc17",
   "metadata": {},
   "source": [
    "## t-SNE Backwards (reverse computation)"
   ]
  },
  {
   "cell_type": "code",
   "id": "42da643a-a912-4319-9985-57be3d6dc5c4",
   "metadata": {},
   "source": [
    "projections_tsne_reverse = generate_projections(\n",
    "    embeddings_list=results[\"subset_embeddings\"],\n",
    "    method='tsne',\n",
    "    reverse_computation=True\n",
    ")"
   ],
   "outputs": [],
   "execution_count": null
  },
  {
   "cell_type": "code",
   "id": "02cf5bc8-9a0c-4ced-a879-01307090e286",
   "metadata": {},
   "source": [
    "ani_tsne_reverse = show_with_slider(\n",
    "    projections_tsne_reverse,\n",
    "    labels=results[\"subset_labels\"],\n",
    "    interpolate=False,\n",
    ")"
   ],
   "outputs": [],
   "execution_count": null
  },
  {
   "cell_type": "code",
   "id": "6dfd9e20-a0fe-43ab-9d4d-b21ccf10762b",
   "metadata": {},
   "source": [
    "show_multiple_projections_with_slider(\n",
    "    projections_list=[projections_tsne, projections_tsne_reverse],\n",
    "    labels=results[\"subset_labels\"],\n",
    "    titles=[\"t-SNE\", \"t-SNE backwards\"],\n",
    "    interpolate=True,\n",
    "    steps_per_transition=5,\n",
    "    figsize_per_plot=(5, 5),\n",
    ")"
   ],
   "outputs": [],
   "execution_count": null
  },
  {
   "cell_type": "markdown",
   "id": "b2a6044e-35e7-4ee8-a5d1-bc3c6b1ba8ab",
   "metadata": {},
   "source": [
    "## t-SNE distance metric\n",
    "euclidean vs cosine"
   ]
  },
  {
   "cell_type": "code",
   "id": "7091c2d7-9f36-4011-932e-77cc9c9f8fcf",
   "metadata": {},
   "source": [
    "projections_tsne_cosine = generate_projections(\n",
    "    embeddings_list=results[\"subset_embeddings\"],\n",
    "    method='tsne',\n",
    "    metric='cosine'\n",
    ")"
   ],
   "outputs": [],
   "execution_count": null
  },
  {
   "cell_type": "code",
   "id": "aaae22f7-d646-49b7-830d-138f0b460895",
   "metadata": {},
   "source": [
    "show_multiple_projections_with_slider(\n",
    "    projections_list=[projections_tsne, projections_tsne_cosine],\n",
    "    labels=results[\"subset_labels\"],\n",
    "    titles=[\"t-SNE\", \"t-SNE Cosine\"],\n",
    "    interpolate=True,\n",
    "    steps_per_transition=5,\n",
    "    figsize_per_plot=(5, 5),\n",
    ")"
   ],
   "outputs": [],
   "execution_count": null
  },
  {
   "cell_type": "markdown",
   "id": "8d2df001-e999-4686-8468-31cd74a660ea",
   "metadata": {},
   "source": [
    "## t-SNE Seeds"
   ]
  },
  {
   "cell_type": "code",
   "id": "8aced936-75dd-41d7-8c3f-265340f4f64b",
   "metadata": {},
   "source": [
    "projections_tsne_2 = generate_projections(\n",
    "    embeddings_list=results[\"subset_embeddings\"],\n",
    "    method='tsne',\n",
    "    random_state=1106,\n",
    "    tsne_init='random'\n",
    ")"
   ],
   "outputs": [],
   "execution_count": null
  },
  {
   "cell_type": "code",
   "id": "7ff0f456-0d02-4b39-b7df-f9c42531cc5d",
   "metadata": {},
   "source": [
    "show_multiple_projections_with_slider(\n",
    "    projections_list=[projections_tsne, projections_tsne_2, projections_tsne_reverse],\n",
    "    labels=results[\"subset_labels\"],\n",
    "    titles=[\"t-SNE init with pca\", \"t-SNE init random\", \"t-SNE backwards\"],\n",
    "    steps_per_transition=5,\n",
    "    figsize_per_plot=(4, 4),\n",
    ")"
   ],
   "outputs": [],
   "execution_count": null
  },
  {
   "cell_type": "markdown",
   "id": "d4f6afcf-1034-4d28-bdf6-10e4b9ad560c",
   "metadata": {},
   "source": [
    "## t-SNE Perplexity\n",
    "Compare 5 - 10 - 30 - 50"
   ]
  },
  {
   "cell_type": "code",
   "id": "08ee020b-1478-45f3-9f1d-abe51e03932c",
   "metadata": {},
   "source": [
    "projections_tsne_p_5 = generate_projections(\n",
    "    embeddings_list=results[\"subset_embeddings\"],\n",
    "    method='tsne',\n",
    "    tsne_perplexity=5\n",
    ")\n",
    "\n",
    "projections_tsne_p_10 = generate_projections(\n",
    "    embeddings_list=results[\"subset_embeddings\"],\n",
    "    method='tsne',\n",
    "    tsne_perplexity=10\n",
    ")\n",
    "\n",
    "projections_tsne_p_50 = generate_projections(\n",
    "    embeddings_list=results[\"subset_embeddings\"],\n",
    "    method='tsne',\n",
    "    tsne_perplexity=50\n",
    ")"
   ],
   "outputs": [],
   "execution_count": null
  },
  {
   "cell_type": "code",
   "id": "09801ce2-d5fc-4eca-b1b1-c2122ee1f787",
   "metadata": {},
   "source": [
    "projections_tsne_p_30 = projections_tsne"
   ],
   "outputs": [],
   "execution_count": null
  },
  {
   "cell_type": "code",
   "id": "05f4e8f6-5533-4b91-9980-91c3a3c4e0ad",
   "metadata": {},
   "source": [
    "show_multiple_projections_with_slider(\n",
    "    projections_list=[projections_tsne_p_5, projections_tsne_p_10, projections_tsne_p_30, projections_tsne_p_50],\n",
    "    labels=results[\"subset_labels\"],\n",
    "    titles=[\"t-SNE Perplexity 5\", \"t-SNE Perplexity 10\", \"t-SNE Perpl. 30 (standard)\", \"t-SNE Perplexity 50\"],\n",
    "    interpolate=True,\n",
    "    steps_per_transition=3,\n",
    "    figsize_per_plot=(3.5, 3.5),\n",
    "    dot_size=2,\n",
    "    shared_axes=False\n",
    ")"
   ],
   "outputs": [],
   "execution_count": null
  },
  {
   "cell_type": "markdown",
   "id": "0b4dfbef-f6e6-461b-8ee1-034479131d29",
   "metadata": {},
   "source": [
    "## t-SNE vs PCA"
   ]
  },
  {
   "cell_type": "code",
   "id": "29d6ae50-7582-4c8b-a37a-4e245e214f96",
   "metadata": {},
   "source": [
    "show_multiple_projections_with_slider(\n",
    "    projections_list=[projections_pca_all, projections_tsne],\n",
    "    labels=results[\"subset_labels\"],\n",
    "    titles=[\"PCA on all\", \"t-SNE\"],\n",
    "    interpolate=True,\n",
    "    steps_per_transition=10,\n",
    "    figsize_per_plot=(5, 5),\n",
    "    shared_axes=False,\n",
    ")"
   ],
   "outputs": [],
   "execution_count": null
  },
  {
   "cell_type": "code",
   "id": "d26eaa07-c63e-4ef0-8c1d-63217def95fc",
   "metadata": {},
   "source": [
    "# ani_tsne = animate_projections(\n",
    "#     projections_tsne,\n",
    "#     labels=results[\"subset_labels\"],\n",
    "#     interpolate=True,\n",
    "#     steps_per_transition=2\n",
    "# )\n",
    "# HTML(ani_tsne.to_jshtml())"
   ],
   "outputs": [],
   "execution_count": null
  },
  {
   "cell_type": "markdown",
   "id": "5c7dc1ebcee5f13",
   "metadata": {},
   "source": [
    "## UMAP\n",
    "UMAP (Uniform Manifold Approximation and Projection) is a **faster** alternative to t-SNE that also **aims to preserve some global structure**."
   ]
  },
  {
   "cell_type": "code",
   "id": "6b703e7e-d2d2-4d69-bc9c-5bcacd6bdd5e",
   "metadata": {},
   "source": [
    "import warnings\n",
    "with warnings.catch_warnings():\n",
    "    warnings.filterwarnings(\"ignore\", category=FutureWarning)\n",
    "\n",
    "    projections_umap = generate_projections(\n",
    "        embeddings_list=results[\"subset_embeddings\"],\n",
    "        method='umap',\n",
    "        pca_fit_basis='last',\n",
    "        umap_n_neighbors=15,\n",
    "    )"
   ],
   "outputs": [],
   "execution_count": null
  },
  {
   "cell_type": "code",
   "id": "e4a1a5b7-e7ea-44dc-8d40-a21c94e1ef43",
   "metadata": {},
   "source": [
    "show_multiple_projections_with_slider(\n",
    "    projections_list=[projections_umap, projections_tsne],\n",
    "    labels=results[\"subset_labels\"],\n",
    "    titles=[\"UMAP\", \"t-SNE\"],\n",
    "    interpolate=False,\n",
    "    steps_per_transition=10,\n",
    "    figsize_per_plot=(5, 5),\n",
    "    shared_axes=False,\n",
    ")"
   ],
   "outputs": [],
   "execution_count": null
  },
  {
   "cell_type": "markdown",
   "id": "e78e6fe4-5ee7-427c-bfcf-6722dadc670b",
   "metadata": {},
   "source": [
    "## UMAP Initialization\n",
    "UMAP builds a graph-based representation of the data during `fit()`, learning the local and global structure (neighborhoods) in the `basis_data`. Once this structure is learned, it can be used to **transform new data** into the same low-dimensional space without retraining — unlike t-SNE, which must be refit every time.\n",
    "\n",
    "This makes UMAP more efficient and suitable for dynamic or streaming embeddings.\n",
    "\n",
    "IDEA: Fit not only on selection of test data?"
   ]
  },
  {
   "cell_type": "code",
   "id": "a591c6e5-5d1d-4083-8f00-418839b5a7ab",
   "metadata": {},
   "source": [
    "import warnings\n",
    "with warnings.catch_warnings():\n",
    "    warnings.filterwarnings(\"ignore\", category=FutureWarning)\n",
    "\n",
    "    projections_umap_first = generate_projections(\n",
    "        embeddings_list=results[\"subset_embeddings\"],\n",
    "        method='umap',\n",
    "        pca_fit_basis='first',\n",
    "        umap_n_neighbors=15,\n",
    "    )"
   ],
   "outputs": [],
   "execution_count": null
  },
  {
   "cell_type": "code",
   "id": "540100fe-5c85-4a1b-83f6-08f363ea6989",
   "metadata": {},
   "source": [
    "# Todo: Middle\n",
    "with warnings.catch_warnings():\n",
    "    warnings.filterwarnings(\"ignore\", category=FutureWarning)\n",
    "\n",
    "    projections_umap_first = generate_projections(\n",
    "        embeddings_list=results[\"subset_embeddings\"],\n",
    "        method='umap',\n",
    "        pca_fit_basis=int(len(results[\"subset_embeddings\"]) / 2),\n",
    "        umap_n_neighbors=15,\n",
    "    )"
   ],
   "outputs": [],
   "execution_count": null
  },
  {
   "cell_type": "code",
   "id": "cdd37acd-b652-4a1f-9164-63d0c0fa5087",
   "metadata": {},
   "source": [
    "show_multiple_projections_with_slider(\n",
    "    projections_list=[projections_umap, projections_umap_first],\n",
    "    labels=results[\"subset_labels\"],\n",
    "    titles=[\"UMAP\", \"UMAP on first\"],\n",
    "    interpolate=False,\n",
    "    steps_per_transition=10,\n",
    "    figsize_per_plot=(5, 5),\n",
    "    shared_axes=False,\n",
    ")"
   ],
   "outputs": [],
   "execution_count": null
  },
  {
   "cell_type": "markdown",
   "id": "2ed4336a-3d10-4e97-8a61-626be38a3217",
   "metadata": {},
   "source": [
    "## UMAP Hyperparameters\n",
    "#### Number of Neighbors\n",
    "Controls balance between local vs. global structure. (low = local, high = global)\n",
    "\n",
    "Usually `5`, `10`, **`15` (standard)**, `30`, `50`, `100`"
   ]
  },
  {
   "cell_type": "code",
   "id": "e382ec03-6230-4cd1-b1d9-53f451ac197c",
   "metadata": {},
   "source": [
    "with warnings.catch_warnings():\n",
    "    warnings.filterwarnings(\"ignore\", category=FutureWarning)\n",
    "\n",
    "    projections_umap_n_5 = generate_projections(\n",
    "        embeddings_list=results[\"subset_embeddings\"],\n",
    "        method='umap',\n",
    "        pca_fit_basis='last',\n",
    "        umap_n_neighbors=5,\n",
    "    )\n",
    "\n",
    "    projections_umap_n_50 = generate_projections(\n",
    "        embeddings_list=results[\"subset_embeddings\"],\n",
    "        method='umap',\n",
    "        pca_fit_basis='last',\n",
    "        umap_n_neighbors=50,\n",
    "    )\n",
    "\n",
    "    projections_umap_n_100 = generate_projections(\n",
    "        embeddings_list=results[\"subset_embeddings\"],\n",
    "        method='umap',\n",
    "        pca_fit_basis='last',\n",
    "        umap_n_neighbors=100,\n",
    "    )"
   ],
   "outputs": [],
   "execution_count": null
  },
  {
   "cell_type": "code",
   "id": "fcf262c8-fe65-4602-a1bd-bf9e5d06f89b",
   "metadata": {},
   "source": [
    "projections_umap_n_15 = projections_umap"
   ],
   "outputs": [],
   "execution_count": null
  },
  {
   "cell_type": "code",
   "id": "da33a37d-66fd-4b4a-ba5d-dc79d45c2ba7",
   "metadata": {},
   "source": [
    "show_multiple_projections_with_slider(\n",
    "    projections_list=[projections_umap_n_5, projections_umap_n_15, projections_umap_n_50, projections_umap_n_100],\n",
    "    labels=results[\"subset_labels\"],\n",
    "    titles=[\"UMAP 5 Neighbors\", \"UMAP 15 Neighbors\", \"UMAP 50 Neighbors\", \"UMAP 100 Neighbors\"],\n",
    "    figsize_per_plot=(4, 4),\n",
    "    dot_size=3,\n",
    "    shared_axes=False,\n",
    ")"
   ],
   "outputs": [],
   "execution_count": null
  },
  {
   "cell_type": "markdown",
   "id": "c707f784-6a1d-4e9b-ae9b-b202d483e6f0",
   "metadata": {},
   "source": [
    "#### Min Distance\n",
    "Controls how tightly UMAP packs points together in low-D space.\n",
    "- Lower = tighter clusters, less overlap.\n",
    "- Higher = looser structure, more space between points.\n",
    "\n",
    "Try values: `0.01`, `0.05`, **`0.1`** (standard), `0.3`, `0.5`, "
   ]
  },
  {
   "cell_type": "code",
   "id": "bd192076-bc6d-4896-9a21-1219644eabb8",
   "metadata": {},
   "source": [
    "with warnings.catch_warnings():\n",
    "    warnings.filterwarnings(\"ignore\", category=FutureWarning)\n",
    "\n",
    "    projections_umap_d_001 = generate_projections(\n",
    "        embeddings_list=results[\"subset_embeddings\"],\n",
    "        method='umap',\n",
    "        pca_fit_basis='last',\n",
    "        umap_n_neighbors=15,\n",
    "        umap_min_dist=0.01\n",
    "    )\n",
    "\n",
    "    projections_umap_d_01 = generate_projections(\n",
    "        embeddings_list=results[\"subset_embeddings\"],\n",
    "        method='umap',\n",
    "        pca_fit_basis='last',\n",
    "        umap_n_neighbors=15,\n",
    "        umap_min_dist=0.1\n",
    "    )\n",
    "\n",
    "    projections_umap_d_05 = generate_projections(\n",
    "        embeddings_list=results[\"subset_embeddings\"],\n",
    "        method='umap',\n",
    "        pca_fit_basis='last',\n",
    "        umap_n_neighbors=15,\n",
    "        umap_min_dist=0.5\n",
    "    )"
   ],
   "outputs": [],
   "execution_count": null
  },
  {
   "cell_type": "code",
   "id": "1f50b814-d1c2-467e-9f2d-c51ddacb629b",
   "metadata": {},
   "source": [
    "show_multiple_projections_with_slider(\n",
    "    projections_list=[projections_umap_d_001, projections_umap_d_01, projections_umap_d_05],\n",
    "    labels=results[\"subset_labels\"],\n",
    "    titles=[\"UMAP min_dist 0.01\", \"UMAP min_dist 0.1\", \"UMAP min_dist 0.5\"],\n",
    "    steps_per_transition=3,\n",
    "    figsize_per_plot=(4, 4),\n",
    "    dot_size=2,\n",
    ")"
   ],
   "outputs": [],
   "execution_count": null
  },
  {
   "cell_type": "markdown",
   "id": "77ed543e-2682-4d0a-8475-955819815c84",
   "metadata": {},
   "source": [
    "# Embedding Trajectory Visualization"
   ]
  },
  {
   "cell_type": "code",
   "id": "77652007-af62-41f9-8e48-5f656c22d626",
   "metadata": {},
   "source": [
    "%matplotlib widget\n",
    "show_with_slider_and_trajectories(\n",
    "    projections=projections_pca_all,\n",
    "    labels=results[\"subset_labels\"],\n",
    "    interpolate=True,\n",
    "    steps_per_transition=3,\n",
    "    figsize=(5, 5),\n",
    "    dot_size=5,\n",
    "    trail_length=10,\n",
    "    show_trajectories=True,\n",
    "    point_stride=1,\n",
    "    trail_filter='percentile',          # 'all', 'top_k', 'percentile'\n",
    "    trail_filter_value=10        # top-k count or top-X% percentile\n",
    ")"
   ],
   "outputs": [],
   "execution_count": null
  },
  {
   "cell_type": "code",
   "id": "ff0045c4-83d9-412d-a4e9-4b01f4a7cf86",
   "metadata": {},
   "source": [
    "%matplotlib widget\n",
    "show_with_slider_and_trajectories(\n",
    "    projections=projections_umap,\n",
    "    labels=results[\"subset_labels\"],\n",
    "    interpolate=True,\n",
    "    steps_per_transition=3,\n",
    "    figsize=(5, 5),\n",
    "    dot_size=5,\n",
    "    trail_length=4,\n",
    "    show_trajectories=True,\n",
    "    point_stride=1,\n",
    "    trail_filter='percentile',          # 'all', 'top_k', 'percentile'\n",
    "    trail_filter_value=10        # top-k count or top-X% percentile\n",
    ")"
   ],
   "outputs": [],
   "execution_count": null
  },
  {
   "cell_type": "code",
   "id": "30f79b31-7444-4661-b2d2-6d9418bd8dff",
   "metadata": {},
   "source": [
    "import matplotlib.pyplot as plt\n",
    "import numpy as np\n",
    "import ipywidgets as widgets\n",
    "from IPython.display import display\n",
    "\n",
    "def show_with_slider_and_trajectories(\n",
    "    projections,\n",
    "    labels,\n",
    "    figsize=(5, 5),\n",
    "    cmap='tab10',\n",
    "    dot_size=5,\n",
    "    alpha=0.5,\n",
    "    interpolate=False,\n",
    "    steps_per_transition=10,\n",
    "    show_trajectories=True,\n",
    "    trail_length=15,\n",
    "    point_stride=1,\n",
    "    trail_filter='all',          # 'all', 'top_k', 'percentile'\n",
    "    trail_filter_value=50        # top-k count or top-X% percentile\n",
    "):\n",
    "    # Interpolation\n",
    "    if interpolate:\n",
    "        projections_interp = []\n",
    "        for a, b in zip(projections[:-1], projections[1:]):\n",
    "            for alpha_step in np.linspace(0, 1, steps_per_transition, endpoint=False):\n",
    "                interp = (1 - alpha_step) * a + alpha_step * b\n",
    "                projections_interp.append(interp)\n",
    "        projections_interp.append(projections[-1])\n",
    "    else:\n",
    "        projections_interp = projections\n",
    "\n",
    "    projections = np.array(projections_interp)\n",
    "    n_frames, n_points, _ = projections.shape\n",
    "\n",
    "    # Select points by stride\n",
    "    indices = np.arange(0, n_points, point_stride)\n",
    "    n_active = len(indices)\n",
    "\n",
    "    # --- Compute total movement per point ---\n",
    "    displacements = np.linalg.norm(np.diff(projections, axis=0), axis=2)\n",
    "    total_movement = displacements.sum(axis=0)\n",
    "\n",
    "    # Determine which points to show tails for\n",
    "    if trail_filter == 'all':\n",
    "        tail_indices = set(indices)\n",
    "    elif trail_filter == 'top_k':\n",
    "        sorted_indices = np.argsort(total_movement)[::-1]\n",
    "        tail_indices = set(sorted_indices[:trail_filter_value])\n",
    "    elif trail_filter == 'percentile':\n",
    "        cutoff = np.percentile(total_movement, 100 - trail_filter_value)\n",
    "        tail_indices = set(np.where(total_movement >= cutoff)[0])\n",
    "    else:\n",
    "        raise ValueError(f\"Invalid trail_filter: {trail_filter}\")\n",
    "\n",
    "    # Setup figure\n",
    "    fig, ax = plt.subplots(figsize=figsize)\n",
    "    all_proj = np.concatenate(projections, axis=0)\n",
    "    max_abs = np.max(np.abs(all_proj))\n",
    "    ax.set_xlim(-max_abs, max_abs)\n",
    "    ax.set_ylim(-max_abs, max_abs)\n",
    "    ax.set_aspect('equal')\n",
    "    ax.set_xticks([])\n",
    "    ax.set_yticks([])\n",
    "\n",
    "    # Scatter\n",
    "    scatter = ax.scatter([], [], c=[], s=dot_size, cmap=cmap, alpha=alpha, zorder=2)\n",
    "\n",
    "    # Trails\n",
    "    trail_lines = []\n",
    "    if show_trajectories:\n",
    "        for i in indices:\n",
    "            segments = []\n",
    "            if i in tail_indices:\n",
    "                for _ in range(trail_length):\n",
    "                    line, = ax.plot([], [], lw=1.0, alpha=0.0, color='gray', zorder=1)\n",
    "                    segments.append(line)\n",
    "            trail_lines.append(segments)\n",
    "\n",
    "    # --- Update function ---\n",
    "    def update(frame_idx):\n",
    "        current_coords = projections[frame_idx][indices]\n",
    "        current_labels = np.array(labels[0])[indices]\n",
    "        scatter.set_offsets(current_coords)\n",
    "        scatter.set_array(current_labels)\n",
    "\n",
    "        if show_trajectories and frame_idx > 0:\n",
    "            for i, point_idx in enumerate(indices):\n",
    "                segments = trail_lines[i]\n",
    "                if not segments:  # point wasn't selected for trail\n",
    "                    continue\n",
    "                for j in range(trail_length):\n",
    "                    t = frame_idx - j - 1\n",
    "                    if t < 0:\n",
    "                        segments[j].set_alpha(0.0)\n",
    "                        continue\n",
    "                    p1 = projections[t, point_idx]\n",
    "                    p2 = projections[t + 1, point_idx]\n",
    "                    segments[j].set_data([p1[0], p2[0]], [p1[1], p2[1]])\n",
    "                    \n",
    "                    # Fade oldest segment the most\n",
    "                    alpha = (trail_length - j) / trail_length * 0.5\n",
    "                    segments[j].set_alpha(alpha)\n",
    "                    \n",
    "        fig.canvas.draw_idle()\n",
    "\n",
    "    # --- Slider widgets ---\n",
    "    slider = widgets.Play(min=0, max=n_frames - 1, step=1)\n",
    "    slider_control = widgets.IntSlider(min=0, max=n_frames - 1, step=1)\n",
    "    widgets.jslink((slider, 'value'), (slider_control, 'value'))\n",
    "\n",
    "    out = widgets.interactive_output(update, {'frame_idx': slider_control})\n",
    "    display(widgets.VBox([widgets.HBox([slider, slider_control]), out]))\n"
   ],
   "outputs": [],
   "execution_count": null
  },
  {
   "cell_type": "markdown",
   "id": "58ccc782-ca4f-42e0-b048-45708d3b2c58",
   "metadata": {},
   "source": [
    "# Video Export"
   ]
  },
  {
   "cell_type": "code",
   "id": "741e99c772c94f77",
   "metadata": {},
   "source": [
    "# === Save as MP4 (with ffmpeg) ===\n",
    "model_name = model._get_name()\n",
    "lr = learning_rate\n",
    "base_name = f\"tsne_{model_name}_e{epochs}_lr{lr:.0e}\"\n",
    "i = 1\n",
    "while os.path.exists(f\"{base_name}_{i:03}.mp4\"):\n",
    "    i += 1\n",
    "filename = f\"{base_name}_{i:03}.mp4\"\n",
    "\n",
    "ani.save(filename, writer='ffmpeg', dpi=150)\n",
    "print(f\"Saved animation as {filename}\")"
   ],
   "outputs": [],
   "execution_count": null
  },
  {
   "cell_type": "code",
   "id": "5d91cfe35e646f63",
   "metadata": {},
   "source": [
    "import os\n",
    "\n",
    "# === Define experiment info ===\n",
    "model_name = model._get_name()\n",
    "# Build a base name with settings\n",
    "base_name = f\"tsne_{model_name}_e{epochs}_lr{learning_rate:.0e}\"  # e.g., tsne_MLP_e10_lr1e-03\n",
    "\n",
    "# Auto-increment file index\n",
    "i = 1\n",
    "while os.path.exists(f\"{base_name}_{i:03}.gif\"):\n",
    "    i += 1\n",
    "filename = f\"{base_name}_{i:03}.gif\"\n",
    "\n",
    "# Save the animation\n",
    "ani.save(filename, writer='pillow')\n",
    "print(f\"Saved animation as {filename}\")"
   ],
   "outputs": [],
   "execution_count": null
  },
  {
   "cell_type": "code",
   "id": "96c02c8df66f4e24",
   "metadata": {},
   "source": [],
   "outputs": [],
   "execution_count": null
  },
  {
   "cell_type": "markdown",
   "id": "ec1b2a3e2c08b143",
   "metadata": {},
   "source": [
    "# Video Animation"
   ]
  },
  {
   "cell_type": "code",
   "id": "74b54248103e3706",
   "metadata": {},
   "source": [
    "import numpy as np\n",
    "import matplotlib.pyplot as plt\n",
    "import matplotlib.animation as animation\n",
    "from sklearn.manifold import TSNE\n",
    "import os\n",
    "\n",
    "# === Interpolation between t-SNE results ===\n",
    "def interpolate_tsne(embeddings_list, steps=10):\n",
    "    interpolated = []\n",
    "    for a, b in zip(embeddings_list[:-1], embeddings_list[1:]):\n",
    "        for alpha in np.linspace(0, 1, steps, endpoint=False):\n",
    "            interp = (1 - alpha) * a + alpha * b\n",
    "            interpolated.append(interp)\n",
    "    interpolated.append(embeddings_list[-1])  # include final frame\n",
    "    return interpolated\n",
    "\n",
    "# === Compute t-SNE per epoch using selected_indices ===\n",
    "tsne_results = []\n",
    "\n",
    "# Epoch 0\n",
    "tsne = TSNE(n_components=2, init='pca', random_state=42)\n",
    "result = tsne.fit_transform(embeddings[0][selected_indices])\n",
    "tsne_results.append(result)\n",
    "\n",
    "# Subsequent epochs\n",
    "for epoch in range(1, len(embeddings)):\n",
    "    tsne = TSNE(n_components=2, init=tsne_results[-1], random_state=42)\n",
    "    result = tsne.fit_transform(embeddings[epoch][selected_indices])\n",
    "    tsne_results.append(result)\n",
    "\n",
    "# === Interpolate between epochs ===\n",
    "tsne_results_interp = interpolate_tsne(tsne_results, steps=5)\n",
    "\n",
    "# === Animation setup ===\n",
    "fig, ax = plt.subplots(figsize=(8, 8))\n",
    "scatter = ax.scatter([], [], cmap='tab10', alpha=0.7)\n",
    "ax.set_xlim(-100, 100)\n",
    "ax.set_ylim(-100, 100)\n",
    "ax.set_xlabel('t-SNE Dimension 1')\n",
    "ax.set_ylabel('t-SNE Dimension 2')\n",
    "title = ax.set_title('t-SNE Embedding Evolution')\n",
    "\n",
    "def update(frame):\n",
    "    scatter.set_offsets(tsne_results_interp[frame])\n",
    "    scatter.set_array(sampled_labels)\n",
    "    title.set_text(f't-SNE Embedding Evolution – Frame {frame + 1}')\n",
    "    return scatter,\n",
    "\n",
    "ani = animation.FuncAnimation(fig, update, frames=len(tsne_results_interp), interval=100, blit=True)"
   ],
   "outputs": [],
   "execution_count": null
  },
  {
   "cell_type": "code",
   "id": "a8c1511fca0efa43",
   "metadata": {},
   "source": [
    "from IPython.display import HTML\n",
    "HTML(ani.to_jshtml())"
   ],
   "outputs": [],
   "execution_count": null
  },
  {
   "cell_type": "code",
   "id": "4acbea804df37a58",
   "metadata": {},
   "source": [
    "# === Save as MP4 (with ffmpeg) ===\n",
    "model_name = model._get_name()\n",
    "lr = learning_rate\n",
    "base_name = f\"tsne_{model_name}_e{epochs}_lr{lr:.0e}\"\n",
    "i = 1\n",
    "while os.path.exists(f\"{base_name}_{i:03}.mp4\"):\n",
    "    i += 1\n",
    "filename = f\"{base_name}_{i:03}.mp4\"\n",
    "\n",
    "ani.save(filename, writer='ffmpeg', dpi=150)\n",
    "print(f\"Saved animation as {filename}\")"
   ],
   "outputs": [],
   "execution_count": null
  },
  {
   "cell_type": "code",
   "id": "8e0595b9406907d9",
   "metadata": {},
   "source": [],
   "outputs": [],
   "execution_count": null
  },
  {
   "cell_type": "code",
   "id": "3dca10d6150d90b2",
   "metadata": {},
   "source": [],
   "outputs": [],
   "execution_count": null
  }
 ],
 "metadata": {
  "kernelspec": {
   "display_name": "Python 3 (ipykernel)",
   "language": "python",
   "name": "python3"
  },
  "language_info": {
   "codemirror_mode": {
    "name": "ipython",
    "version": 3
   },
   "file_extension": ".py",
   "mimetype": "text/x-python",
   "name": "python",
   "nbconvert_exporter": "python",
   "pygments_lexer": "ipython3",
   "version": "3.10.12"
  }
 },
 "nbformat": 4,
 "nbformat_minor": 5
}
