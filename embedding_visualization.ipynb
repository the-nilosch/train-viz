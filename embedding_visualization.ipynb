{
 "cells": [
  {
   "cell_type": "markdown",
   "id": "5a718503b0efeb06",
   "metadata": {},
   "source": [
    "# Embedding Visualization"
   ]
  },
  {
   "cell_type": "markdown",
   "id": "8043e15e-f487-4c9d-af48-1d243bb4de3a",
   "metadata": {},
   "source": [
    "## Import Data"
   ]
  },
  {
   "metadata": {},
   "cell_type": "code",
   "source": [
    "import torch\n",
    "import torch.nn as nn\n",
    "import torch.nn.functional as F\n",
    "import matplotlib.pyplot as plt\n",
    "from sklearn.manifold import TSNE\n",
    "import numpy as np\n",
    "import random"
   ],
   "id": "9a7f7f75fb0f0a27",
   "outputs": [],
   "execution_count": null
  },
  {
   "cell_type": "code",
   "id": "acb1112d-2e44-4e2d-a3c1-447bb79e76e7",
   "metadata": {},
   "source": "run = \"cifar10_ViT_128_0.6311\"",
   "outputs": [],
   "execution_count": null
  },
  {
   "cell_type": "code",
   "id": "1f9069f3b27bec4",
   "metadata": {},
   "source": [
    "from data_manager import load_training_data\n",
    "\n",
    "results = load_training_data(run)\n",
    "results[\"embedding_drifts\"] = {int(k): v for k, v in results[\"embedding_drifts\"].items()}"
   ],
   "outputs": [],
   "execution_count": null
  },
  {
   "metadata": {},
   "cell_type": "markdown",
   "source": "## Visualize Training",
   "id": "1aed3bbcc1aedeb1"
  },
  {
   "metadata": {},
   "cell_type": "code",
   "source": "results.keys()",
   "id": "7860362b01bfe980",
   "outputs": [],
   "execution_count": null
  },
  {
   "metadata": {},
   "cell_type": "code",
   "source": [
    "from train_viz import _plot_loss_accuracy, _plot_gradients, _plot_embedding_drift\n",
    "\n",
    "fig, axs = plt.subplots(2, 2, figsize=(10, 8))\n",
    "epochs = len(results[\"train_losses\"])\n",
    "_plot_loss_accuracy(axs[0][0], epochs-1, epochs, results[\"train_losses\"], results[\"val_losses\"], results[\"train_accuracies\"], results[\"val_accuracies\"])\n",
    "_plot_gradients(axs[0][1], range(0, len(results[\"gradient_norms\"])),results[\"gradient_norms\"], results[\"max_gradients\"], results[\"grad_param_ratios\"], 20)\n",
    "_plot_embedding_drift(axs[1][0], results[\"embedding_drifts\"])"
   ],
   "id": "c3162757bed44022",
   "outputs": [],
   "execution_count": null
  },
  {
   "metadata": {},
   "cell_type": "code",
   "source": [
    "%matplotlib widget\n",
    "from train_viz import _plot_embedding_drift\n",
    "\n",
    "embedding_drifts = results[\"embedding_drifts\"].copy()\n",
    "fig, axs = plt.subplots(1, 1, figsize=(10, 4))\n",
    "\n",
    "# Plot 2x Drifts\n",
    "axs.plot(range(1, len(embedding_drifts[1]) + 1), np.array(embedding_drifts[1]) * 2, color=\"green\", label=\"2x Drift 1\", alpha=0.3)\n",
    "axs.plot(range(1, len(embedding_drifts[2]) + 1), np.array(embedding_drifts[2]) * 2, color=\"blue\", label=\"2x Drift 2\", alpha=0.3)\n",
    "axs.plot(range(1, len(embedding_drifts[4]) + 1), np.array(embedding_drifts[4]) * 2, color=\"orange\", label=\"2x Drift 2\", alpha=0.3)\n",
    "axs.plot(range(1, len(embedding_drifts[8]) + 1), np.array(embedding_drifts[8]) * 2, color=\"red\", label=\"2x Drift 2\", alpha=0.3)\n",
    "_plot_embedding_drift(axs, embedding_drifts)\n",
    "\n",
    "plt.legend()\n",
    "plt.show()"
   ],
   "id": "77560e55ca0c21fa",
   "outputs": [],
   "execution_count": null
  },
  {
   "metadata": {},
   "cell_type": "code",
   "source": "",
   "id": "bbdfdc0a0d65a0b0",
   "outputs": [],
   "execution_count": null
  }
 ],
 "metadata": {
  "kernelspec": {
   "display_name": "Python 3 (ipykernel)",
   "language": "python",
   "name": "python3"
  },
  "language_info": {
   "codemirror_mode": {
    "name": "ipython",
    "version": 3
   },
   "file_extension": ".py",
   "mimetype": "text/x-python",
   "name": "python",
   "nbconvert_exporter": "python",
   "pygments_lexer": "ipython3",
   "version": "3.10.12"
  }
 },
 "nbformat": 4,
 "nbformat_minor": 5
}
