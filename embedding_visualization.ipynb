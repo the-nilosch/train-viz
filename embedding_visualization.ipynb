{
 "cells": [
  {
   "cell_type": "markdown",
   "id": "5a718503b0efeb06",
   "metadata": {},
   "source": [
    "# Embedding Visualization"
   ]
  },
  {
   "cell_type": "markdown",
   "id": "8043e15e-f487-4c9d-af48-1d243bb4de3a",
   "metadata": {},
   "source": [
    "## Import Data"
   ]
  },
  {
   "cell_type": "code",
   "id": "9a7f7f75fb0f0a27",
   "metadata": {
    "jupyter": {
     "is_executing": true
    }
   },
   "source": [
    "import torch\n",
    "import torch.nn as nn\n",
    "import torch.nn.functional as F\n",
    "import matplotlib.pyplot as plt\n",
    "from sklearn.manifold import TSNE\n",
    "import numpy as np\n",
    "import random"
   ],
   "outputs": [],
   "execution_count": null
  },
  {
   "cell_type": "code",
   "id": "acb1112d-2e44-4e2d-a3c1-447bb79e76e7",
   "metadata": {},
   "source": [
    "# ==== MNIST ========\n",
    "#run = \"mnist_MLP_32_0.9595\"\n",
    "\n",
    "# ==== CIFAR 10 ========\n",
    "\n",
    "#run = \"cifar10_MLP_128_0.5672\"\n",
    "\n",
    "run = \"cifar10_CNN_128_0.8977\"\n",
    "\n",
    "#run = \"cifar10_ViT_128_0.6311\"\n",
    "#run = \"cifar10_ViT_128_0.6530\""
   ],
   "outputs": [],
   "execution_count": null
  },
  {
   "cell_type": "code",
   "id": "1f9069f3b27bec4",
   "metadata": {},
   "source": [
    "from data_manager import load_training_data\n",
    "\n",
    "results = load_training_data(run)\n",
    "results[\"embedding_drifts\"] = {int(k): results[\"embedding_drifts\"][k] for k in sorted(results[\"embedding_drifts\"].keys(), key=int)}"
   ],
   "outputs": [],
   "execution_count": null
  },
  {
   "cell_type": "markdown",
   "id": "1aed3bbcc1aedeb1",
   "metadata": {},
   "source": [
    "## Visualize Training"
   ]
  },
  {
   "cell_type": "code",
   "id": "c3162757bed44022",
   "metadata": {
    "scrolled": true
   },
   "source": [
    "from train_viz import _plot_loss_accuracy, _plot_gradients, _plot_embedding_drift\n",
    "\n",
    "#fig, axs = plt.subplots(2, 2, figsize=(10, 8))\n",
    "#epochs = len(results[\"train_losses\"])\n",
    "#_plot_loss_accuracy(axs[0][0], epochs-1, epochs, results[\"train_losses\"], results[\"val_losses\"], results[\"train_accuracies\"], results[\"val_accuracies\"])\n",
    "#_plot_gradients(axs[0][1], range(0, len(results[\"gradient_norms\"])),results[\"gradient_norms\"], results[\"max_gradients\"], results[\"grad_param_ratios\"], 20)\n",
    "#_plot_embedding_drift(axs[1][0], results[\"embedding_drifts\"])"
   ],
   "outputs": [],
   "execution_count": null
  },
  {
   "cell_type": "code",
   "id": "77560e55ca0c21fa",
   "metadata": {},
   "source": [
    "%matplotlib widget\n",
    "from train_viz import _plot_embedding_drift\n",
    "\n",
    "embedding_drifts = results[\"embedding_drifts\"].copy()\n",
    "# fig, axs = plt.subplots(1, 1, figsize=(10, 4))\n",
    "\n",
    "# Plot 2x Drifts\n",
    "# axs.plot(range(1, len(embedding_drifts[1]) + 1), np.array(embedding_drifts[1]) * 2, color=\"green\", label=\"2x Drift 1\", alpha=0.3)\n",
    "# axs.plot(range(1, len(embedding_drifts[2]) + 1), np.array(embedding_drifts[2]) * 2, color=\"blue\", label=\"2x Drift 2\", alpha=0.3)\n",
    "# axs.plot(range(1, len(embedding_drifts[4]) + 1), np.array(embedding_drifts[4]) * 2, color=\"orange\", label=\"2x Drift 2\", alpha=0.3)\n",
    "# axs.plot(range(1, len(embedding_drifts[8]) + 1), np.array(embedding_drifts[8]) * 2, color=\"red\", label=\"2x Drift 2\", alpha=0.3)\n",
    "# _plot_embedding_drift(axs, embedding_drifts)\n",
    "# \n",
    "# plt.legend()\n",
    "# plt.show()"
   ],
   "outputs": [],
   "execution_count": null
  },
  {
   "cell_type": "markdown",
   "id": "0bbd2ae9-66b7-4acd-abf2-d12a28a3699b",
   "metadata": {},
   "source": [
    "# Visualizations PCA"
   ]
  },
  {
   "cell_type": "code",
   "id": "50f60595-3b4b-4519-b6bb-f2903735f737",
   "metadata": {},
   "source": [
    "from train_viz import generate_projections, animate_projections, show_with_slider, show_multiple_projections_with_slider, visualization_drift_vs_embedding_drift"
   ],
   "outputs": [],
   "execution_count": null
  },
  {
   "cell_type": "code",
   "id": "bbdfdc0a0d65a0b0",
   "metadata": {},
   "source": [
    "projections_pca_first = generate_projections(\n",
    "    embeddings_list=results[\"subset_embeddings\"],\n",
    "    method='pca',\n",
    "    pca_fit_basis='first',\n",
    ")\n",
    "projections_pca_last = generate_projections(\n",
    "    embeddings_list=results[\"subset_embeddings\"],\n",
    "    method='pca',\n",
    "    pca_fit_basis='last',\n",
    ")\n",
    "projections_pca_all = generate_projections(\n",
    "    embeddings_list=results[\"subset_embeddings\"],\n",
    "    method='pca',\n",
    "    pca_fit_basis='all',\n",
    ")"
   ],
   "outputs": [],
   "execution_count": null
  },
  {
   "cell_type": "code",
   "id": "b892093a-f739-48f8-a02f-1155032050c3",
   "metadata": {},
   "source": [],
   "outputs": [],
   "execution_count": null
  },
  {
   "cell_type": "code",
   "id": "fb57ff24-549b-460f-9016-cb0cef227687",
   "metadata": {},
   "source": [
    "projections_pca_window = generate_projections(\n",
    "    embeddings_list=results[\"subset_embeddings\"],\n",
    "    method='pca',\n",
    "    pca_fit_basis='window',\n",
    "    window_size=20,\n",
    ")"
   ],
   "outputs": [],
   "execution_count": null
  },
  {
   "cell_type": "code",
   "id": "9ccd4186-83d7-4d9e-bb18-b3a84def0cff",
   "metadata": {},
   "source": [
    "show_with_slider(\n",
    "    projections_pca_window,\n",
    "    labels=results[\"subset_labels\"],\n",
    "    interpolate=True,\n",
    "    steps_per_transition=2,\n",
    ")"
   ],
   "outputs": [],
   "execution_count": null
  },
  {
   "cell_type": "code",
   "id": "0e852934-5ddf-4f7d-801e-3b076855d3ec",
   "metadata": {},
   "source": [
    "show_multiple_projections_with_slider(\n",
    "    projections_list=[projections_pca_first, projections_pca_last, projections_pca_all, projections_pca_window],\n",
    "    labels=results[\"subset_labels\"],\n",
    "    titles=[\"PCA on first\", \"PCA on last\", \"PCA on all\", \"PCA sliding window\"],\n",
    "    interpolate=True,\n",
    "    steps_per_transition=1,\n",
    "    figsize_per_plot=(4, 4),\n",
    ")"
   ],
   "outputs": [],
   "execution_count": null
  },
  {
   "cell_type": "code",
   "id": "540c6ff0-740e-4572-8701-87e29778428c",
   "metadata": {},
   "source": [
    "visualization_drift_vs_embedding_drift(projections_pca_window, embedding_drifts)"
   ],
   "outputs": [],
   "execution_count": null
  },
  {
   "cell_type": "code",
   "id": "934c08f1-10a9-472c-b8e3-742a70e0d44e",
   "metadata": {},
   "source": [
    "import matplotlib\n",
    "matplotlib.pyplot.close()"
   ],
   "outputs": [],
   "execution_count": null
  },
  {
   "cell_type": "code",
   "id": "d577d0ad-720c-47f6-8bda-6c582fcc5103",
   "metadata": {},
   "source": [
    "from train_viz import _calculate_embedding_drift\n",
    "\n",
    "def adjust_visualization_speed(projections, embedding_drifts, drift_key):\n",
    "    \"\"\"\n",
    "    Adjusts the visualization movement speed iteratively to align with the maximum movement of a specified drift.\n",
    "\n",
    "    Args:\n",
    "        projections (list of np.ndarray): Low-dimensional projections.\n",
    "        embedding_drifts (dict of np.ndarray): High-dimensional embedding drift values.\n",
    "        target_drift_key (str): Key in embedding_drifts to use as the reference for speed adjustment.\n",
    "\n",
    "    Returns:\n",
    "        list of np.ndarray: Adjusted projections with aligned speed.\n",
    "    \"\"\"\n",
    "    # Extract the target drift\n",
    "    target_drift = np.asarray(embedding_drifts[drift_key]).flatten()\n",
    "    scaling_difference = np.mean(_calculate_embedding_drift(projections)[drift_key][drift_key-1:] / embedding_drifts[drift_key][drift_key-1:])\n",
    "    print(f\"Scaling difference: {scaling_difference}\")\n",
    "    \n",
    "    # Apply scaling iteratively\n",
    "    adjusted_projections = projections[0:drift_key]  # Start with the first projection as-is\n",
    "    changes = 0\n",
    "    for i in range(drift_key, len(projections)):\n",
    "        # Calculate drift for this step\n",
    "        current_drift = projections[i] - adjusted_projections[-1]\n",
    "        vis_drift_step = np.linalg.norm(current_drift, axis=1).mean()\n",
    "        target_drift_step = np.abs(target_drift[i - 1])  # Reference target drift for this step\n",
    "\n",
    "        # Determine scaling factor\n",
    "        if vis_drift_step == 0 or vis_drift_step < target_drift_step * scaling_difference:\n",
    "            scaling_factor = 1.0\n",
    "        else:\n",
    "            scaling_factor = target_drift_step / vis_drift_step * scaling_difference\n",
    "            changes += 1\n",
    "            #print(f\"{i}: {vis_drift_step} > {target_drift_step}\")\n",
    "            #print(scaling_factor)\n",
    "\n",
    "        # Apply scaling and update\n",
    "        adjusted_step = adjusted_projections[-1] + current_drift * scaling_factor\n",
    "        adjusted_projections.append(adjusted_step)\n",
    "        \n",
    "    print(f\"{changes / len(adjusted_projections)}% changes ({changes})\")\n",
    "    return adjusted_projections"
   ],
   "outputs": [],
   "execution_count": null
  },
  {
   "cell_type": "code",
   "id": "912e4688-a420-4fdc-b8ff-b8bdc1fe29c0",
   "metadata": {},
   "source": [
    "adapted = adjust_visualization_speed(projections_pca_window, embedding_drifts, 1)"
   ],
   "outputs": [],
   "execution_count": null
  },
  {
   "cell_type": "code",
   "id": "0976402c-8a1a-4a4b-b25b-3c1085feeea0",
   "metadata": {},
   "source": [
    "visualization_drift_vs_embedding_drift(adapted, embedding_drifts)"
   ],
   "outputs": [],
   "execution_count": null
  },
  {
   "cell_type": "code",
   "id": "4a6d1498-1575-479b-918b-2718bb15adab",
   "metadata": {},
   "source": [
    "show_multiple_projections_with_slider(\n",
    "    projections_list=[projections_pca_window, adapted],\n",
    "    labels=results[\"subset_labels\"],\n",
    "    titles=[\"PCA sliding window\", \"slowed\"],\n",
    "    interpolate=False,\n",
    "    steps_per_transition=2,\n",
    "    figsize_per_plot=(4, 4),\n",
    ")"
   ],
   "outputs": [],
   "execution_count": null
  },
  {
   "cell_type": "code",
   "id": "4462f544-dc07-437e-a044-bd7d2970f908",
   "metadata": {},
   "source": [
    "denoised = denoise_projections(adapted, window_size=5, blend=1)"
   ],
   "outputs": [],
   "execution_count": null
  },
  {
   "cell_type": "code",
   "id": "2fa84aa3-9d18-4e28-8809-cddd8fff7acf",
   "metadata": {},
   "source": [
    "show_multiple_projections_with_slider(\n",
    "    projections_list=[projections_pca_window, adapted, denoised],\n",
    "    labels=results[\"subset_labels\"],\n",
    "    titles=[\"PCA sliding window\", \"adapted\", \"adapted+denoised\"],\n",
    "    interpolate=False,\n",
    "    figsize_per_plot=(4, 4),\n",
    ")"
   ],
   "outputs": [],
   "execution_count": null
  },
  {
   "cell_type": "code",
   "id": "806a0dd8-c141-4c2c-9ffa-674bbd8146e5",
   "metadata": {},
   "source": [
    "visualization_drift_vs_embedding_drift(projections_pca_window_denoised, embedding_drifts)"
   ],
   "outputs": [],
   "execution_count": null
  },
  {
   "cell_type": "markdown",
   "id": "b69e7fb1-b764-4e82-8636-740d1d0bb4b0",
   "metadata": {},
   "source": [
    "# t-SNE Visualization"
   ]
  },
  {
   "cell_type": "code",
   "id": "851a7c6a-4a82-4bb4-8ae2-7c67d3cc223a",
   "metadata": {},
   "source": [
    "projections_tsne = generate_projections(\n",
    "    embeddings_list=results[\"subset_embeddings\"],\n",
    "    method='tsne',\n",
    ")"
   ],
   "outputs": [],
   "execution_count": null
  },
  {
   "cell_type": "code",
   "id": "799e3c83-35e9-4133-8c5c-18dfdfeb8d19",
   "metadata": {},
   "source": [
    "show_multiple_projections_with_slider(\n",
    "    projections_list=[denoised, projections_tsne],\n",
    "    labels=results[\"subset_labels\"],\n",
    "    titles=[\"PCA\", \"t-SNE\"],\n",
    "    interpolate=True,\n",
    "    steps_per_transition=2,\n",
    "    figsize_per_plot=(5, 5),\n",
    "    shared_axes=False,\n",
    ")"
   ],
   "outputs": [],
   "execution_count": null
  },
  {
   "cell_type": "code",
   "id": "1d0dd05f-88e8-46e0-a5f4-056ccf2ddaff",
   "metadata": {},
   "source": [
    "visualization_drift_vs_embedding_drift(projections_tsne, embedding_drifts)"
   ],
   "outputs": [],
   "execution_count": null
  },
  {
   "cell_type": "code",
   "id": "09adc725-1bd2-400f-ae72-046a15a09b5b",
   "metadata": {},
   "source": [
    "adapted_tsne = adjust_visualization_speed(projections_tsne, embedding_drifts, 1)"
   ],
   "outputs": [],
   "execution_count": null
  },
  {
   "cell_type": "code",
   "id": "aaea932b-041b-4447-961d-e1c215772c31",
   "metadata": {},
   "source": [
    "denoised_tsne = denoise_projections(adapted_tsne, window_size=5, blend=1)"
   ],
   "outputs": [],
   "execution_count": null
  },
  {
   "cell_type": "code",
   "id": "3a115049-8ef5-479e-afb2-5b3b87766ee4",
   "metadata": {},
   "source": [
    "show_multiple_projections_with_slider(\n",
    "    projections_list=[denoised, denoised_tsne, projections_tsne],\n",
    "    labels=results[\"subset_labels\"],\n",
    "    titles=[\"PCA\", \"t-SNE slowed\", \"t-SNE\"],\n",
    "    interpolate=False,\n",
    "    steps_per_transition=1,\n",
    "    figsize_per_plot=(5, 5),\n",
    "    shared_axes=False,\n",
    ")"
   ],
   "outputs": [],
   "execution_count": null
  },
  {
   "cell_type": "code",
   "id": "ce924bba-7cff-41d5-a92b-4ebaba98ea41",
   "metadata": {},
   "source": [
    "visualization_drift_vs_embedding_drift(denoised_tsne, embedding_drifts)"
   ],
   "outputs": [],
   "execution_count": null
  },
  {
   "cell_type": "code",
   "id": "9106d350-ac67-48d5-873f-ee67c4b1b2e4",
   "metadata": {},
   "source": [],
   "outputs": [],
   "execution_count": null
  }
 ],
 "metadata": {
  "kernelspec": {
   "display_name": "Python 3 (ipykernel)",
   "language": "python",
   "name": "python3"
  },
  "language_info": {
   "codemirror_mode": {
    "name": "ipython",
    "version": 3
   },
   "file_extension": ".py",
   "mimetype": "text/x-python",
   "name": "python",
   "nbconvert_exporter": "python",
   "pygments_lexer": "ipython3",
   "version": "3.10.12"
  }
 },
 "nbformat": 4,
 "nbformat_minor": 5
}
