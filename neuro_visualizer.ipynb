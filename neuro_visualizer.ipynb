{
 "cells": [
  {
   "cell_type": "markdown",
   "id": "f5326ecff0764644",
   "metadata": {
    "collapsed": false
   },
   "source": [
    "# Neuro-Visualizer\n",
    "(Run beginning always)"
   ]
  },
  {
   "cell_type": "code",
   "id": "initial_id",
   "metadata": {},
   "source": [
    "import os\n",
    "import torch\n",
    "from torch import nn\n",
    "\n",
    "from NeuroVisualizer.neuro_aux.AEmodel import UniformAutoencoder\n",
    "from NeuroVisualizer.neuro_aux.utils import get_files\n",
    "\n",
    "from helper.neuro_viz import get_dataloader_flat"
   ],
   "outputs": [],
   "execution_count": null
  },
  {
   "cell_type": "code",
   "id": "fcbb44e41502b669",
   "metadata": {
    "collapsed": false
   },
   "source": [
    "run = \"run-0011-CNN_mnist_32_0.9776\"\n",
    "dataset_name = 'mnist'\n",
    "model_name = 'CNN'\n",
    "\n",
    "from helper.data_manager import load_training_data\n",
    "\n",
    "results = load_training_data(run)"
   ],
   "outputs": [],
   "execution_count": null
  },
  {
   "metadata": {},
   "cell_type": "code",
   "source": [
    "print(results.keys())\n",
    "print(results[\"ll_flattened_weights_dir\"])\n",
    "print(results[\"model_info\"])\n",
    "print(results[\"train_config\"])"
   ],
   "id": "479f506232546375",
   "outputs": [],
   "execution_count": null
  },
  {
   "cell_type": "code",
   "id": "6035cac7-16bf-49e4-911d-58b68b9738e3",
   "metadata": {},
   "source": [
    "#results[\"ll_flattened_weights_dir\"] = 'run-0001'\n",
    "\n",
    "run_id = results[\"ll_flattened_weights_dir\"]\n",
    "print(run_id)\n",
    "\n",
    "model_file = f'ae_models/{run_id}.pt'\n",
    "model_folder = f\"trainings/{run_id}\"\n",
    "\n",
    "val_losses = results[\"val_losses\"]"
   ],
   "outputs": [],
   "execution_count": null
  },
  {
   "cell_type": "code",
   "id": "4f5627ff7e507e37",
   "metadata": {
    "collapsed": false
   },
   "source": [
    "# Adjust this path to your folder\n",
    "\n",
    "pt_files = get_files(model_folder, prefix=\"model-\")\n",
    "print(f\"Found {len(pt_files)} checkpoint files.\")"
   ],
   "outputs": [],
   "execution_count": null
  },
  {
   "cell_type": "markdown",
   "id": "acb78a0bbfb31f46",
   "metadata": {
    "collapsed": false
   },
   "source": [
    "## Train AE Model\n",
    "Run this part to train an AE-Model"
   ]
  },
  {
   "cell_type": "code",
   "id": "27f3470dc9303199",
   "metadata": {
    "collapsed": false
   },
   "source": [
    "batch_size = 32 #4 - 32\n",
    "\n",
    "pt_files_subset = pt_files[:]\n",
    "loader, normalizer = get_dataloader_flat(pt_files_subset, batch_size)"
   ],
   "outputs": [],
   "execution_count": null
  },
  {
   "metadata": {},
   "cell_type": "code",
   "source": "torch.cuda.empty_cache()",
   "id": "da649f617d218fca",
   "outputs": [],
   "execution_count": null
  },
  {
   "cell_type": "code",
   "id": "2a8d44219a8c9983",
   "metadata": {
    "collapsed": false
   },
   "source": [
    "device = torch.device(\"cuda\" if torch.cuda.is_available() else \"cpu\")\n",
    "\n",
    "input_dim = loader.dataset[0].shape[0]\n",
    "print(f\"Input dimension: {input_dim}\")\n",
    "\n",
    "latent_dim = 2\n",
    "# Aggressive compression\n",
    "num_layers = 4\n",
    "h = [input_dim, 64, 32, 8]\n",
    "#h = [input_dim, 512, 128]  # Aggressive compression\n",
    "# h = [input_dim, 64, 32]  # Aggressive compression\n",
    "ae = UniformAutoencoder(input_dim, num_layers, latent_dim, h=h).to(device)\n",
    "\n",
    "#ae = UniformAutoencoder(input_dim, num_layers, latent_dim).to(device)"
   ],
   "outputs": [],
   "execution_count": null
  },
  {
   "metadata": {},
   "cell_type": "code",
   "source": [
    "total_params = sum(p.numel() for p in ae.parameters())\n",
    "trainable_params = sum(p.numel() for p in ae.parameters() if p.requires_grad)\n",
    "\n",
    "size_mb = total_params * 4 / (1024**2)\n",
    "\n",
    "print(f\"Total parameters: {total_params:,}\")\n",
    "print(f\"Trainable parameters: {trainable_params:,}\")\n",
    "print(f\"Approx. size: {size_mb:.2f} MB\")"
   ],
   "id": "a67b3302e2b82a1e",
   "outputs": [],
   "execution_count": null
  },
  {
   "cell_type": "code",
   "id": "42a34c750998a0b4",
   "metadata": {
    "collapsed": false
   },
   "source": [
    "from helper.neuro_viz import train_autoencoder\n",
    "\n",
    "num_epochs = 50\n",
    "\n",
    "trained_model = train_autoencoder(\n",
    "    model=ae,\n",
    "    train_loader=loader,\n",
    "    device=device,\n",
    "    save_path=model_file,\n",
    "    num_epochs=100,\n",
    "    lr=0.005, # 0.001\n",
    "    patience=15\n",
    ")"
   ],
   "outputs": [],
   "execution_count": null
  },
  {
   "cell_type": "code",
   "id": "555f91c87f59dfb3",
   "metadata": {
    "collapsed": false
   },
   "source": [
    "# Best models already saved\n",
    "# os.makedirs(\"ae_models\", exist_ok=True)\n",
    "# torch.save(ae.state_dict(), \"ae_models/ae_model_mlp_mnist.pt\")\n",
    "# print(\"AE saved.\")"
   ],
   "outputs": [],
   "execution_count": null
  },
  {
   "cell_type": "markdown",
   "id": "98f04cc2b2a5a865",
   "metadata": {
    "collapsed": false
   },
   "source": [
    "## Visualize Trajectory"
   ]
  },
  {
   "cell_type": "code",
   "id": "570c59ac3e986644",
   "metadata": {
    "collapsed": false
   },
   "source": [
    "import os\n",
    "import torch\n",
    "import numpy as np\n",
    "import matplotlib.pyplot as plt\n",
    "\n",
    "from NeuroVisualizer.neuro_aux.AEmodel import UniformAutoencoder\n",
    "from NeuroVisualizer.neuro_aux.utils import get_files, repopulate_model\n",
    "from NeuroVisualizer.neuro_aux.trajectories_data import get_trajectory_dataloader"
   ],
   "outputs": [],
   "execution_count": null
  },
  {
   "cell_type": "code",
   "id": "a2a9a413afb8e33d",
   "metadata": {
    "collapsed": false
   },
   "source": [
    "batch_size = 4\n",
    "loss_name = 'test_loss'\n",
    "whichloss = 'mse' # this is CrossEntropyLoss\n",
    "device = torch.device(\"cuda\" if torch.cuda.is_available() else \"cpu\")"
   ],
   "outputs": [],
   "execution_count": null
  },
  {
   "cell_type": "code",
   "id": "20578face5ae73b",
   "metadata": {
    "collapsed": false,
    "scrolled": true
   },
   "source": [
    "# Get file list\n",
    "# pt_files = get_files(model_folder, prefix=\"model-\")\n",
    "\n",
    "# Load AE\n",
    "example_tensor = torch.load(pt_files[0], weights_only=True)\n",
    "input_dim = example_tensor.shape[0]\n",
    "latent_dim = 2\n",
    "num_layers = 4\n",
    "h = [input_dim, 64, 32, 8]\n",
    "\n",
    "ae_model = UniformAutoencoder(input_dim, num_layers, latent_dim, h=h).to(device)\n",
    "ae_model.load_state_dict(torch.load(model_file, weights_only=True))\n",
    "ae_model.eval()"
   ],
   "outputs": [],
   "execution_count": null
  },
  {
   "cell_type": "code",
   "id": "d9aac66468474164",
   "metadata": {
    "collapsed": false
   },
   "source": [
    "# ---- Load data ----\n",
    "from helper.neuro_viz import get_dataloader_flat\n",
    "\n",
    "trajectory_loader, transform = get_dataloader_flat(pt_files, batch_size, shuffle=False) #[:5] for Subset"
   ],
   "outputs": [],
   "execution_count": null
  },
  {
   "metadata": {},
   "cell_type": "markdown",
   "source": [
    "### Repopulate original Model Architecture\n",
    "**IMPORTANT: needs correct model**"
   ],
   "id": "361a2b7dae10cfe7"
  },
  {
   "metadata": {},
   "cell_type": "code",
   "source": "print(results[\"model_info\"])",
   "id": "c66f954b969e6254",
   "outputs": [],
   "execution_count": null
  },
  {
   "cell_type": "code",
   "id": "c6846d7b6fe6c96a",
   "metadata": {
    "collapsed": false
   },
   "source": [
    "from helper.vision_classification import init_mlp_for_dataset, init_cnn_for_dataset\n",
    "from helper.neuro_viz import Loss\n",
    "\n",
    "#TODO Check the model:\n",
    "model = init_cnn_for_dataset(dataset_name, conv_dims=[8, 16], kernel_sizes=[3, 3], hidden_dims=[32], dropout=0.25, residual=False).to(device)\n",
    "#model = init_cnn_for_dataset(dataset_name, conv_dims=[8, 16], kernel_sizes=[3, 3], hidden_dims=[32], dropout=0.25, residual=True).to(device)\n",
    "\n",
    "#model = init_cnn_for_dataset(dataset_name, conv_dims=[32, 64], kernel_sizes=[3, 3], hidden_dims=[128], dropout=0.25, residual=False).to(device)\n",
    "#model = init_cnn_for_dataset(dataset, conv_dims=[32, 64], kernel_sizes=[3, 3], hidden_dims=[128], dropout=0.25, residual=True).to(device)\n",
    "\n",
    "#model = init_cnn_for_dataset(dataset_name, conv_dims=[64, 128, 256], kernel_sizes=[5, 3, 3], hidden_dims=[256, 128], dropout=0.2, residual=True).to(device)\n",
    "#model = init_mlp_for_dataset(dataset_name, hidden_dims=[254, 64], dropout=0.1).to(device)\n",
    "loss_obj = Loss(dataset_name, device)"
   ],
   "outputs": [],
   "execution_count": null
  },
  {
   "metadata": {},
   "cell_type": "markdown",
   "source": "Check if repopulation is okayish",
   "id": "36c1041e51c317fc"
  },
  {
   "metadata": {},
   "cell_type": "code",
   "source": [
    "from helper.neuro_viz import repopulate_model_fixed\n",
    "# 2. Repopulate Model weights\n",
    "epoch = 0\n",
    "flat_tensor = torch.load(pt_files[epoch], map_location='cpu', weights_only=True)\n",
    "with torch.no_grad():\n",
    "    repopulate_model_fixed(flat_tensor.clone(), model)\n",
    "\n",
    "# 3. Compute Loss\n",
    "loss_value = loss_obj.get_loss(model, loss_name=\"test_loss\", whichloss=\"crossentropy\").detach()\n",
    "print(f\"Loss evaluation successful: {loss_value:.4f} = {results['val_losses'][epoch]:.4f}\")"
   ],
   "id": "86fe1c969bcb9d4c",
   "outputs": [],
   "execution_count": null
  },
  {
   "metadata": {},
   "cell_type": "markdown",
   "source": "#### Compute trajectory (Coordinates and Loss)",
   "id": "f2236a9451729ed6"
  },
  {
   "cell_type": "code",
   "id": "a264ebc0a37b88af",
   "metadata": {
    "collapsed": false
   },
   "source": [
    "from helper.neuro_viz import compute_trajectory\n",
    "\n",
    "trajectory_coordinates, trajectory_models, trajectory_losses = compute_trajectory(\n",
    "    trajectory_loader,\n",
    "    ae_model,\n",
    "    transform,\n",
    "    loss_obj,\n",
    "    model,\n",
    "    loss_name,\n",
    "    whichloss,\n",
    "    device,\n",
    ")"
   ],
   "outputs": [],
   "execution_count": null
  },
  {
   "metadata": {},
   "cell_type": "code",
   "source": "trajectory_losses.cpu().numpy()",
   "id": "9751063c98d728",
   "outputs": [],
   "execution_count": null
  },
  {
   "cell_type": "code",
   "id": "2a432896303748a7",
   "metadata": {
    "collapsed": false
   },
   "source": [
    "import matplotlib.pyplot as plt\n",
    "\n",
    "plt.figure(figsize=(8, 4))\n",
    "\n",
    "tr_losses = trajectory_losses.cpu().numpy()\n",
    "\n",
    "plt.plot(results[\"val_losses\"], label='Logged Validation Loss', marker='o')\n",
    "plt.plot(tr_losses, label='AE-Projected Validation Loss', marker='x')\n",
    "\n",
    "plt.legend()\n",
    "plt.title('Validation Loss: Training Log vs. AE-Projected Trajectory')\n",
    "plt.xlabel('Checkpoint Index')\n",
    "plt.ylabel('Loss (e.g. NLL)')\n",
    "plt.grid(True)\n",
    "plt.show()"
   ],
   "outputs": [],
   "execution_count": null
  },
  {
   "cell_type": "code",
   "id": "4e322ad33c28b9b5",
   "metadata": {
    "collapsed": false
   },
   "source": [
    "# Generate grid in latent space\n",
    "from helper.neuro_viz import generate_latent_grid, compute_grid_losses\n",
    "xx, yy, grid_coords = generate_latent_grid(\n",
    "    min_map=-1, max_map=1,\n",
    "    xnum=10, # 3 - 25\n",
    "    device=device\n",
    ")\n",
    "\n",
    "# Decode grid and compute losses\n",
    "#model = init_mlp_for_dataset(dataset_name, hidden_dims=[254, 64], dropout=0.1).to(device)\n",
    "\n",
    "grid_losses = compute_grid_losses(\n",
    "    grid_coords,\n",
    "    transform,\n",
    "    ae_model,\n",
    "    model,\n",
    "    loss_obj,\n",
    "    loss_name,\n",
    "    whichloss,\n",
    "    device\n",
    ")\n",
    "\n",
    "# Reshape to grid\n",
    "grid_losses = grid_losses.view(xx.shape)"
   ],
   "outputs": [],
   "execution_count": null
  },
  {
   "cell_type": "code",
   "id": "89ebf45f637a2183",
   "metadata": {
    "collapsed": false
   },
   "source": [
    "print(grid_losses.min().item(), grid_losses.max().item())"
   ],
   "outputs": [],
   "execution_count": null
  },
  {
   "cell_type": "code",
   "id": "d47df1891d8bef28",
   "metadata": {
    "collapsed": false
   },
   "source": [
    "grid_losses"
   ],
   "outputs": [],
   "execution_count": null
  },
  {
   "cell_type": "code",
   "id": "dbe82af7fb974760",
   "metadata": {
    "collapsed": false
   },
   "source": [
    "rec_grid_models = ae_model.decoder(grid_coords)\n",
    "rec_grid_models = rec_grid_models*transform.std.to(device) + transform.mean.to(device)"
   ],
   "outputs": [],
   "execution_count": null
  },
  {
   "cell_type": "code",
   "id": "41897ed199161985",
   "metadata": {
    "collapsed": false
   },
   "source": [
    "import matplotlib.pyplot as plt\n",
    "from matplotlib.colors import LogNorm\n",
    "import matplotlib.ticker as ticker\n",
    "import numpy as np\n",
    "\n",
    "# === PREPARE LOSSES ===\n",
    "grid_losses_pos = grid_losses.detach().cpu().numpy()\n",
    "traj_losses_pos = trajectory_losses.detach().cpu().numpy()\n",
    "\n",
    "# === SHARED COLOR SCALE ===\n",
    "all_losses = np.concatenate([grid_losses_pos.flatten(), traj_losses_pos])\n",
    "vmin = np.clip(all_losses.min() / 1.2, 1e-3, None)\n",
    "vmax = all_losses.max() * 1.2\n",
    "\n",
    "if vmin >= vmax or np.isclose(vmin, vmax):\n",
    "    vmax = vmin * 10\n",
    "    print(f\"Adjusted nearly-constant losses: vmin={vmin}, vmax={vmax}\")\n",
    "\n",
    "levels = np.logspace(np.log10(vmin), np.log10(vmax), 30)\n",
    "shared_norm = LogNorm(vmin=vmin, vmax=vmax)\n",
    "shared_cmap = 'viridis' #hot\n",
    "\n",
    "# === BEGIN PLOTTING ===\n",
    "fig, ax = plt.subplots(figsize=(8, 6))\n",
    "\n",
    "# -- 1 Loss Landscape Contour --\n",
    "contour = ax.contourf(\n",
    "    xx.cpu().numpy(),\n",
    "    yy.cpu().numpy(),\n",
    "    grid_losses_pos,\n",
    "    levels=levels,\n",
    "    norm=shared_norm,\n",
    "    cmap=shared_cmap\n",
    ")\n",
    "cbar = plt.colorbar(contour, ax=ax, shrink=0.8)\n",
    "cbar.ax.set_ylabel('Cross Entropy Loss', fontsize=12)\n",
    "\n",
    "# -- 2 Trajectory Lines --\n",
    "z = trajectory_coordinates.cpu().numpy()\n",
    "for i in range(len(z) - 1):\n",
    "    ax.plot([z[i, 0], z[i + 1, 0]], [z[i, 1], z[i + 1, 1]], color='k', linewidth=1)\n",
    "\n",
    "# -- 3 Trajectory Points with SAME Color Mapping --\n",
    "sc = ax.scatter(\n",
    "    z[:, 0], z[:, 1],\n",
    "    c=traj_losses_pos,\n",
    "    cmap=shared_cmap,\n",
    "    norm=shared_norm,\n",
    "    s=40,\n",
    "    edgecolors='k',\n",
    "    #label='Trajectory Points'\n",
    ")\n",
    "\n",
    "# -- 4 OPTIONAL: Density Contours --\n",
    "try:\n",
    "    from NeuroVisualizer.neuro_aux.utils import get_density\n",
    "    density = get_density(rec_grid_models.detach().cpu().numpy(), type='inverse', p=2)\n",
    "    density = density.reshape(xx.shape)\n",
    "    density_levels = np.logspace(\n",
    "        np.log10(max(density.min(), 1e-3)),\n",
    "        np.log10(density.max()),\n",
    "        15\n",
    "    )\n",
    "    CS_density = ax.contour(\n",
    "        xx.cpu().numpy(), yy.cpu().numpy(), density,\n",
    "        levels=density_levels,\n",
    "        colors='white',\n",
    "        linewidths=0.8\n",
    "    )\n",
    "    ax.clabel(CS_density, fmt=ticker.FormatStrFormatter('%.1f'), fontsize=7)\n",
    "except Exception as e:\n",
    "    print(\"Density contour skipped:\", e)\n",
    "\n",
    "# -- 5 Labels, Grid, Style --\n",
    "ax.set_title('Loss Landscape with Training Trajectory', fontsize=14)\n",
    "ax.set_xlabel('Latent Dimension 1', fontsize=12)\n",
    "ax.set_ylabel('Latent Dimension 2', fontsize=12)\n",
    "#ax.legend(loc='best')\n",
    "ax.grid(True, linestyle='--', alpha=0.3)\n",
    "\n",
    "# -- 6 Show or Save --\n",
    "plt.show()"
   ],
   "outputs": [],
   "execution_count": null
  },
  {
   "cell_type": "code",
   "id": "8f9eb868b9361be4",
   "metadata": {
    "collapsed": false
   },
   "source": [
    "# ✅ Save to PDF\n",
    "os.makedirs('plots', exist_ok=True)\n",
    "fig.savefig(f'plots/loss_landscape_{run_id}.pdf', dpi=300, bbox_inches='tight', format='pdf')\n",
    "print(f\"Saved PDF to plots/loss_landscape_{run_id}.pdf\")\n",
    "\n",
    "plt.show()"
   ],
   "outputs": [],
   "execution_count": null
  },
  {
   "metadata": {},
   "cell_type": "code",
   "source": "",
   "id": "bc9439de3c4415",
   "outputs": [],
   "execution_count": null
  }
 ],
 "metadata": {
  "kernelspec": {
   "display_name": "Python (train-viz)",
   "language": "python",
   "name": "train-viz"
  },
  "language_info": {
   "codemirror_mode": {
    "name": "ipython",
    "version": 3
   },
   "file_extension": ".py",
   "mimetype": "text/x-python",
   "name": "python",
   "nbconvert_exporter": "python",
   "pygments_lexer": "ipython3",
   "version": "3.11.5"
  }
 },
 "nbformat": 4,
 "nbformat_minor": 5
}
