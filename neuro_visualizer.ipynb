{
 "cells": [
  {
   "cell_type": "markdown",
   "source": [
    "# Neuro-Visualizer"
   ],
   "metadata": {
    "collapsed": false
   },
   "id": "f5326ecff0764644"
  },
  {
   "cell_type": "code",
   "outputs": [],
   "source": [
    "import os\n",
    "import torch\n",
    "from torch import nn\n",
    "from torch.utils.data import DataLoader\n",
    "\n",
    "from NeuroVisualizer.neuro_aux.AEmodel import UniformAutoencoder\n",
    "from NeuroVisualizer.neuro_aux.utils import get_files\n",
    "\n",
    "from neuro_viz_helper import get_dataloader_flat, generate_latent_grid, compute_grid_losses"
   ],
   "metadata": {
    "collapsed": true
   },
   "id": "initial_id",
   "execution_count": null
  },
  {
   "cell_type": "markdown",
   "source": [
    "## Train AE Model"
   ],
   "metadata": {
    "collapsed": false
   },
   "id": "acb78a0bbfb31f46"
  },
  {
   "cell_type": "code",
   "outputs": [],
   "source": [
    "# Adjust this path to your folder\n",
    "checkpoint_dir = \"trainings/models_MLP_mnist\"\n",
    "\n",
    "pt_files = get_files(checkpoint_dir, prefix=\"model-\")\n",
    "print(f\"Found {len(pt_files)} checkpoint files.\")"
   ],
   "metadata": {
    "collapsed": false
   },
   "id": "65a837fbb6ba23cd",
   "execution_count": null
  },
  {
   "cell_type": "code",
   "outputs": [],
   "source": [
    "batch_size = 4 #32\n",
    "\n",
    "pt_files_subset = pt_files[:]\n",
    "loader, normalizer = get_dataloader_flat(pt_files_subset, batch_size)"
   ],
   "metadata": {
    "collapsed": false
   },
   "id": "27f3470dc9303199",
   "execution_count": null
  },
  {
   "cell_type": "code",
   "outputs": [],
   "source": [
    "device = torch.device(\"cuda\" if torch.cuda.is_available() else \"cpu\")\n",
    "\n",
    "input_dim = loader.dataset[0].shape[0]\n",
    "print(f\"Input dimension: {input_dim}\")\n",
    "\n",
    "latent_dim = 2\n",
    "num_layers = 3\n",
    "h = [input_dim, 512, 128]  # Aggressive compression\n",
    "#h = [input_dim, 256, 64]\n",
    "\n",
    "ae = UniformAutoencoder(input_dim, num_layers, latent_dim, h=h).to(device)"
   ],
   "metadata": {
    "collapsed": false
   },
   "id": "2a8d44219a8c9983",
   "execution_count": null
  },
  {
   "cell_type": "code",
   "outputs": [],
   "source": [
    "optimizer = torch.optim.Adam(ae.parameters(), lr=1e-3)\n",
    "loss_fn = nn.MSELoss()\n",
    "\n",
    "num_epochs = 50\n",
    "\n",
    "for epoch in range(num_epochs):\n",
    "    ae.train()\n",
    "    total_loss = 0\n",
    "    for batch in loader:\n",
    "        batch = batch.to(device)\n",
    "        recon, _ = ae(batch)\n",
    "        loss = loss_fn(recon, batch)\n",
    "        optimizer.zero_grad()\n",
    "        loss.backward()\n",
    "        optimizer.step()\n",
    "        total_loss += loss.item()\n",
    "    avg_loss = total_loss / len(loader)\n",
    "    print(f\"Epoch {epoch+1:02d} - Loss: {avg_loss:.6f}\")"
   ],
   "metadata": {
    "collapsed": false
   },
   "id": "42a34c750998a0b4",
   "execution_count": null
  },
  {
   "cell_type": "code",
   "outputs": [],
   "source": [
    "os.makedirs(\"ae_models\", exist_ok=True)\n",
    "torch.save(ae.state_dict(), \"ae_models/ae_model_mlp_mnist.pt\")\n",
    "print(\"AE saved.\")"
   ],
   "metadata": {
    "collapsed": false
   },
   "id": "555f91c87f59dfb3",
   "execution_count": null
  },
  {
   "cell_type": "markdown",
   "source": [
    "## Visualize Trajectory"
   ],
   "metadata": {
    "collapsed": false
   },
   "id": "98f04cc2b2a5a865"
  },
  {
   "cell_type": "code",
   "outputs": [],
   "source": [
    "import os\n",
    "import torch\n",
    "import numpy as np\n",
    "import matplotlib.pyplot as plt\n",
    "\n",
    "from NeuroVisualizer.neuro_aux.AEmodel import UniformAutoencoder\n",
    "from NeuroVisualizer.neuro_aux.utils import get_files, repopulate_model\n",
    "from NeuroVisualizer.neuro_aux.trajectories_data import get_trajectory_dataloader"
   ],
   "metadata": {
    "collapsed": false
   },
   "id": "570c59ac3e986644",
   "execution_count": null
  },
  {
   "cell_type": "code",
   "outputs": [],
   "source": [
    "dataset_name = 'mnist'\n",
    "model_name = 'mlp'\n",
    "model_folder = 'trainings/models_MLP_mnist'\n",
    "model_file = 'ae_models/ae_model_mlp_mnist.pt'\n",
    "batch_size = 4\n",
    "loss_name = 'test_loss'\n",
    "whichloss = 'mse'\n",
    "device = torch.device(\"cuda\" if torch.cuda.is_available() else \"cpu\")"
   ],
   "metadata": {
    "collapsed": false
   },
   "id": "a2a9a413afb8e33d",
   "execution_count": null
  },
  {
   "cell_type": "code",
   "outputs": [],
   "source": [
    "# Get file list\n",
    "pt_files = get_files(model_folder, prefix=\"model-\")\n",
    "\n",
    "# Load AE\n",
    "example_tensor = torch.load(pt_files[0])\n",
    "input_dim = example_tensor.shape[0]\n",
    "latent_dim = 2\n",
    "num_of_layers = 3\n",
    "h = [input_dim, 512, 128]\n",
    "\n",
    "best_model = UniformAutoencoder(input_dim, num_of_layers, latent_dim, h=h).to(device)\n",
    "best_model.load_state_dict(torch.load(model_file))\n",
    "best_model.eval()"
   ],
   "metadata": {
    "collapsed": false
   },
   "id": "20578face5ae73b",
   "execution_count": null
  },
  {
   "cell_type": "code",
   "outputs": [],
   "source": [
    "# ---- Load data ----\n",
    "from neuro_viz_helper import get_dataloader_flat\n",
    "\n",
    "trajectory_loader, transform = get_dataloader_flat(pt_files, batch_size, shuffle=False) #[:5] for Subset"
   ],
   "metadata": {
    "collapsed": false
   },
   "id": "d9aac66468474164",
   "execution_count": null
  },
  {
   "cell_type": "code",
   "outputs": [],
   "source": [
    "from vision_classification import init_mlp_for_dataset\n",
    "from neuro_viz_helper import Loss\n",
    "\n",
    "model = init_mlp_for_dataset(dataset_name, hidden_dims=[254, 64], dropout=0.1).to(device)\n",
    "loss_obj = Loss(dataset_name, device)"
   ],
   "metadata": {
    "collapsed": false
   },
   "id": "c6846d7b6fe6c96a",
   "execution_count": null
  },
  {
   "cell_type": "code",
   "outputs": [],
   "source": [
    "from neuro_viz_helper import compute_trajectory\n",
    "\n",
    "trajectory_coordinates, trajectory_models, trajectory_losses = compute_trajectory(\n",
    "    trajectory_loader,\n",
    "    best_model,\n",
    "    transform,\n",
    "    loss_obj,\n",
    "    model,\n",
    "    loss_name,\n",
    "    whichloss,\n",
    "    device,\n",
    ")"
   ],
   "metadata": {
    "collapsed": false
   },
   "id": "a264ebc0a37b88af",
   "execution_count": null
  },
  {
   "cell_type": "code",
   "outputs": [],
   "source": [
    "import matplotlib.pyplot as plt\n",
    "\n",
    "# Convert tensor to CPU & numpy\n",
    "print(trajectory_losses)\n",
    "loss_values = trajectory_losses.cpu().numpy()\n",
    "\n",
    "plt.figure(figsize=(8, 4))\n",
    "plt.plot(range(len(loss_values)), loss_values, marker='o', color='blue')\n",
    "plt.title('Trajectory Losses over Training Steps')\n",
    "plt.xlabel('Checkpoint Index')\n",
    "plt.ylabel('NLL Loss (log scale)')\n",
    "plt.grid(True)\n",
    "plt.show()"
   ],
   "metadata": {
    "collapsed": false
   },
   "id": "2a432896303748a7",
   "execution_count": null
  },
  {
   "cell_type": "code",
   "outputs": [],
   "source": [
    "# 1️⃣ Generate grid in latent space\n",
    "from neuro_viz_helper import generate_latent_grid, compute_grid_losses\n",
    "xx, yy, grid_coords = generate_latent_grid(\n",
    "    min_map=-1, max_map=1, xnum=3, device=device\n",
    ")\n",
    "\n",
    "# 2️⃣ Decode grid and compute losses\n",
    "model = init_mlp_for_dataset(dataset_name, hidden_dims=[254, 64], dropout=0.1).to(device)\n",
    "\n",
    "grid_losses = compute_grid_losses(\n",
    "    grid_coords,\n",
    "    transform,\n",
    "    best_model,\n",
    "    model,\n",
    "    loss_obj,\n",
    "    loss_name,\n",
    "    whichloss,\n",
    "    device\n",
    ")\n",
    "\n",
    "# 3️⃣ Reshape to grid\n",
    "grid_losses = grid_losses.view(xx.shape)"
   ],
   "metadata": {
    "collapsed": false
   },
   "id": "4e322ad33c28b9b5",
   "execution_count": null
  },
  {
   "cell_type": "code",
   "outputs": [],
   "source": [
    "print(grid_losses.min().item(), grid_losses.max().item())"
   ],
   "metadata": {
    "collapsed": false
   },
   "id": "89ebf45f637a2183",
   "execution_count": null
  },
  {
   "cell_type": "code",
   "outputs": [],
   "source": [
    "grid_losses"
   ],
   "metadata": {
    "collapsed": false
   },
   "id": "d47df1891d8bef28",
   "execution_count": null
  },
  {
   "cell_type": "code",
   "outputs": [],
   "source": [
    "rec_grid_models = best_model.decoder(grid_coords)\n",
    "rec_grid_models = rec_grid_models*transform.std.to(device) + transform.mean.to(device)"
   ],
   "metadata": {
    "collapsed": false
   },
   "id": "dbe82af7fb974760",
   "execution_count": null
  },
  {
   "cell_type": "code",
   "outputs": [],
   "source": [
    "import matplotlib.pyplot as plt\n",
    "from matplotlib.colors import LogNorm\n",
    "import matplotlib.ticker as ticker\n",
    "import numpy as np\n",
    "\n",
    "# === PREPARE LOSSES (flip sign since NLL is negative) ===\n",
    "grid_losses_pos = -grid_losses.detach().cpu().numpy()\n",
    "traj_losses_pos = -trajectory_losses.detach().cpu().numpy()\n",
    "\n",
    "# Avoid zeros or negative values for LogNorm\n",
    "grid_losses_pos[grid_losses_pos <= 1e-3] = 1e-3\n",
    "traj_losses_pos[traj_losses_pos <= 1e-3] = 1e-3\n",
    "\n",
    "# === SHARED COLOR SCALE ===\n",
    "all_losses = np.concatenate([grid_losses_pos.flatten(), traj_losses_pos])\n",
    "vmin = np.clip(all_losses.min() / 1.2, 1e-3, None)\n",
    "vmax = all_losses.max() * 1.2\n",
    "\n",
    "if vmin >= vmax or np.isclose(vmin, vmax):\n",
    "    vmax = vmin * 10\n",
    "    print(f\"Adjusted nearly-constant losses: vmin={vmin}, vmax={vmax}\")\n",
    "\n",
    "levels = np.logspace(np.log10(vmin), np.log10(vmax), 30)\n",
    "shared_norm = LogNorm(vmin=vmin, vmax=vmax)\n",
    "shared_cmap = 'viridis' #hot\n",
    "\n",
    "# === BEGIN PLOTTING ===\n",
    "fig, ax = plt.subplots(figsize=(8, 6))\n",
    "\n",
    "# -- 1️⃣ Loss Landscape Contour --\n",
    "contour = ax.contourf(\n",
    "    xx.cpu().numpy(),\n",
    "    yy.cpu().numpy(),\n",
    "    grid_losses_pos,\n",
    "    levels=levels,\n",
    "    norm=shared_norm,\n",
    "    cmap=shared_cmap\n",
    ")\n",
    "cbar = plt.colorbar(contour, ax=ax, shrink=0.8)\n",
    "cbar.ax.set_ylabel('-NLL Loss (Higher is Better)', fontsize=12)\n",
    "\n",
    "# -- 2️⃣ Trajectory Lines --\n",
    "z = trajectory_coordinates.cpu().numpy()\n",
    "for i in range(len(z) - 1):\n",
    "    ax.plot([z[i, 0], z[i + 1, 0]], [z[i, 1], z[i + 1, 1]], color='k', linewidth=1)\n",
    "\n",
    "# -- 3️⃣ Trajectory Points with SAME Color Mapping --\n",
    "sc = ax.scatter(\n",
    "    z[:, 0], z[:, 1],\n",
    "    c=traj_losses_pos,\n",
    "    cmap=shared_cmap,\n",
    "    norm=shared_norm,\n",
    "    s=40,\n",
    "    edgecolors='k',\n",
    "    #label='Trajectory Points'\n",
    ")\n",
    "\n",
    "# -- 4️⃣ OPTIONAL: Density Contours --\n",
    "try:\n",
    "    from NeuroVisualizer.neuro_aux.utils import get_density\n",
    "    density = get_density(rec_grid_models.detach().cpu().numpy(), type='inverse', p=2)\n",
    "    density = density.reshape(xx.shape)\n",
    "    density_levels = np.logspace(\n",
    "        np.log10(max(density.min(), 1e-3)),\n",
    "        np.log10(density.max()),\n",
    "        15\n",
    "    )\n",
    "    CS_density = ax.contour(\n",
    "        xx.cpu().numpy(), yy.cpu().numpy(), density,\n",
    "        levels=density_levels,\n",
    "        colors='white',\n",
    "        linewidths=0.8\n",
    "    )\n",
    "    ax.clabel(CS_density, fmt=ticker.FormatStrFormatter('%.1f'), fontsize=7)\n",
    "except Exception as e:\n",
    "    print(\"Density contour skipped:\", e)\n",
    "\n",
    "# -- 5️⃣ Labels, Grid, Style --\n",
    "ax.set_title('Loss Landscape with Training Trajectory', fontsize=14)\n",
    "ax.set_xlabel('Latent Dimension 1', fontsize=12)\n",
    "ax.set_ylabel('Latent Dimension 2', fontsize=12)\n",
    "#ax.legend(loc='best')\n",
    "ax.grid(True, linestyle='--', alpha=0.3)\n",
    "\n",
    "# -- 6️⃣ Show or Save --\n",
    "plt.show()"
   ],
   "metadata": {
    "collapsed": false
   },
   "id": "41897ed199161985",
   "execution_count": null
  },
  {
   "cell_type": "code",
   "outputs": [],
   "source": [
    "# ✅ Save to PDF\n",
    "os.makedirs('plots', exist_ok=True)\n",
    "fig.savefig('plots/loss_landscape_with_trajectory.pdf', dpi=300, bbox_inches='tight', format='pdf')\n",
    "print(\"Saved PDF to plots/loss_landscape_with_trajectory.pdf\")\n",
    "\n",
    "plt.show()"
   ],
   "metadata": {
    "collapsed": false
   },
   "id": "8f9eb868b9361be4",
   "execution_count": null
  }
 ],
 "metadata": {
  "kernelspec": {
   "display_name": "Python 3",
   "language": "python",
   "name": "python3"
  },
  "language_info": {
   "codemirror_mode": {
    "name": "ipython",
    "version": 2
   },
   "file_extension": ".py",
   "mimetype": "text/x-python",
   "name": "python",
   "nbconvert_exporter": "python",
   "pygments_lexer": "ipython2",
   "version": "2.7.6"
  }
 },
 "nbformat": 4,
 "nbformat_minor": 5
}
