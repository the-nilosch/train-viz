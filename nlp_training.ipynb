{
 "cells": [
  {
   "cell_type": "markdown",
   "id": "d266e280-8621-430c-918a-8acd81d4d8ec",
   "metadata": {},
   "source": [
    "## General"
   ]
  },
  {
   "cell_type": "code",
   "execution_count": 2,
   "id": "774783cd-c07c-403c-9d56-e03f7935d3aa",
   "metadata": {},
   "outputs": [],
   "source": [
    "# Choose dataset\n",
    "dataset = \"ag_news\" # \"ag_news\", \"yelp\", \"dbpedia\"\n",
    "\n",
    "# Choose model type\n",
    "model_type = \"bilstm\"  # \"bilstm\", \"textcnn\", \"distilbert\""
   ]
  },
  {
   "cell_type": "code",
   "execution_count": 3,
   "id": "323fac6c-47c6-48e6-9b4b-5e10316cbd1d",
   "metadata": {},
   "outputs": [],
   "source": [
    "import torch\n",
    "\n",
    "device = torch.device(\"cuda\" if torch.cuda.is_available() else \"cpu\")"
   ]
  },
  {
   "cell_type": "markdown",
   "id": "f0bf0677-4ab3-4fc4-973c-db01c2d53a17",
   "metadata": {},
   "source": [
    "## Dataset"
   ]
  },
  {
   "cell_type": "code",
   "execution_count": 4,
   "id": "initial_id",
   "metadata": {},
   "outputs": [
    {
     "ename": "NameError",
     "evalue": "name 'tokenizer' is not defined",
     "output_type": "error",
     "traceback": [
      "\u001B[0;31m---------------------------------------------------------------------------\u001B[0m",
      "\u001B[0;31mNameError\u001B[0m                                 Traceback (most recent call last)",
      "Cell \u001B[0;32mIn[4], line 7\u001B[0m\n\u001B[1;32m      2\u001B[0m \u001B[38;5;28;01mfrom\u001B[39;00m\u001B[38;5;250m \u001B[39m\u001B[38;5;21;01mtransformers\u001B[39;00m\u001B[38;5;250m \u001B[39m\u001B[38;5;28;01mimport\u001B[39;00m DistilBertTokenizerFast\n\u001B[1;32m      4\u001B[0m \u001B[38;5;66;03m# Load data\u001B[39;00m\n\u001B[1;32m      5\u001B[0m train_loader, test_loader, subset_loader \u001B[38;5;241m=\u001B[39m init_dataset(\n\u001B[1;32m      6\u001B[0m     dataset,\n\u001B[0;32m----> 7\u001B[0m     tokenizer\u001B[38;5;241m=\u001B[39m\u001B[43mtokenizer\u001B[49m,\n\u001B[1;32m      8\u001B[0m     max_length\u001B[38;5;241m=\u001B[39m\u001B[38;5;241m256\u001B[39m,\n\u001B[1;32m      9\u001B[0m     batch_size\u001B[38;5;241m=\u001B[39m\u001B[38;5;241m32\u001B[39m,\n\u001B[1;32m     10\u001B[0m     samples_per_class\u001B[38;5;241m=\u001B[39m\u001B[38;5;241m100\u001B[39m\n\u001B[1;32m     11\u001B[0m )\n",
      "\u001B[0;31mNameError\u001B[0m: name 'tokenizer' is not defined"
     ]
    }
   ],
   "source": [
    "from helper.nlp_classification import init_dataset, init_nlp_model\n",
    "from transformers import DistilBertTokenizerFast\n",
    "\n",
    "# Load data\n",
    "train_loader, test_loader, subset_loader = init_dataset(\n",
    "    dataset,\n",
    "    max_length=256,\n",
    "    batch_size=32,\n",
    "    samples_per_class=100\n",
    ")"
   ]
  },
  {
   "cell_type": "markdown",
   "id": "f267c0e8-e376-4005-9450-65e44bbb6d61",
   "metadata": {},
   "source": [
    "## Model"
   ]
  },
  {
   "cell_type": "markdown",
   "id": "a85b95f276a37891",
   "metadata": {},
   "source": [
    "# Initialize model\n",
    "model = init_nlp_model(\n",
    "    model_type,\n",
    "    num_classes=4,\n",
    "    tokenizer=tokenizer,\n",
    "    device=device\n",
    ")"
   ]
  },
  {
   "cell_type": "markdown",
   "id": "f2794de2-5ce4-4947-8aca-168c1da8d72a",
   "metadata": {},
   "source": [
    "## Training"
   ]
  },
  {
   "cell_type": "code",
   "execution_count": null,
   "id": "717c4202-2f81-42e4-8590-5c485561d282",
   "metadata": {},
   "outputs": [],
   "source": [
    "# Train\n",
    "from helper.train import train_model_with_embedding_tracking\n",
    "\n",
    "results = train_model_with_embedding_tracking(\n",
    "    model=model,\n",
    "    train_loader=train_loader,\n",
    "    test_loader=test_loader,\n",
    "    subset_loader=subset_loader,\n",
    "    num_classes=4,\n",
    "    device=device,\n",
    "    epochs=10,\n",
    "    learning_rate=2e-5 if model_type == \"distilbert\" else 1e-3,\n",
    "    embedding_records_per_epoch=4,\n",
    "    track_embedding_drift=True,\n",
    "    track_scheduled_lr=True,\n",
    "    track_pca=True,\n",
    "    dataset_name=dataset\n",
    ")"
   ]
  }
 ],
 "metadata": {
  "kernelspec": {
   "display_name": "Python 3 (ipykernel)",
   "language": "python",
   "name": "python3"
  },
  "language_info": {
   "codemirror_mode": {
    "name": "ipython",
    "version": 3
   },
   "file_extension": ".py",
   "mimetype": "text/x-python",
   "name": "python",
   "nbconvert_exporter": "python",
   "pygments_lexer": "ipython3",
   "version": "3.10.12"
  }
 },
 "nbformat": 4,
 "nbformat_minor": 5
}
