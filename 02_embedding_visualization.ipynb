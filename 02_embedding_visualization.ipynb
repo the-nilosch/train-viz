{
 "cells": [
  {
   "cell_type": "code",
   "execution_count": null,
   "id": "9a7f7f75fb0f0a27",
   "metadata": {},
   "outputs": [],
   "source": [
    "import matplotlib\n",
    "import matplotlib.pyplot as plt\n",
    "from sklearn.manifold import TSNE\n",
    "import numpy as np"
   ]
  },
  {
   "cell_type": "code",
   "execution_count": null,
   "id": "f1aad4dca1135c1b",
   "metadata": {},
   "outputs": [],
   "source": [
    "import phate, m_phate # Should throw no error in proper environment"
   ]
  },
  {
   "cell_type": "markdown",
   "id": "cc0c0d1b730f7f98",
   "metadata": {
    "collapsed": false,
    "jp-MarkdownHeadingCollapsed": true
   },
   "source": [
    "#### Embedding Visualization TODOs\n",
    "Data\n",
    "- [x] PCA\n",
    "- [ ] Use ALL train data for PCA?\n",
    "- [ ] PCA Denoising eval on denoised Embedding drift\n",
    "\n",
    "- [x] t-SNE\n",
    "- [ ] Visualize t-SNE training Steps\n",
    "- [ ] Refine with new paper\n",
    "\n",
    "- [x] UMAP\n",
    "- [x] UMAP Parameters\n",
    "\n",
    "- [ ] Copy PHATE stuff\n",
    "- [ ] Evaluate\n",
    "\n",
    "Visualization\n",
    "- [x] Live during training\n",
    "- [x] 3D\n",
    "- [ ] With trajectory"
   ]
  },
  {
   "cell_type": "markdown",
   "id": "5a718503b0efeb06",
   "metadata": {},
   "source": [
    "**Environment:** Please use another environment (`phate-env`) here\n",
    "\n",
    "# Embedding Visualization"
   ]
  },
  {
   "cell_type": "markdown",
   "id": "e5f0a026-ac3e-4a6e-b44f-eb8951f926ca",
   "metadata": {},
   "source": [
    "## Import Data"
   ]
  },
  {
   "cell_type": "code",
   "execution_count": null,
   "id": "acb1112d-2e44-4e2d-a3c1-447bb79e76e7",
   "metadata": {},
   "outputs": [],
   "source": [
    "# ==== MNIST ========\n",
    "dataset = \"mnist\"\n",
    "\n",
    "run = \"run-0011-CNN_mnist_32_0.9776\"\n",
    "#run = \"run-0012-CNN_mnist_32_0.9768\"\n",
    "#run = \"run-0013-CNN_mnist_32_0.9797\"\n",
    "#run = \"run-0014-CNN_mnist_32_0.9744\""
   ]
  },
  {
   "cell_type": "code",
   "execution_count": null,
   "id": "6f267def576c812a",
   "metadata": {
    "collapsed": false
   },
   "outputs": [],
   "source": [
    "# ==== CIFAR 10 ========\n",
    "dataset = \"cifar10\"\n",
    "\n",
    "# Residual\n",
    "#run = \"run-0016-CNN_cifar10_128_0.8093\" # Seed 42, SAM\n",
    "# run = \"run-0018-CNN_cifar10_128_0.8499\" # Seed 42\n",
    "# run = \"run-0020-CNN_cifar10_128_0.8079\" # Seed 11, SAM\n",
    "run = \"run-0022-CNN_cifar10_128_0.8519\" # Seed 11\n",
    "    \n",
    "# No Residual\n",
    "# run = \"run-0017-CNN_cifar10_128_0.8072\" # Seed 42, SAM\n",
    "# run = \"run-0019-CNN_cifar10_128_0.8487\" # Seed 42\n",
    "# run = \"run-0021-CNN_cifar10_128_0.8054\" # Seed 11, SAM\n",
    "# run = \"run-0023-CNN_cifar10_128_0.8509\" # Seed 11"
   ]
  },
  {
   "cell_type": "code",
   "execution_count": null,
   "id": "ad2ee26987526ee7",
   "metadata": {
    "collapsed": false
   },
   "outputs": [],
   "source": [
    "run_id = run"
   ]
  },
  {
   "cell_type": "code",
   "execution_count": null,
   "id": "924209a2-02d3-4dd8-a8c6-3996fe5bfb46",
   "metadata": {},
   "outputs": [],
   "source": [
    "from helper.visualization import Run\n",
    "run = Run(run_id, dataset)"
   ]
  },
  {
   "cell_type": "markdown",
   "id": "1aed3bbcc1aedeb1",
   "metadata": {},
   "source": [
    "## Recap: The Training"
   ]
  },
  {
   "cell_type": "code",
   "execution_count": null,
   "id": "0e497128-2509-4772-a562-374b9b5f4ebd",
   "metadata": {},
   "outputs": [],
   "source": [
    "run.plot_training_records()"
   ]
  },
  {
   "cell_type": "markdown",
   "id": "b3e326d911ef3fe7",
   "metadata": {},
   "source": [
    "### Confusion Matrix Development"
   ]
  },
  {
   "cell_type": "code",
   "execution_count": null,
   "id": "f999c2bbd1e40c7b",
   "metadata": {},
   "outputs": [],
   "source": [
    "%matplotlib ipympl\n",
    "%matplotlib widget\n",
    "run.confusion_matrix(annotate=True)"
   ]
  },
  {
   "cell_type": "markdown",
   "id": "df9c32f851085c59",
   "metadata": {
    "collapsed": false
   },
   "source": [
    "## Embedding Drift"
   ]
  },
  {
   "cell_type": "markdown",
   "id": "53098eaf37b86e9b",
   "metadata": {},
   "source": [
    "The evaluation measure in this work\n",
    "- **Multi-scale skips**: for each snapshot index `i`, compare its embedding `E_i` to earlier snapshots `E_{i - 2**n}` for `n = 0,1,…,4` (skip lengths 1, 2, 4, 8, 16).\n",
    "- **Mean Euclidean distance**:\n",
    "  ```python\n",
    "  drift = np.linalg.norm(current_snapshot - previous_snapshot, axis=1).mean()\n",
    "- **Result:** a dict mapping each skip length to a time series of drift values, showing how rapidly—and at what scales—the embedding space is evolving."
   ]
  },
  {
   "cell_type": "code",
   "execution_count": null,
   "id": "3e74f4a6-0298-482e-a879-66ec747ed2bf",
   "metadata": {},
   "outputs": [],
   "source": [
    "run.plot_embedding_drifts()"
   ]
  },
  {
   "cell_type": "markdown",
   "id": "0bbd2ae9-66b7-4acd-abf2-d12a28a3699b",
   "metadata": {},
   "source": [
    "# Visualizations PCA"
   ]
  },
  {
   "cell_type": "markdown",
   "id": "586398d0-0cdf-4e75-9e5b-2c6c644d7600",
   "metadata": {},
   "source": [
    "### PCA visualizations can be based on different bases"
   ]
  },
  {
   "cell_type": "code",
   "execution_count": null,
   "id": "50f60595-3b4b-4519-b6bb-f2903735f737",
   "metadata": {},
   "outputs": [],
   "source": [
    "from helper.visualization import generate_projections, visualization_drift_vs_embedding_drift, denoise_projections\n",
    "from helper.plots import show_multiple_projections_with_slider"
   ]
  },
  {
   "cell_type": "code",
   "execution_count": null,
   "id": "bbdfdc0a0d65a0b0",
   "metadata": {},
   "outputs": [],
   "source": [
    "ani_pca_first = generate_projections(\n",
    "    run,\n",
    "    method='pca',\n",
    "    pca_fit_basis='first',\n",
    ")\n",
    "ani_pca_last = generate_projections(\n",
    "    run,\n",
    "    method='pca',\n",
    "    pca_fit_basis='last',\n",
    ")\n",
    "ani_pca_all = generate_projections(\n",
    "    run,\n",
    "    method='pca',\n",
    "    pca_fit_basis='all',\n",
    ")"
   ]
  },
  {
   "cell_type": "code",
   "execution_count": null,
   "id": "fb57ff24-549b-460f-9016-cb0cef227687",
   "metadata": {},
   "outputs": [],
   "source": [
    "ani_pca_window = generate_projections(\n",
    "    run,\n",
    "    method='pca',\n",
    "    pca_fit_basis='window',\n",
    "    window_size=16,\n",
    ")"
   ]
  },
  {
   "cell_type": "markdown",
   "id": "b00e0255-ab84-48c2-b36a-ddb502330086",
   "metadata": {},
   "source": [
    "### Visualization"
   ]
  },
  {
   "cell_type": "markdown",
   "id": "ba5ba29922f8e9aa",
   "metadata": {},
   "source": [
    "The 2D visualization here has a slider for epochs. You can also press Play, Pause and Stop\n",
    "\n",
    "Optionally, a translation between the noisy steps can be activated to better track points moving far distances."
   ]
  },
  {
   "cell_type": "code",
   "execution_count": null,
   "id": "6766afd2-ce94-40f6-85c5-6a975534f4da",
   "metadata": {},
   "outputs": [],
   "source": [
    "# CIFAR100 Legend\n",
    "from helper.plots import show_cifar100_legend\n",
    "if dataset == \"cifar100\":\n",
    "    show_cifar100_legend(cmap = \"tab20\")"
   ]
  },
  {
   "cell_type": "code",
   "execution_count": null,
   "id": "0ecb2d03-069a-44f7-9723-c0548a13735a",
   "metadata": {},
   "outputs": [],
   "source": [
    "%matplotlib ipympl\n",
    "%matplotlib widget\n",
    "from helper.visualization import show_animations\n",
    "\n",
    "show_animations(\n",
    "    animations=[ani_pca_first, ani_pca_last, ani_pca_all, ani_pca_window],\n",
    "    interpolate=False, # TRANSLATION via linear interpolation\n",
    "    steps_per_transition=2, # interpolation steps\n",
    "    figsize_per_plot=(4, 4),\n",
    "    alpha=0.8,\n",
    "    dot_size=6 # 12\n",
    ")"
   ]
  },
  {
   "cell_type": "code",
   "execution_count": null,
   "id": "890550e8-bb38-4b21-b9b8-e53ef0947f26",
   "metadata": {},
   "outputs": [],
   "source": [
    "show_animations(\n",
    "    animations=[ani_pca_first, ani_pca_last, ani_pca_all, ani_pca_window],\n",
    "    figsize_per_plot=(4, 4),\n",
    "    add_confusion_matrix=True\n",
    ")"
   ]
  },
  {
   "cell_type": "code",
   "execution_count": null,
   "id": "4427692c-4b5f-45f8-9a48-2f2046716f2e",
   "metadata": {},
   "outputs": [],
   "source": [
    "#ani_pca_window.save_as_gif()"
   ]
  },
  {
   "cell_type": "code",
   "execution_count": null,
   "id": "b5ed8f8c-2e9c-4be1-bb46-bc9b4621cb16",
   "metadata": {},
   "outputs": [],
   "source": [
    "ani_pca_first.evaluate()\n",
    "ani_pca_last.evaluate()\n",
    "ani_pca_all.evaluate()\n",
    "ani_pca_window.evaluate()"
   ]
  },
  {
   "cell_type": "code",
   "execution_count": null,
   "id": "b3431e7e-3fa7-4fe7-8acb-5401e473beed",
   "metadata": {},
   "outputs": [],
   "source": [
    "# projections_filtered, labels_filtered = filter_classes(projections_pca_window, labels, [4, 30, 55, 72, 95])"
   ]
  },
  {
   "cell_type": "markdown",
   "id": "99aec985-8b62-40d1-ac21-7eecf80bf624",
   "metadata": {},
   "source": [
    "### Denoising"
   ]
  },
  {
   "cell_type": "markdown",
   "id": "8d090eb840086dac",
   "metadata": {},
   "source": [
    "As the embedding snapshots during training are made within one epoch at fixed, but arbitrary intervals, with varying samples and potentially augmented images, they are very noisy.\n",
    "\n",
    "As a result, the values can only be seen as an indicator, not as an exact measurement of the embedding.\n",
    "\n",
    "Therefore, we can apply denoising to get a better overall picture"
   ]
  },
  {
   "cell_type": "code",
   "execution_count": null,
   "id": "84a48d308f475df6",
   "metadata": {
    "collapsed": false
   },
   "outputs": [],
   "source": [
    "ani_pca_first_denoised = ani_pca_first.denoise(window_size=15, blend=0.9, mode='window', do_embedding_drift=False)\n",
    "ani_pca_last_denoised = ani_pca_last.denoise(window_size=15, blend=0.9, mode='window', do_embedding_drift=False)\n",
    "ani_pca_all_denoised = ani_pca_all.denoise(window_size=15, blend=0.9, mode='window', do_embedding_drift=False)\n",
    "ani_pca_window_denoised = ani_pca_window.denoise(window_size=15, blend=0.9, mode='window', do_embedding_drift=False)"
   ]
  },
  {
   "cell_type": "code",
   "execution_count": null,
   "id": "25f32db6-2327-4447-9c7b-0dfdd9c97cea",
   "metadata": {},
   "outputs": [],
   "source": [
    "ani_pca_window_denoised.plot(\n",
    "    interpolate=True,\n",
    "    steps_per_transition=1,\n",
    "    alpha=1,\n",
    ")"
   ]
  },
  {
   "cell_type": "code",
   "execution_count": null,
   "id": "0e852934-5ddf-4f7d-801e-3b076855d3ec",
   "metadata": {
    "scrolled": true
   },
   "outputs": [],
   "source": [
    "show_animations(\n",
    "    animations=[\n",
    "        ani_pca_first_denoised,\n",
    "        ani_pca_last_denoised,\n",
    "        ani_pca_all_denoised,\n",
    "        ani_pca_window_denoised],\n",
    ")"
   ]
  },
  {
   "cell_type": "code",
   "execution_count": null,
   "id": "540c6ff0-740e-4572-8701-87e29778428c",
   "metadata": {
    "scrolled": true
   },
   "outputs": [],
   "source": [
    "ani_pca_window_denoised.evaluate()"
   ]
  },
  {
   "cell_type": "markdown",
   "id": "bf74de08-bf1a-4877-ab1d-d58045627011",
   "metadata": {},
   "source": [
    "#### Now compared to denoised Embeddings..."
   ]
  },
  {
   "cell_type": "code",
   "execution_count": null,
   "id": "d3e11eda-0d32-4854-ab08-feac9e263081",
   "metadata": {
    "scrolled": true
   },
   "outputs": [],
   "source": [
    "ani_pca_first_denoised = ani_pca_first.denoise(window_size=15, blend=0.9, mode='window', do_embedding_drift=True)\n",
    "ani_pca_last_denoised = ani_pca_last.denoise(window_size=15, blend=0.9, mode='window', do_embedding_drift=True)\n",
    "ani_pca_all_denoised = ani_pca_all.denoise(window_size=15, blend=0.9, mode='window', do_embedding_drift=True)\n",
    "ani_pca_window_denoised = ani_pca_window.denoise(window_size=15, blend=0.9, mode='window', do_embedding_drift=True)"
   ]
  },
  {
   "cell_type": "code",
   "execution_count": null,
   "id": "988cd7ece0328c9a",
   "metadata": {
    "collapsed": false
   },
   "outputs": [],
   "source": [
    "ani_pca_first_denoised.evaluate()\n",
    "ani_pca_last_denoised.evaluate()\n",
    "ani_pca_all_denoised.evaluate()\n",
    "ani_pca_window_denoised.evaluate()"
   ]
  },
  {
   "cell_type": "code",
   "execution_count": null,
   "id": "934c08f1-10a9-472c-b8e3-742a70e0d44e",
   "metadata": {},
   "outputs": [],
   "source": [
    "# Close interactivity of plots before\n",
    "matplotlib.pyplot.close()"
   ]
  },
  {
   "cell_type": "markdown",
   "id": "c6af0580-dd6e-4f11-8cc2-2d5d8091cd33",
   "metadata": {},
   "source": [
    "### 3D\n",
    "We can also visualize 3D..."
   ]
  },
  {
   "cell_type": "code",
   "execution_count": null,
   "id": "c6d2fd49-c26e-43c9-afd2-91cc05c0f82a",
   "metadata": {},
   "outputs": [],
   "source": [
    "animation_3D = generate_projections(\n",
    "    run,\n",
    "    method='pca',\n",
    "    pca_fit_basis='window',\n",
    "    out_dim=3 #3D\n",
    ")"
   ]
  },
  {
   "cell_type": "code",
   "execution_count": null,
   "id": "6d28edfc-7d92-4e26-bc83-2f7be805a455",
   "metadata": {},
   "outputs": [],
   "source": [
    "animation_3D = animation_3D.denoise(do_embedding_drift=True)"
   ]
  },
  {
   "cell_type": "code",
   "execution_count": null,
   "id": "5e1f138d-0ddf-4d4c-a13e-d378ab10a54f",
   "metadata": {
    "scrolled": true
   },
   "outputs": [],
   "source": [
    "from helper.plots import show_with_slider_3d\n",
    "\n",
    "show_with_slider_3d(\n",
    "    animation_3D.projections,\n",
    "    labels=animation_3D.labels,\n",
    "    interpolate=False,\n",
    "    steps_per_transition=1,\n",
    "    alpha=0.7,\n",
    "    dataset=animation_3D.run.dataset,\n",
    "    show_legend=False,\n",
    "    dot_size=10, #20\n",
    ")"
   ]
  },
  {
   "cell_type": "code",
   "execution_count": null,
   "id": "52b47a57-efe1-4788-9960-b806a0f54483",
   "metadata": {},
   "outputs": [],
   "source": [
    "animation_3D.evaluate()"
   ]
  },
  {
   "cell_type": "markdown",
   "id": "fdb32e30-aa2d-46c1-8c95-33b5c6a1a0b1",
   "metadata": {},
   "source": [
    "### Other Denoising Strategies"
   ]
  },
  {
   "cell_type": "code",
   "execution_count": null,
   "id": "f8a4b616-b51b-4cb8-b80b-f7adda205f1c",
   "metadata": {},
   "outputs": [],
   "source": [
    "#projections = projections_pca_window\n",
    "animation = ani_pca_all"
   ]
  },
  {
   "cell_type": "code",
   "execution_count": null,
   "id": "293d75f8-b0e0-475f-86c3-53fc1c70ced4",
   "metadata": {},
   "outputs": [],
   "source": [
    "animation.evaluate()"
   ]
  },
  {
   "cell_type": "markdown",
   "id": "42ee65e1-8146-4fb1-82ea-c5470c700ea0",
   "metadata": {},
   "source": [
    "To smooth the low-dimensional projections we use two denoising modes:\n",
    "\n",
    "- **Exponential (causal) blending**  \n",
    "  Recursively mix each frame $P_i$ with the previous denoised output $D_{i-1}$:  \n",
    "  $$D_i = (1-\\alpha)\\,P_i + \\alpha\\,D_{i-1}$$  \n",
    "  Reacts quickly while damping high-frequency noise.\n",
    "\n",
    "- **Window (moving-average) blending**  \n",
    "  Compute the mean of the last $w$ raw projections:  \n",
    "  $$\\overline{P}_i = \\frac{1}{w}\\sum_{j=i-w+1}^{i}P_j$$  \n",
    "  and blend it with $P_i$:  \n",
    "  $$D_i = (1-\\alpha)\\,P_i + \\alpha\\,\\overline{P}_i$$\n",
    "  Uses surrounding frames for stronger smoothing at the cost of lag.\n"
   ]
  },
  {
   "cell_type": "code",
   "execution_count": null,
   "id": "4462f544-dc07-437e-a044-bd7d2970f908",
   "metadata": {},
   "outputs": [],
   "source": [
    "denoised_window = animation.denoise(window_size=15, blend=0.9, mode='window')\n",
    "denoised_exponential = animation.denoise(blend=0.8, mode='exponential')"
   ]
  },
  {
   "cell_type": "code",
   "execution_count": null,
   "id": "649c6690f7a02cbc",
   "metadata": {
    "collapsed": false
   },
   "outputs": [],
   "source": [
    "show_animations(\n",
    "    animations=[\n",
    "        animation,\n",
    "        denoised_window,\n",
    "        denoised_exponential],\n",
    "    custom_titles=[\"PCA\", \"PCA denoised window\", \"PCA denoised exponential\"]\n",
    ")"
   ]
  },
  {
   "cell_type": "code",
   "execution_count": null,
   "id": "f51d9be1-59e3-4d1d-8575-836d67857a54",
   "metadata": {},
   "outputs": [],
   "source": [
    "denoised_window.evaluate()\n",
    "denoised_exponential.evaluate()"
   ]
  },
  {
   "cell_type": "code",
   "execution_count": null,
   "id": "806a0dd8-c141-4c2c-9ffa-674bbd8146e5",
   "metadata": {},
   "outputs": [],
   "source": [
    "import numpy as np\n",
    "import matplotlib.pyplot as plt\n",
    "\n",
    "# Define parameters\n",
    "window_sizes = [1, 2, 4, 8, 10, 15, 20, 30]\n",
    "blend_values = np.linspace(0, 1, 11)\n",
    "correlation_results = {ws: [] for ws in window_sizes}\n",
    "exponentials = []\n",
    "\n",
    "# Run correlations\n",
    "for blend in blend_values:\n",
    "    for ws in window_sizes:\n",
    "        corr = animation.denoise(window_size=ws, blend=blend, mode='window').evaluate(verbose=False)\n",
    "        correlation_results[ws].append(corr)\n",
    "\n",
    "    corr = animation.denoise(blend=blend, mode='exponential').evaluate(verbose=False)\n",
    "    exponentials.append(corr)"
   ]
  },
  {
   "cell_type": "code",
   "execution_count": null,
   "id": "9ed2ac73-acf6-4edc-93fa-eef1f0dd3c8c",
   "metadata": {},
   "outputs": [],
   "source": [
    "# Plotting\n",
    "plt.figure(figsize=(8, 4))\n",
    "for ws in window_sizes:\n",
    "    plt.plot(blend_values, correlation_results[ws], label=f'window_size={ws}')\n",
    "plt.plot(blend_values, exponentials, label=f'exponential', linewidth=3)\n",
    "plt.xlabel(\"Blend\")\n",
    "plt.ylabel(\"Correlation\")\n",
    "plt.title(\"Correlation vs. Blend for different denoise calculations\")\n",
    "plt.legend()\n",
    "plt.grid(True)\n",
    "plt.show()"
   ]
  },
  {
   "cell_type": "code",
   "execution_count": null,
   "id": "0cd96e10-327c-41d4-bad2-cc191c546db7",
   "metadata": {},
   "outputs": [],
   "source": [
    "# Define parameters\n",
    "window_sizes = range(1, 30)\n",
    "correlation_results = []\n",
    "blend = 0.9\n",
    "\n",
    "# Run correlations\n",
    "for ws in window_sizes:\n",
    "    corr = animation.denoise(window_size=ws, blend=blend, mode='window').evaluate(verbose=False)\n",
    "    correlation_results.append(corr)\n",
    "\n",
    "# Plotting\n",
    "plt.figure(figsize=(8, 4))\n",
    "plt.plot(window_sizes, correlation_results)\n",
    "plt.xlabel(\"Window Size\")\n",
    "plt.ylabel(\"Correlation\")\n",
    "plt.title(\"Correlation vs. Window Size\")\n",
    "plt.grid(True)\n",
    "plt.show()"
   ]
  },
  {
   "cell_type": "markdown",
   "id": "b69e7fb1-b764-4e82-8636-740d1d0bb4b0",
   "metadata": {},
   "source": [
    "# t-SNE Visualization"
   ]
  },
  {
   "cell_type": "code",
   "execution_count": null,
   "id": "381b6ba7-2a11-4c80-a147-b7cc15826337",
   "metadata": {},
   "outputs": [],
   "source": [
    "# Close interactivity of plots before\n",
    "matplotlib.pyplot.close()"
   ]
  },
  {
   "cell_type": "markdown",
   "id": "6719776e-ec14-411d-af3c-0817e0afea58",
   "metadata": {},
   "source": [
    "## Standard t-SNE\n"
   ]
  },
  {
   "cell_type": "code",
   "execution_count": null,
   "id": "b249ba00-2adc-471b-89ee-b6be8e2ddd50",
   "metadata": {},
   "outputs": [],
   "source": [
    "# Restore original values\n",
    "run = Run(run_id, dataset)\n",
    "run.print_info()"
   ]
  },
  {
   "cell_type": "code",
   "execution_count": null,
   "id": "0b5964f2-c256-4e59-b61b-6e7f82d28128",
   "metadata": {},
   "outputs": [],
   "source": [
    "run.subsample(point_step=4)\n",
    "run.print_info()"
   ]
  },
  {
   "cell_type": "code",
   "execution_count": null,
   "id": "eabca50f-6ed6-46e4-9025-0e271e143a80",
   "metadata": {},
   "outputs": [],
   "source": [
    "from helper.visualization import generate_projections, denoise_projections\n",
    "\n",
    "pca_animation = generate_projections(\n",
    "    run,\n",
    "    method='pca',\n",
    "    pca_fit_basis='all',\n",
    "    window_size=16,\n",
    ").denoise(blend=0.8, mode='exponential')\n",
    "\n",
    "print(f\"{len(run.embeddings)} - 1 should be {len(run.embedding_drifts[1])}\")"
   ]
  },
  {
   "cell_type": "code",
   "execution_count": null,
   "id": "851a7c6a-4a82-4bb4-8ae2-7c67d3cc223a",
   "metadata": {},
   "outputs": [],
   "source": [
    "from helper.visualization import generate_projections, show_animations\n",
    "from helper.plots import show_multiple_projections_with_slider\n",
    "\n",
    "tsne_animation = generate_projections(\n",
    "    run,\n",
    "    method='tsne',\n",
    ")"
   ]
  },
  {
   "cell_type": "code",
   "execution_count": null,
   "id": "799e3c83-35e9-4133-8c5c-18dfdfeb8d19",
   "metadata": {},
   "outputs": [],
   "source": [
    "%matplotlib ipympl\n",
    "%matplotlib widget\n",
    "\n",
    "show_animations(\n",
    "    [tsne_animation, pca_animation],\n",
    "    interpolate=True,\n",
    "    steps_per_transition=5\n",
    ")"
   ]
  },
  {
   "cell_type": "code",
   "execution_count": null,
   "id": "1d0dd05f-88e8-46e0-a5f4-056ccf2ddaff",
   "metadata": {},
   "outputs": [],
   "source": [
    "tsne_animation.evaluate()"
   ]
  },
  {
   "cell_type": "code",
   "execution_count": null,
   "id": "eb45a473-ffac-46aa-854b-ad92f1484998",
   "metadata": {},
   "outputs": [],
   "source": [
    "from helper.visualization import animate_projections\n",
    "\n",
    "def save_as_gif(\n",
    "        animation,\n",
    "        frame_interval=50,\n",
    "        figsize=(4, 4),\n",
    "        dot_size=5,\n",
    "        alpha=0.6,\n",
    "        cmap='tab10',\n",
    "        axis_lim=None,\n",
    "        interpolate=True,\n",
    "        steps_per_transition=1,\n",
    "):\n",
    "    print(\"Generating plot...\")\n",
    "    ani = animate_projections(\n",
    "        animation.projections,\n",
    "        animation.labels,\n",
    "        frame_interval=frame_interval,\n",
    "        interpolate=interpolate,\n",
    "        steps_per_transition=steps_per_transition,\n",
    "        figsize=figsize,\n",
    "        dot_size=dot_size,\n",
    "        alpha=alpha,\n",
    "        cmap=cmap,\n",
    "        axis_lim=axis_lim\n",
    "    )\n",
    "\n",
    "    print(\"Saving file...\")\n",
    "    filename = f\"plots/animations/{animation.run_id}_{animation.title}.gif\"\n",
    "\n",
    "    ani.save(filename, writer='pillow', dpi=150)\n",
    "    plt.close(ani._fig)\n",
    "\n",
    "    print(filename)"
   ]
  },
  {
   "cell_type": "code",
   "execution_count": null,
   "id": "f28d444a-2e88-4906-8b19-c79c5652c94e",
   "metadata": {},
   "outputs": [],
   "source": [
    "save_as_gif(tsne_animation, frame_interval=100, steps_per_transition=5)"
   ]
  },
  {
   "cell_type": "code",
   "execution_count": null,
   "id": "aaea932b-041b-4447-961d-e1c215772c31",
   "metadata": {},
   "outputs": [],
   "source": [
    "denoised_tsne = tsne_animation.denoise(blend=0.8, mode='exponential')"
   ]
  },
  {
   "cell_type": "code",
   "execution_count": null,
   "id": "3a115049-8ef5-479e-afb2-5b3b87766ee4",
   "metadata": {},
   "outputs": [],
   "source": [
    "show_animations([tsne_animation, denoised_tsne, pca_animation])"
   ]
  },
  {
   "cell_type": "code",
   "execution_count": null,
   "id": "ce924bba-7cff-41d5-a92b-4ebaba98ea41",
   "metadata": {},
   "outputs": [],
   "source": [
    "denoised_tsne.evaluate()"
   ]
  },
  {
   "cell_type": "code",
   "execution_count": null,
   "id": "d2bdb5d9-0a90-4bbd-a335-2b86fa1affd3",
   "metadata": {},
   "outputs": [],
   "source": [
    "from helper.visualization import show_projections_and_drift\n",
    "\n",
    "show_animations([pca_animation, denoised_tsne, tsne_animation], with_drift=True)"
   ]
  },
  {
   "cell_type": "markdown",
   "id": "50b28def-b1d3-4d8a-b5d7-db35444f2e7b",
   "metadata": {},
   "source": [
    "## t-SNE with update blending\n",
    "\n",
    "After computing t-SNE for frame $i$, you blend it with the previous projection.\n",
    "`tsne_update` is a weight in $[0,1]$:\n",
    "- If `tsne_update=1`, it's exactly the original method (no blending).\n",
    "- If `tsne_update=0`, you freeze to the previous frame (no update at all).\n",
    "- Values like `0.2 - 3` should result in a smooth interpolation between old and new.\n",
    "\n",
    "Result: Extra smoothing over time.\n",
    "- Avoids too fast movements\n",
    "- Avoids flips of dense clusters\n",
    "- Can introduce lag or “stickiness,” but animations look steadier."
   ]
  },
  {
   "cell_type": "code",
   "execution_count": null,
   "id": "467abb76-dc7e-4d9e-800a-21c1ce7ee54f",
   "metadata": {},
   "outputs": [],
   "source": [
    "tsne_avg = generate_projections(\n",
    "    run,\n",
    "    method='tsne',\n",
    "    tsne_update=0.3\n",
    ")"
   ]
  },
  {
   "cell_type": "code",
   "execution_count": null,
   "id": "95ad878e-d1db-44f7-bedc-008357c08d69",
   "metadata": {},
   "outputs": [],
   "source": [
    "show_animations(\n",
    "    [tsne_avg, tsne_animation],\n",
    "    interpolate=True,\n",
    "    steps_per_transition=5,\n",
    ")"
   ]
  },
  {
   "cell_type": "markdown",
   "id": "1e18984c-af0a-4bbd-8bbe-f2634b354c33",
   "metadata": {},
   "source": [
    "## t-SNE with backwards computation\n",
    "Starts with the last frame\n",
    "- Ensures convergence\n",
    "- Improves noise in early frames as the basis is from a later and better picture"
   ]
  },
  {
   "cell_type": "code",
   "execution_count": null,
   "id": "f4102405-6591-4e94-8650-25f27b4734c9",
   "metadata": {},
   "outputs": [],
   "source": [
    "tsne_reverse = generate_projections(\n",
    "    run,\n",
    "    method='tsne',\n",
    "    reverse_computation=True\n",
    ")"
   ]
  },
  {
   "cell_type": "code",
   "execution_count": null,
   "id": "34e7e8a6-76a1-49a8-bb4b-d4a16efed77b",
   "metadata": {
    "scrolled": true
   },
   "outputs": [],
   "source": [
    "show_animations(\n",
    "    [tsne_reverse, tsne_animation],\n",
    "    interpolate=True,\n",
    "    steps_per_transition=5\n",
    ")"
   ]
  },
  {
   "cell_type": "code",
   "execution_count": null,
   "id": "1bbb05c3-55c6-4b7b-8e98-f32742883527",
   "metadata": {},
   "outputs": [],
   "source": [
    "tsne_reverse_2 = generate_projections(\n",
    "    run,\n",
    "    method='tsne',\n",
    "    reverse_computation=True,\n",
    "    tsne_update=0.2\n",
    ")"
   ]
  },
  {
   "cell_type": "code",
   "execution_count": null,
   "id": "e5461e81-72b8-41da-a9d5-4f8405fa9b40",
   "metadata": {},
   "outputs": [],
   "source": [
    "show_animations(\n",
    "    [tsne_reverse_2, tsne_reverse, tsne_animation],\n",
    "    interpolate=True,\n",
    "    steps_per_transition=5,\n",
    "    with_drift=True\n",
    ")"
   ]
  },
  {
   "cell_type": "markdown",
   "id": "3927e45b-59ed-4957-8e9b-825b894c54b7",
   "metadata": {},
   "source": [
    "## t-SNE with Cosine metric"
   ]
  },
  {
   "cell_type": "code",
   "execution_count": null,
   "id": "040ae282-43de-4dc9-b133-09f43f46b919",
   "metadata": {},
   "outputs": [],
   "source": [
    "tsne_cosine = generate_projections(\n",
    "    run,\n",
    "    method='tsne',\n",
    "    metric='cosine'\n",
    ")"
   ]
  },
  {
   "cell_type": "code",
   "execution_count": null,
   "id": "54057401-c596-47a1-93db-b124e7306914",
   "metadata": {
    "scrolled": true
   },
   "outputs": [],
   "source": [
    "show_projections_and_drift(\n",
    "    projections_list = [tsne_cosine, tsne_animation],\n",
    "    interpolate=True,\n",
    "    steps_per_transition=5,\n",
    ")"
   ]
  },
  {
   "cell_type": "markdown",
   "id": "531b42e1-8925-4597-b53c-5726e985239b",
   "metadata": {},
   "source": [
    "## t-SNE with random Seed"
   ]
  },
  {
   "cell_type": "code",
   "execution_count": null,
   "id": "fda5b0b4-e5ec-4f15-a90f-c103a9d77217",
   "metadata": {},
   "outputs": [],
   "source": [
    "tsne_random = generate_projections(\n",
    "    run,\n",
    "    method='tsne',\n",
    "    random_state=1106,\n",
    "    tsne_init='random'\n",
    ")"
   ]
  },
  {
   "cell_type": "code",
   "execution_count": null,
   "id": "7c866c99-9f5f-4f78-92d7-484d1ae6e69f",
   "metadata": {},
   "outputs": [],
   "source": [
    "show_animations(\n",
    "    [tsne_random, tsne_animation],\n",
    "    interpolate=True,\n",
    "    steps_per_transition=5\n",
    ")"
   ]
  },
  {
   "cell_type": "markdown",
   "id": "51fe4a13-74bf-439e-8be9-7568a9ec1e66",
   "metadata": {},
   "source": [
    "## t-SNE Perplexity\n",
    "Compare 5 - 10 - 30 - 50"
   ]
  },
  {
   "cell_type": "code",
   "execution_count": null,
   "id": "5132def5-0a59-4c1b-be21-c502e75c5ae4",
   "metadata": {},
   "outputs": [],
   "source": [
    "tsne_p_5 = generate_projections(\n",
    "    run,\n",
    "    method='tsne',\n",
    "    tsne_perplexity=5\n",
    ")\n",
    "\n",
    "tsne_p_10 = generate_projections(\n",
    "    run,\n",
    "    method='tsne',\n",
    "    tsne_perplexity=10\n",
    ")\n",
    "\n",
    "tsne_p_50 = generate_projections(\n",
    "    run,\n",
    "    method='tsne',\n",
    "    tsne_perplexity=50\n",
    ")\n",
    "\n",
    "tsne_p_30 = tsne_animation"
   ]
  },
  {
   "cell_type": "code",
   "execution_count": null,
   "id": "691030b6-4e82-463f-9176-ce7c679a96ec",
   "metadata": {},
   "outputs": [],
   "source": [
    "show_animations(\n",
    "    [tsne_p_5, tsne_p_10, tsne_p_30, tsne_p_50],\n",
    "    custom_titles=[\"t-SNE Perplexity 5\",\n",
    "                   \"t-SNE Perplexity 10\",\n",
    "            \"t-SNE Perpl. 30 (standard)\",\n",
    "            \"t-SNE Perplexity 50\"],\n",
    ")"
   ]
  },
  {
   "cell_type": "markdown",
   "id": "d7570cfa-7c32-47bf-a273-b22279f2eeb0",
   "metadata": {},
   "source": [
    "## Combinations\n",
    "Educated guesses for a good t-SNE Visualization"
   ]
  },
  {
   "cell_type": "code",
   "execution_count": null,
   "id": "1627003f-7129-40fd-b36f-f4559b84cf1f",
   "metadata": {},
   "outputs": [],
   "source": [
    "tsne_p_5_blend = generate_projections(\n",
    "    run,\n",
    "    method='tsne',\n",
    "    tsne_perplexity=5,\n",
    "    tsne_update=0.2\n",
    ")\n",
    "tsne_p_5_blend_3 = generate_projections(\n",
    "    run,\n",
    "    method='tsne',\n",
    "    tsne_perplexity=5,\n",
    "    tsne_update=0.3\n",
    ")"
   ]
  },
  {
   "cell_type": "code",
   "execution_count": null,
   "id": "459be39e-cc58-42fb-9c27-4e310ee43cb1",
   "metadata": {},
   "outputs": [],
   "source": [
    "show_animations(\n",
    "    [\n",
    "        tsne_p_5_blend,\n",
    "        tsne_p_5_blend_3,\n",
    "        tsne_p_5,\n",
    "        tsne_avg,\n",
    "        tsne_animation\n",
    "    ],\n",
    "    custom_titles=[\n",
    "        \"t-SNE P5 Blending 0.2\",\n",
    "        \"t-SNE P5 Blending 0.3\",\n",
    "        \"t-SNE Perplexity 5\",\n",
    "        \"t-SNE Blending\",\n",
    "        \"t-SNE\"\n",
    "    ],\n",
    ")"
   ]
  },
  {
   "cell_type": "markdown",
   "id": "b2abbe99-489c-4ffb-8148-9a116a277d88",
   "metadata": {
    "jp-MarkdownHeadingCollapsed": true
   },
   "source": [
    "# td-SNE"
   ]
  },
  {
   "cell_type": "code",
   "execution_count": null,
   "id": "dab4b7bd-937a-4d05-bec8-2ef18ccc229f",
   "metadata": {},
   "outputs": [],
   "source": [
    "import torch\n",
    "import torch.nn.functional as F\n",
    "from torch.optim import Adam\n",
    "import time\n",
    "\n",
    "\n",
    "class DynamicTSNE:\n",
    "    def __init__(\n",
    "            self,\n",
    "            output_dims=2,\n",
    "            verbose=True,\n",
    "    ):\n",
    "        self.output_dims = output_dims\n",
    "        self.verbose = verbose\n",
    "        self.device = torch.device(\"cuda\" if torch.cuda.is_available() else \"cpu\")\n",
    "\n",
    "    def compute_affinities(self, Xs, perplexity=30.0, k_neighbors=90):\n",
    "        def Hbeta(D, beta):\n",
    "            P = torch.exp(-D * beta)\n",
    "            sumP = torch.sum(P)\n",
    "            sumP = torch.clamp(sumP, min=1e-8)\n",
    "            H = torch.log(sumP) + beta * torch.sum(D * P) / sumP\n",
    "            P = torch.clamp(P / sumP, min=1e-8)\n",
    "            return H, P\n",
    "\n",
    "        def compute_P(X, init_beta=None):\n",
    "            t0 = time.time()\n",
    "\n",
    "            n = X.shape[0]\n",
    "            D = torch.cdist(X, X, p=2).pow(2)\n",
    "            P = torch.zeros((n, n), device=X.device)\n",
    "            beta = init_beta.clone() if init_beta is not None else torch.ones(n, device=X.device)\n",
    "            logU = torch.log(torch.tensor(perplexity, device=X.device))\n",
    "            all_tries = 0\n",
    "\n",
    "            for i in range(n):\n",
    "                distances = D[i]\n",
    "                topk = torch.topk(distances, k=k_neighbors + 1, largest=False)\n",
    "                idx = topk.indices[topk.indices != i][:k_neighbors]\n",
    "                Di = torch.clamp(distances[idx], max=1e3)\n",
    "\n",
    "                betamin, betamax = None, None\n",
    "                H, thisP = Hbeta(Di, beta[i])\n",
    "                tries = 0\n",
    "                while torch.abs(H - logU) > 1e-5 and tries < 50:\n",
    "                    if H > logU:\n",
    "                        betamin = beta[i].clone()\n",
    "                        beta[i] = beta[i] * 2 if betamax is None else (beta[i] + betamax) / 2\n",
    "                    else:\n",
    "                        betamax = beta[i].clone()\n",
    "                        beta[i] = beta[i] / 2 if betamin is None else (beta[i] + betamin) / 2\n",
    "                    H, thisP = Hbeta(Di, beta[i])\n",
    "                    tries += 1\n",
    "                all_tries += tries\n",
    "                P[i, idx] = thisP\n",
    "\n",
    "            if self.verbose:\n",
    "                print(f\"Total affinity computation time: {time.time() - t0:.2f}s, {all_tries / n} Tries\")\n",
    "\n",
    "            P = (P + P.T) / (2 * n)\n",
    "            return P, beta\n",
    "\n",
    "        X_tensor = [torch.tensor(X, device=self.device) for X in Xs]\n",
    "        self.Xs = X_tensor\n",
    "\n",
    "        Ps = []\n",
    "        prev_beta = None\n",
    "        for X in X_tensor:\n",
    "            P, prev_beta = compute_P(X, prev_beta)\n",
    "            Ps.append(P)\n",
    "\n",
    "        self.Ps = torch.stack(Ps)\n",
    "        assert not torch.isnan(self.Ps).any(), \"Affinity matrix has NaN\"\n",
    "\n",
    "    def fit(self, n_epochs=1000, exaggeration=12.0, exaggeration_epochs=250, lr=200.0, lambd=0.1):\n",
    "        T = len(self.Xs)\n",
    "        n = self.Xs[0].shape[0]\n",
    "\n",
    "        Y_init = []\n",
    "        for X in self.Xs:\n",
    "            X_cpu = X.detach().cpu().numpy()\n",
    "            pca = PCA(n_components=self.output_dims)\n",
    "            Y_pca = pca.fit_transform(X_cpu)\n",
    "            Y_init.append(torch.tensor(Y_pca, device=self.device, dtype=torch.float32))\n",
    "        \n",
    "        Y = torch.stack(Y_init)\n",
    "        Y.requires_grad_()\n",
    "\n",
    "        optimizer = Adam([Y], lr=lr)\n",
    "        scheduler = torch.optim.lr_scheduler.CosineAnnealingLR(optimizer, T_max=n_epochs)\n",
    "\n",
    "        for epoch in range(n_epochs):\n",
    "            optimizer.zero_grad()\n",
    "            total_loss = 0\n",
    "\n",
    "            if epoch < exaggeration_epochs:\n",
    "                P_use = self.Ps * exaggeration\n",
    "            else:\n",
    "                lambd = 0\n",
    "                P_use = self.Ps\n",
    "            \n",
    "            for t in range(T):\n",
    "                Qt, _ = self._compute_lowdim_affinities(Y[t])\n",
    "                loss = self._kl_divergence(P_use[t], Qt)\n",
    "                if t > 0:\n",
    "                    loss += lambd * F.mse_loss(Y[t], Y[t - 1])\n",
    "                total_loss += loss\n",
    "\n",
    "            total_loss.backward()\n",
    "            torch.nn.utils.clip_grad_norm_([Y], max_norm=10.0)\n",
    "            optimizer.step()\n",
    "            scheduler.step()\n",
    "\n",
    "            if self.verbose and (epoch % 100 == 0 or epoch == n_epochs - 1):\n",
    "                print(f\"Epoch {epoch}, Loss: {total_loss.item():.4f}\")\n",
    "\n",
    "        return [Y[t].detach().cpu().numpy() for t in range(T)]\n",
    "\n",
    "    def _compute_lowdim_affinities(self, Y):\n",
    "        num = 1 / (1 + torch.cdist(Y, Y, p=2).pow(2))\n",
    "        num.fill_diagonal_(0.0)\n",
    "        Q = torch.clamp(num / num.sum(), min=1e-5)\n",
    "        return Q, num\n",
    "\n",
    "    def _kl_divergence(self, P, Q):\n",
    "        return torch.sum(P * torch.log((P + 1e-8) / (Q + 1e-8)))"
   ]
  },
  {
   "cell_type": "code",
   "execution_count": null,
   "id": "c133de49-b768-4106-b8da-33358fac4140",
   "metadata": {},
   "outputs": [],
   "source": [
    "subset = [embedding_list[i] for i in range(10, len(embedding_list), 30)]\n",
    "len(subset)\n",
    "#samples_per_class = 100\n",
    "#classes = 10  # assuming 1000 samples total and 100 per class\n",
    "#indices = np.concatenate([np.arange(c * 100, c * 100 + samples_per_class) for c in range(classes)])\n",
    "#subset = [emb[:][indices] for emb in subset]\n",
    "#label_subset = [emb[:][indices] for emb in results[\"subset_labels\"]]"
   ]
  },
  {
   "cell_type": "code",
   "execution_count": null,
   "id": "779a3a48-ea63-4147-9070-9a2f42a480d5",
   "metadata": {},
   "outputs": [],
   "source": [
    "tsne = DynamicTSNE()\n",
    "tsne.compute_affinities(subset, perplexity=30.0, k_neighbors=250)"
   ]
  },
  {
   "cell_type": "code",
   "execution_count": null,
   "id": "ebaef59e-6776-4280-ae6e-f68dd26a20ad",
   "metadata": {},
   "outputs": [],
   "source": [
    "from sklearn.decomposition import PCA\n",
    "projections = tsne.fit(lr=200, lambd=0.1, n_epochs=1000, exaggeration_epochs=250, exaggeration=22.0)"
   ]
  },
  {
   "cell_type": "code",
   "execution_count": null,
   "id": "7866586b-984f-4a92-af2d-1a5a09e8d800",
   "metadata": {},
   "outputs": [],
   "source": [
    "%matplotlib widget\n",
    "\n",
    "show_with_slider(\n",
    "    projections,\n",
    "    labels=results[\"subset_labels\"],\n",
    "    interpolate=False,\n",
    "    steps_per_transition=4,\n",
    ")"
   ]
  },
  {
   "cell_type": "code",
   "execution_count": null,
   "id": "2bad151f-e036-4669-b509-eb62b62501d0",
   "metadata": {},
   "outputs": [],
   "source": [
    "matplotlib.pyplot.close()"
   ]
  },
  {
   "cell_type": "code",
   "execution_count": null,
   "id": "e9b29f3b-4b40-4572-8c3d-8bda54d0ce38",
   "metadata": {},
   "outputs": [],
   "source": [
    "visualization_drift_vs_embedding_drift(thesne, embedding_drift_subset)"
   ]
  },
  {
   "cell_type": "code",
   "execution_count": null,
   "id": "2db8b5a0-5d44-4360-a1ef-326b2278eeca",
   "metadata": {
    "scrolled": true
   },
   "outputs": [],
   "source": [
    "Y = tsne_with_live_callback(embedding_list[10],\n",
    "                        labels=results[\"subset_labels\"][0],\n",
    "                        perplexity=30,\n",
    "                        lr=200,\n",
    "                        n_iter=10000,\n",
    "                        interval=5)"
   ]
  },
  {
   "cell_type": "code",
   "execution_count": null,
   "id": "12092497-413c-4512-928b-338aede93667",
   "metadata": {},
   "outputs": [],
   "source": [
    "from openTSNE import TSNE\n",
    "import matplotlib.pyplot as plt\n",
    "import numpy as np\n",
    "from IPython.display import display, clear_output\n",
    "\n",
    "def tsne_with_live_callback(X, labels=None, perplexity=30, lr=200, n_iter=1000, interval=50):\n",
    "    fig, ax = plt.subplots(figsize=(6, 6))\n",
    "\n",
    "    def callback(iteration, error, Y):\n",
    "        if iteration % interval == 0 or iteration == n_iter - 1:\n",
    "            ax.clear()\n",
    "            if labels is not None:\n",
    "                ax.scatter(Y[:, 0], Y[:, 1], c=labels, cmap='tab10', s=5, alpha=0.7)\n",
    "            else:\n",
    "                ax.scatter(Y[:, 0], Y[:, 1], s=5, alpha=0.7)\n",
    "            ax.set_title(f\"t-SNE at iter {iteration}\")\n",
    "            ax.set_xticks([])\n",
    "            ax.set_yticks([])\n",
    "            clear_output(wait=True)\n",
    "            display(fig)\n",
    "\n",
    "    tsne = TSNE(\n",
    "        n_components=2,\n",
    "        perplexity=perplexity,\n",
    "        learning_rate=lr,\n",
    "        n_iter=n_iter,\n",
    "        initialization=\"pca\",\n",
    "        callbacks=callback,\n",
    "        callbacks_every_iters=interval,\n",
    "        verbose=False,\n",
    "    )\n",
    "\n",
    "    try:\n",
    "        Y = tsne.fit(X)\n",
    "    except KeyboardInterrupt:\n",
    "        print(\"Interrupted, returning current state.\")\n",
    "        return tsne\n",
    "\n",
    "    return Y"
   ]
  },
  {
   "cell_type": "markdown",
   "id": "31195665-b273-42a4-808c-a7134f4e0349",
   "metadata": {
    "jp-MarkdownHeadingCollapsed": true
   },
   "source": [
    "# OPENTSNE Dynamic"
   ]
  },
  {
   "cell_type": "code",
   "execution_count": null,
   "id": "54e4430f-60ae-42fe-bb8b-5a0ab078719c",
   "metadata": {},
   "outputs": [],
   "source": [
    "import numpy as np\n",
    "from openTSNE import TSNE\n",
    "from sklearn.decomposition import PCA\n",
    "\n",
    "\n",
    "class DynamicTSNE_2:\n",
    "    def __init__(self, perplexity=30, n_iter=1000, init='pca', random_state=None):\n",
    "        \"\"\"\n",
    "        init: 'pca', 'random', or 'previous'\n",
    "        \"\"\"\n",
    "        assert init in ['pca', 'random', 'previous']\n",
    "        self.perplexity = perplexity\n",
    "        self.n_iter = n_iter\n",
    "        self.init = init\n",
    "        self.random_state = random_state\n",
    "\n",
    "    def fit_transform(self, Xs):\n",
    "        \"\"\"\n",
    "        Xs: List of np.ndarray (each shape: [n_samples, n_features])\n",
    "        Returns: List of np.ndarray (each shape: [n_samples, 2])\n",
    "        \"\"\"\n",
    "        embeddings = []\n",
    "        previous_embedding = None\n",
    "\n",
    "        for i, X in enumerate(Xs):\n",
    "            print(i)\n",
    "            if i == 0 or self.init == 'pca':\n",
    "                init_embedding = PCA(n_components=2).fit_transform(X) if self.init != 'random' else 'random'\n",
    "            else:\n",
    "                init_embedding = previous_embedding\n",
    "\n",
    "            tsne = TSNE(\n",
    "                n_jobs=-1,\n",
    "                perplexity=self.perplexity,\n",
    "                n_iter=self.n_iter,\n",
    "                initialization=init_embedding,\n",
    "                random_state=self.random_state,\n",
    "                verbose=True\n",
    "            )\n",
    "            embedding = tsne.fit(X)\n",
    "            embeddings.append(embedding)\n",
    "            previous_embedding = embedding\n",
    "\n",
    "        return embeddings"
   ]
  },
  {
   "cell_type": "code",
   "execution_count": null,
   "id": "9b871ad8-ac78-4c55-b2e9-ad61ab229777",
   "metadata": {
    "scrolled": true
   },
   "outputs": [],
   "source": [
    "dynamic_tsne = DynamicTSNE_2(n_iter=500, init='previous', random_state=42)\n",
    "projections_2 = dynamic_tsne.fit_transform(subset)"
   ]
  },
  {
   "cell_type": "code",
   "execution_count": null,
   "id": "060fb98f-d23a-46ab-af8e-75d9f2a4f458",
   "metadata": {},
   "outputs": [],
   "source": [
    "%matplotlib widget\n",
    "\n",
    "show_with_slider(\n",
    "    projections_2,\n",
    "    labels=results[\"subset_labels\"],\n",
    "    interpolate=False,\n",
    "    steps_per_transition=4,\n",
    ")"
   ]
  },
  {
   "cell_type": "markdown",
   "id": "33e59b0e-c6fb-4a4b-a4a9-9b595fee710b",
   "metadata": {
    "jp-MarkdownHeadingCollapsed": true
   },
   "source": [
    "# MODERN DYNAMIC TNSNE"
   ]
  },
  {
   "cell_type": "code",
   "execution_count": null,
   "id": "6b80eff9-c28a-48b5-a3df-29f14f4400b3",
   "metadata": {},
   "outputs": [],
   "source": []
  },
  {
   "cell_type": "code",
   "execution_count": null,
   "id": "c4f2bd41-fd84-486a-b33d-894577ccd4b3",
   "metadata": {},
   "outputs": [],
   "source": [
    "import numpy as np\n",
    "\n",
    "subset = [embedding_list[i] for i in range(0, len(embedding_list), 5)]\n",
    "samples_per_class = 4\n",
    "classes = 100  # assuming 1000 samples total and 100 per class\n",
    "indices = np.concatenate([np.arange(c * 10, c * 10 + samples_per_class) for c in range(classes)])\n",
    "subset = [emb[:][indices] for emb in subset]\n",
    "label_subset = [emb[:][indices] for emb in results[\"subset_labels\"]]\n",
    "len(subset)"
   ]
  },
  {
   "cell_type": "code",
   "execution_count": null,
   "id": "f1874cdd-8185-41fc-87d9-0a5750e31411",
   "metadata": {},
   "outputs": [],
   "source": [
    "label_subset[0]"
   ]
  },
  {
   "cell_type": "code",
   "execution_count": null,
   "id": "ebbb1297-f353-4fa2-96d7-22342e02c240",
   "metadata": {},
   "outputs": [],
   "source": [
    "modern_dynamic_tsne = ModernDynamicTSNE(\n",
    "    n_epochs=500,\n",
    "    perplexity=30,\n",
    ")\n",
    "projections_3 = modern_dynamic_tsne.fit_transform(subset)"
   ]
  },
  {
   "cell_type": "code",
   "execution_count": null,
   "id": "a6a0719d-ffb0-477d-acd5-626168285e36",
   "metadata": {},
   "outputs": [],
   "source": [
    "projections_tsne = generate_projections(\n",
    "    embeddings_list=subset,\n",
    "    method='tsne',\n",
    ")"
   ]
  },
  {
   "cell_type": "code",
   "execution_count": null,
   "id": "52999af9-b740-4c70-8284-98794237aa70",
   "metadata": {},
   "outputs": [],
   "source": [
    "modern_dynamic_tsne"
   ]
  },
  {
   "cell_type": "code",
   "execution_count": null,
   "id": "f7196e94-dedb-45b4-bc46-425fff09adeb",
   "metadata": {},
   "outputs": [],
   "source": [
    "show_multiple_projections_with_slider(\n",
    "    projections_list=[projections_tsne, projections_3],\n",
    "    labels=results[\"subset_labels\"],\n",
    "    titles=[\"t-SNE\", \"Dynamic t-SNE\"],\n",
    "    interpolate=False,\n",
    "    figsize_per_plot=(4, 4),\n",
    "    dataset=dataset\n",
    ")"
   ]
  },
  {
   "cell_type": "code",
   "execution_count": null,
   "id": "b5aea256-6526-4d52-91c6-730d9f07b149",
   "metadata": {},
   "outputs": [],
   "source": [
    "show_with_slider(\n",
    "    projections_3,\n",
    "    labels=label_subset,\n",
    "    interpolate=False,\n",
    "    steps_per_transition=4,\n",
    "    dataset=dataset,\n",
    "    alpha=0.7\n",
    ")"
   ]
  },
  {
   "cell_type": "code",
   "execution_count": null,
   "id": "a2e5e23f-6ac4-4994-9ca5-438e3c98fcea",
   "metadata": {},
   "outputs": [],
   "source": [
    "import numpy as np\n",
    "from sklearn.decomposition import PCA\n",
    "import torch\n",
    "import torch.nn.functional as F\n",
    "from torch.optim import SGD\n",
    "\n",
    "\n",
    "class ModernDynamicTSNE:\n",
    "    def __init__(\n",
    "        self,\n",
    "        perplexity=30,\n",
    "        n_epochs=1000,\n",
    "        output_dims=2,\n",
    "        initial_lr=2400,\n",
    "        final_lr=200,\n",
    "        lr_switch=250,\n",
    "        init_stdev=1e-4,\n",
    "        initial_momentum=0.5,\n",
    "        final_momentum=0.8,\n",
    "        momentum_switch=250,\n",
    "        lmbda=0.0,\n",
    "        sigma_iters=50,\n",
    "        verbose=True,\n",
    "        device=None\n",
    "    ):\n",
    "        self.perplexity = perplexity\n",
    "        self.n_epochs = n_epochs\n",
    "        self.output_dims = output_dims\n",
    "        self.initial_lr = initial_lr\n",
    "        self.final_lr = final_lr\n",
    "        self.lr_switch = lr_switch\n",
    "        self.init_stdev = init_stdev\n",
    "        self.initial_momentum = initial_momentum\n",
    "        self.final_momentum = final_momentum\n",
    "        self.momentum_switch = momentum_switch\n",
    "        self.lmbda = lmbda\n",
    "        self.sigma_iters = sigma_iters\n",
    "        self.verbose = verbose\n",
    "        self.device = device or (\"cuda\" if torch.cuda.is_available() else \"cpu\")\n",
    "\n",
    "    def _hbeta(self, D, beta):\n",
    "        P = torch.exp(-D * beta)\n",
    "        sumP = torch.sum(P)\n",
    "        sumP = torch.clamp(sumP, min=1e-8)\n",
    "        H = torch.log(sumP) + beta * torch.sum(D * P) / sumP\n",
    "        P = P / sumP\n",
    "        return H, P\n",
    "\n",
    "    def _binary_search_perplexity(self, D, tol=1e-5):\n",
    "        n = D.shape[0]\n",
    "        sigmas = torch.ones(n, device=self.device)\n",
    "        P = torch.zeros((n, n), device=self.device)\n",
    "\n",
    "        logU = np.log(self.perplexity)\n",
    "        for i in range(n):\n",
    "            betamin = None\n",
    "            betamax = None\n",
    "            beta = sigmas[i]\n",
    "            Di = D[i][torch.arange(n) != i]\n",
    "            H, thisP = self._hbeta(Di, beta)\n",
    "\n",
    "            tries = 0\n",
    "            while torch.abs(H - logU) > tol and tries < self.sigma_iters:\n",
    "                if H > logU:\n",
    "                    betamin = beta\n",
    "                    beta = beta * 2 if betamax is None else (beta + betamax) / 2\n",
    "                else:\n",
    "                    betamax = beta\n",
    "                    beta = beta / 2 if betamin is None else (beta + betamin) / 2\n",
    "                H, thisP = self._hbeta(Di, beta)\n",
    "                tries += 1\n",
    "            P[i, torch.arange(n) != i] = thisP\n",
    "        return (P + P.T) / (2 * n)\n",
    "\n",
    "    def _precompute_Ps(self, Xs):\n",
    "        Ps = []\n",
    "        for X in Xs:\n",
    "            D = torch.cdist(X, X).pow(2)\n",
    "            P = self._binary_search_perplexity(D)\n",
    "            Ps.append(P)\n",
    "        return Ps\n",
    "\n",
    "    def _compute_cost(self, Ys, Ps):\n",
    "        total_kl = 0\n",
    "        for Y, P in zip(Ys, Ps):\n",
    "            Q_num = 1 / (1 + torch.cdist(Y, Y).pow(2))\n",
    "            Q_num.fill_diagonal_(0)\n",
    "            Q = Q_num / Q_num.sum()\n",
    "            kl = torch.sum(P * torch.log((P + 1e-8) / (Q + 1e-8)))\n",
    "            total_kl += kl\n",
    "        smoothness = sum((Ys[i] - Ys[i + 1]).pow(2).sum() for i in range(len(Ys) - 1))\n",
    "        return total_kl + self.lmbda * smoothness / (2 * Ys[0].shape[0])\n",
    "\n",
    "    def fit_transform(self, Xs_np):\n",
    "        Xs = [torch.tensor(X, device=self.device, dtype=torch.float32) for X in Xs_np]\n",
    "        T = len(Xs)\n",
    "        N = Xs[0].shape[0]\n",
    "\n",
    "        # Init Ys with PCA\n",
    "        Ys = [\n",
    "            torch.tensor(PCA(n_components=self.output_dims).fit_transform(X.cpu().numpy()),\n",
    "                         device=self.device, dtype=torch.float32, requires_grad=True)\n",
    "            for X in Xs\n",
    "        ]\n",
    "\n",
    "        # Precompute all P matrices once\n",
    "        Ps = self._precompute_Ps(Xs)\n",
    "\n",
    "        optimizer = SGD(Ys, lr=self.initial_lr, momentum=self.initial_momentum)\n",
    "\n",
    "        for epoch in range(self.n_epochs):\n",
    "            if epoch == self.lr_switch:\n",
    "                for param_group in optimizer.param_groups:\n",
    "                    param_group['lr'] = self.final_lr\n",
    "            if epoch == self.momentum_switch:\n",
    "                for param_group in optimizer.param_groups:\n",
    "                    param_group['momentum'] = self.final_momentum\n",
    "\n",
    "            optimizer.zero_grad()\n",
    "            loss = self._compute_cost(Ys, Ps)\n",
    "            loss.backward()\n",
    "            optimizer.step()\n",
    "\n",
    "            if self.verbose and (epoch % 100 == 0 or epoch == self.n_epochs - 1):\n",
    "                print(f\"Epoch {epoch}, Loss: {loss.item():.4f}\")\n",
    "\n",
    "        return [Y.detach().cpu().numpy() for Y in Ys]"
   ]
  },
  {
   "cell_type": "markdown",
   "id": "7ae21008-fd10-4767-a0cf-03fa666ee8b7",
   "metadata": {},
   "source": [
    "# PHATE"
   ]
  },
  {
   "cell_type": "code",
   "execution_count": null,
   "id": "46fe0592-d668-4594-a1df-2cc8c5873ef2",
   "metadata": {},
   "outputs": [],
   "source": [
    "import tphate\n",
    "import numpy as np\n",
    "\n",
    "def generate_tphate_projection(\n",
    "    embeddings,\n",
    "    out_dim=2,\n",
    "    knn=5,\n",
    "    decay=40,\n",
    "    t=2,\n",
    "    n_pca=None,\n",
    "    random_state=42,\n",
    "    **tphate_kwargs\n",
    "):\n",
    "    \"\"\"\n",
    "    Computes T-PHATE projection for 2D embedding array.\n",
    "    Args:\n",
    "        embeddings: numpy array, shape (n_points, embedding_dim)\n",
    "    Returns:\n",
    "        projection: np.ndarray, shape (n_points, out_dim)\n",
    "    \"\"\"\n",
    "    tphate_operator = tphate.TPHATE(\n",
    "        n_components=out_dim,\n",
    "        knn=knn,\n",
    "        decay=decay,\n",
    "        t=t,\n",
    "        n_pca=n_pca,\n",
    "        random_state=random_state,\n",
    "        **tphate_kwargs\n",
    "    )\n",
    "    projection = tphate_operator.fit_transform(embeddings)\n",
    "    return projection\n"
   ]
  },
  {
   "cell_type": "code",
   "execution_count": null,
   "id": "c04a1e74-b961-457d-9051-76b599c2636f",
   "metadata": {},
   "outputs": [],
   "source": [
    "projections_tphate = generate_tphate_projection(\n",
    "    embeddings=np.array(results[\"subset_embeddings\"]),\n",
    "    t=2\n",
    ")"
   ]
  },
  {
   "cell_type": "code",
   "execution_count": null,
   "id": "f330235c-0175-4783-b9e1-fccaf68039ad",
   "metadata": {},
   "outputs": [],
   "source": [
    "import matplotlib.pyplot as plt\n",
    "import numpy as np\n",
    "\n",
    "# projections_tphate_new: shape (n_epochs, 2)\n",
    "epochs = np.arange(projections_tphate_new.shape[0])\n",
    "\n",
    "plt.figure(figsize=(6, 6))\n",
    "plt.scatter(\n",
    "    projections_tphate_new[:, 0],\n",
    "    projections_tphate_new[:, 1],\n",
    "    c=epochs,\n",
    "    cmap='viridis',\n",
    "    s=30,\n",
    "    alpha=0.8\n",
    ")\n",
    "plt.xlabel('T-PHATE 1')\n",
    "plt.ylabel('T-PHATE 2')\n",
    "plt.title('T-PHATE Projection of Embedding Evolution')\n",
    "plt.colorbar(label='Epoch')\n",
    "plt.tight_layout()\n",
    "plt.show()"
   ]
  },
  {
   "cell_type": "code",
   "execution_count": null,
   "id": "c5e7fe7b-8565-48b2-9696-d6f7c2691ba9",
   "metadata": {},
   "outputs": [],
   "source": [
    "import matplotlib.pyplot as plt\n",
    "import numpy as np\n",
    "\n",
    "# projections_tphate: (n_epochs, n_samples, 2)\n",
    "# Choose a sample index to track\n",
    "sample_idx = 0  # or any index you want to visualize\n",
    "traj = projections_tphate[:, sample_idx, :]  # shape: (n_epochs, 2)\n",
    "epochs = np.arange(traj.shape[0])\n",
    "\n",
    "plt.figure(figsize=(6, 6))\n",
    "plt.plot(traj[:, 0], traj[:, 1], '-o', c='blue', alpha=0.8, label=f'Sample {sample_idx}')\n",
    "sc = plt.scatter(traj[:, 0], traj[:, 1], c=epochs, cmap='viridis', s=60, edgecolor='k')\n",
    "plt.xlabel('T-PHATE 1')\n",
    "plt.ylabel('T-PHATE 2')\n",
    "plt.title(f'Trajectory of Sample {sample_idx} in T-PHATE Space')\n",
    "plt.colorbar(sc, label='Epoch')\n",
    "plt.legend()\n",
    "plt.tight_layout()\n",
    "plt.show()"
   ]
  },
  {
   "cell_type": "code",
   "execution_count": null,
   "id": "da5d01c3-487e-450c-9ca5-4f9571f479f3",
   "metadata": {},
   "outputs": [],
   "source": [
    "# projections_tphate: (n_epochs, n_samples, 2)\n",
    "# labels: (n_samples,) — constant for all epochs (assumed), or (n_epochs, n_samples)\n",
    "\n",
    "labels = np.array(results[\"subset_labels\"])\n",
    "unique_classes = np.unique(labels)\n",
    "colors = plt.cm.tab10(np.linspace(0, 1, len(unique_classes)))\n",
    "\n",
    "plt.figure(figsize=(7, 7))\n",
    "for i, cls in enumerate(unique_classes):\n",
    "    class_mask = labels == cls\n",
    "    # Compute mean position for this class at each epoch\n",
    "    class_traj = np.stack([\n",
    "        projections_tphate[epoch, class_mask, :].mean(axis=0)\n",
    "        for epoch in range(projections_tphate.shape[0])\n",
    "    ])\n",
    "    # Plot trajectory and add arrows for direction\n",
    "    plt.plot(class_traj[:, 0], class_traj[:, 1], '-o', color=colors[i], label=f'Class {cls}', alpha=0.85)\n",
    "    # Draw arrows to show direction (from epoch to epoch)\n",
    "    for j in range(1, len(class_traj)):\n",
    "        plt.arrow(class_traj[j-1, 0], class_traj[j-1, 1],\n",
    "                  class_traj[j, 0] - class_traj[j-1, 0],\n",
    "                  class_traj[j, 1] - class_traj[j-1, 1],\n",
    "                  head_width=0.05, head_length=0.07, color=colors[i], alpha=0.6, length_includes_head=True)\n",
    "\n",
    "plt.xlabel('T-PHATE 1')\n",
    "plt.ylabel('T-PHATE 2')\n",
    "plt.title('Class Mean Trajectories in T-PHATE Space')\n",
    "plt.legend()\n",
    "plt.tight_layout()\n",
    "plt.show()"
   ]
  },
  {
   "cell_type": "code",
   "execution_count": null,
   "id": "02f595a4-a91b-4e91-8ece-208f4aafee28",
   "metadata": {},
   "outputs": [],
   "source": [
    "labels = np.array(results[\"subset_labels\"])  # shape should be (n_samples,)\n",
    "print(labels.shape)"
   ]
  },
  {
   "cell_type": "code",
   "execution_count": null,
   "id": "a0bfcb83-c924-4d2a-bb72-f88d1b8c91e9",
   "metadata": {},
   "outputs": [],
   "source": [
    "import numpy as np\n",
    "\n",
    "embeddings=np.array(results[\"subset_embeddings\"])\n",
    "n_epochs, n_samples, embedding_dim = embeddings.shape\n",
    "labels = np.array(results[\"subset_labels\"])  # shape (n_epochs, n_samples)\n",
    "unique_classes = np.unique(labels)\n",
    "n_classes = len(unique_classes)\n",
    "\n",
    "class_means = np.zeros((n_epochs, n_classes, embedding_dim))\n",
    "\n",
    "for epoch in range(n_epochs):\n",
    "    labels_epoch = labels[epoch]  # shape (n_samples,)\n",
    "    for i, cls in enumerate(unique_classes):\n",
    "        mask = labels_epoch == cls  # shape (n_samples,)\n",
    "        class_means[epoch, i, :] = embeddings[epoch, mask, :].mean(axis=0)"
   ]
  },
  {
   "cell_type": "code",
   "execution_count": null,
   "id": "caf26f58-1caf-4ced-a34d-3db6baa3de60",
   "metadata": {},
   "outputs": [],
   "source": [
    "flat_class_means = class_means.reshape(-1, embedding_dim)  # shape: (n_epochs * n_classes, embedding_dim)\n",
    "\n",
    "projections_class_means = generate_tphate_projection(\n",
    "    embeddings=flat_class_means,\n",
    "    t=2\n",
    ")  # shape: (n_epochs * n_classes, 2)\n",
    "\n",
    "# Reshape back for visualization: (n_epochs, n_classes, 2)\n",
    "projections_class_means = projections_class_means.reshape(n_epochs, n_classes, -1)"
   ]
  },
  {
   "cell_type": "code",
   "execution_count": null,
   "id": "d0668099-50ff-4a0e-bfc8-fd9b0bc342d5",
   "metadata": {},
   "outputs": [],
   "source": [
    "import matplotlib.pyplot as plt\n",
    "import numpy as np\n",
    "\n",
    "# projections_class_means: shape (n_epochs, n_classes, 2)\n",
    "# unique_classes: array of class labels\n",
    "# n_classes: number of classes\n",
    "\n",
    "if n_classes <= 10:\n",
    "    cmap = plt.cm.tab10\n",
    "else:\n",
    "    cmap = plt.cm.tab20\n",
    "\n",
    "colors = cmap(np.linspace(0, 1, n_classes))\n",
    "epochs = np.arange(projections_class_means.shape[0])\n",
    "\n",
    "plt.figure(figsize=(9, 8))\n",
    "for i, cls in enumerate(unique_classes):\n",
    "    traj = projections_class_means[:, i, :]\n",
    "    # Plot class trajectory\n",
    "    plt.plot(traj[:, 0], traj[:, 1], '-', color=colors[i], alpha=0.85)\n",
    "    # Scatter points colored by epoch (temporal gradient)\n",
    "    sc = plt.scatter(traj[:, 0], traj[:, 1], c=epochs, cmap='viridis', s=60, label=f'Class {cls}', edgecolor='k', zorder=3)\n",
    "    # Draw arrows for direction (skip very short arrows for clarity)\n",
    "    for j in range(1, len(traj)):\n",
    "        dx = traj[j, 0] - traj[j-1, 0]\n",
    "        dy = traj[j, 1] - traj[j-1, 1]\n",
    "        if np.hypot(dx, dy) > 1e-4:  # skip if too small\n",
    "            plt.arrow(traj[j-1, 0], traj[j-1, 1], dx, dy,\n",
    "                      head_width=0.04, head_length=0.07, color=colors[i], alpha=0.6, length_includes_head=True)\n",
    "    break\n",
    "\n",
    "plt.xlabel('T-PHATE 1')\n",
    "plt.ylabel('T-PHATE 2')\n",
    "plt.title('Class Mean Trajectories in T-PHATE Space')\n",
    "plt.colorbar(sc, label='Epoch')\n",
    "plt.legend(title=\"Class\", loc=\"best\")\n",
    "plt.tight_layout()\n",
    "plt.show()"
   ]
  },
  {
   "cell_type": "code",
   "execution_count": null,
   "id": "03b5f5d1-5183-499b-83f1-a745b3ee2b7f",
   "metadata": {},
   "outputs": [],
   "source": []
  }
 ],
 "metadata": {
  "kernelspec": {
   "display_name": "phate-env",
   "language": "python",
   "name": "phate-env"
  },
  "language_info": {
   "codemirror_mode": {
    "name": "ipython",
    "version": 3
   },
   "file_extension": ".py",
   "mimetype": "text/x-python",
   "name": "python",
   "nbconvert_exporter": "python",
   "pygments_lexer": "ipython3",
   "version": "3.10.18"
  }
 },
 "nbformat": 4,
 "nbformat_minor": 5
}
