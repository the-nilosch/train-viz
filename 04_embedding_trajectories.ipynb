{
 "cells": [
  {
   "cell_type": "code",
   "id": "991f02a8-99fe-4426-95b6-5ef290a7ad48",
   "metadata": {
    "is_executing": true
   },
   "source": [
    "from helper.plots import plot_phate_animations"
   ],
   "outputs": [],
   "execution_count": null
  },
  {
   "cell_type": "markdown",
   "id": "8cad5593de73e53a",
   "metadata": {},
   "source": [
    "# Embedding Trajectories\n",
    "Compare embedding trajectories"
   ]
  },
  {
   "cell_type": "code",
   "id": "initial_id",
   "metadata": {
    "is_executing": true
   },
   "source": [
    "dataset_name = 'cifar10'\n",
    "\n",
    "run_ids = [\n",
    "#    \"run-0011-CNN_mnist_32_0.9776\",\n",
    "#    \"run-0012-CNN_mnist_32_0.9768\"\n",
    "#    \"run-0007-CNN_mnist_128_0.9851\",\n",
    "\n",
    "    \"run-0016-CNN_cifar10_128_0.8093\", # Seed 42, SAM, Residual\n",
    "    \"run-0017-CNN_cifar10_128_0.8072\", # Seed 42, SAM\n",
    "    \"run-0018-CNN_cifar10_128_0.8499\", # Seed 42, Residual\n",
    "    \"run-0019-CNN_cifar10_128_0.8487\", # Seed 42\n",
    "\n",
    "    \"run-0020-CNN_cifar10_128_0.8079\", # Seed 11, SAM, Residual\n",
    "    \"run-0021-CNN_cifar10_128_0.8054\", # Seed 11, SAM\n",
    "    \"run-0022-CNN_cifar10_128_0.8519\", # Seed 11, Residual\n",
    "    \"run-0023-CNN_cifar10_128_0.8509\", # Seed 11\n",
    "\n",
    "    \"run-0024-CNN_cifar10_128_0.8062\",\n",
    "    \"run-0025-CNN_cifar10_128_0.8062\",\n",
    "    \"run-0026-CNN_cifar10_128_0.8504\",\n",
    "    \"run-0027-CNN_cifar10_128_0.8503\",\n",
    "]"
   ],
   "outputs": [],
   "execution_count": null
  },
  {
   "cell_type": "code",
   "id": "fa161133-7cfe-4c71-84b2-5c7b3f958f41",
   "metadata": {
    "is_executing": true
   },
   "source": [
    "titles = [\n",
    "    \"Seed 42, SAM, Residual 0.8093\",\n",
    "    \"Seed 42, SAM, 0.8072\",\n",
    "    \"Seed 42, SGD, Residual 0.8499\",\n",
    "    \"Seed 42, SGD, 0.8487\",\n",
    "\n",
    "    \"Seed 11, SAM, Residual 0.8079\",\n",
    "    \"Seed 11, SAM, 0.8054\",\n",
    "    \"Seed 11, SGD, Residual 0.8519\",\n",
    "    \"Seed 11, SGD, 0.8509\",\n",
    "    \n",
    "    \"Seed 6, SAM, Residual 0.0.8062\",\n",
    "    \"Seed 6, SAM, 0.8062\",\n",
    "    \"Seed 6, SGD, Residual 0.8504\",\n",
    "    \"Seed 6, SGD, 0.8503\",\n",
    "]"
   ],
   "outputs": [],
   "execution_count": null
  },
  {
   "cell_type": "code",
   "id": "7c38217958ac5665",
   "metadata": {
    "is_executing": true
   },
   "source": [
    "from helper.visualization import Run\n",
    "\n",
    "runs = []\n",
    "for run_id in run_ids:\n",
    "    runs.append(Run(run_id, dataset_name))"
   ],
   "outputs": [],
   "execution_count": null
  },
  {
   "cell_type": "markdown",
   "id": "61603b718488c842",
   "metadata": {},
   "source": [
    "### Trainings:"
   ]
  },
  {
   "cell_type": "code",
   "id": "f9a03b1ff594eef0",
   "metadata": {
    "is_executing": true,
    "scrolled": true
   },
   "source": [
    "for run in runs:\n",
    "    run.plot_training_records()"
   ],
   "outputs": [],
   "execution_count": null
  },
  {
   "cell_type": "markdown",
   "id": "ba7a1eb1c7a6c77d",
   "metadata": {},
   "source": [
    "## PHATE Embedding Trajectories"
   ]
  },
  {
   "cell_type": "code",
   "id": "6788f954-3dc5-4e3e-bb0c-68e481ddcad3",
   "metadata": {
    "scrolled": true
   },
   "source": [
    "from helper.visualization import mphate_on_runs\n",
    "\n",
    "animations = mphate_on_runs(runs, titles)"
   ],
   "outputs": [],
   "execution_count": null
  },
  {
   "cell_type": "code",
   "id": "76bd64ba-f2a7-4c3c-a8f7-9a6b12cea1ad",
   "metadata": {},
   "source": [
    "%matplotlib ipympl\n",
    "%matplotlib widget\n",
    "\n",
    "plot_phate_animations(animations, smooth_window=7, smooth_alpha=0.85, start_epoch=30)"
   ],
   "outputs": [],
   "execution_count": null
  },
  {
   "cell_type": "code",
   "id": "6eb83c06-7e6b-4cda-9e69-bbde9dbfc039",
   "metadata": {},
   "source": [
    "denoised = animations[0].denoise(window_size=5, blend=0.7, do_embedding_drift=True, do_cka_similarities=False)"
   ],
   "outputs": [],
   "execution_count": null
  },
  {
   "cell_type": "code",
   "id": "a1565260-47ea-4bd5-8067-187666b4384f",
   "metadata": {},
   "source": [
    "print(len(animations[0].projections))\n",
    "animations[0].projections[0].shape"
   ],
   "outputs": [],
   "execution_count": null
  },
  {
   "cell_type": "code",
   "id": "64286719-b57c-4300-a8b8-a02cc57e630a",
   "metadata": {},
   "source": [
    "print(len(denoised.projections))\n",
    "denoised.projections[0].shape"
   ],
   "outputs": [],
   "execution_count": null
  },
  {
   "cell_type": "code",
   "id": "263a7c1e-3fbe-4220-aeea-4aa3671f9d19",
   "metadata": {},
   "source": [
    "denoised.evaluate(is_trajectory=True)"
   ],
   "outputs": [],
   "execution_count": null
  },
  {
   "cell_type": "code",
   "id": "023343af-b8d1-416a-951c-10154aff2c8a",
   "metadata": {},
   "source": [
    "n = 0\n",
    "print(f\"{titles[n]}\\n\")\n",
    "animations[n].evaluate()"
   ],
   "outputs": [],
   "execution_count": null
  },
  {
   "cell_type": "code",
   "id": "f5479e81-9694-449f-8720-d65687a4a77b",
   "metadata": {},
   "source": [
    "list_drifts, list_cka = [], [] \n",
    "\n",
    "for i, run in enumerate(titles):\n",
    "    print(f\"{titles[i]}\\n\")\n",
    "    drift, cka = animations[i].evaluate(verbose=False)\n",
    "    list_drifts.append(drift); list_cka.append(cka)\n",
    "    print(f\"Mean Drift Similarity: {drift}, Mean Similarity to CKA: {cka}\")"
   ],
   "outputs": [],
   "execution_count": null
  },
  {
   "cell_type": "markdown",
   "id": "b541d47f-bc4d-4d48-83a7-1213258f0ed0",
   "metadata": {},
   "source": [
    "# Embedding Space Similarities"
   ]
  },
  {
   "cell_type": "code",
   "id": "0818e21b-ccbe-4ce1-aa34-9ec2dc9b9b57",
   "metadata": {},
   "source": [
    "from helper.visualization import compute_cka\n",
    "from tqdm.notebook import tqdm\n",
    "\n",
    "def embedding_space_similarities(\n",
    "    runs: list,\n",
    "    method: str = 'cka'\n",
    ") -> list[np.ndarray]:\n",
    "    \"\"\"\n",
    "    For each epoch, compute an n_runs × n_runs similarity matrix between the embedding\n",
    "    spaces of each pair of runs.\n",
    "\n",
    "    Args:\n",
    "        runs: list of Run objects, each with .embeddings: List[np.ndarray] of shape (n_points, emb_dim)\n",
    "        method: 'cka' | 'cosine' | 'euclidean' | 'manhattan'\n",
    "    Returns:\n",
    "        sims: List of length n_epochs, each an (n_runs x n_runs) array of similarities in [0,1].\n",
    "    \"\"\"\n",
    "    n_runs = len(runs)\n",
    "    n_epochs = len(runs[0].embeddings)\n",
    "    sims = []\n",
    "\n",
    "    for ep in tqdm(range(n_epochs)[::5]):\n",
    "        M = np.zeros((n_runs, n_runs), dtype=float)\n",
    "        for i in range(n_runs):\n",
    "            Xi = runs[i].embeddings[ep]\n",
    "            for j in range(i, n_runs):\n",
    "                Yj = runs[j].embeddings[ep]\n",
    "                if method == 'cka':\n",
    "                    s = compute_cka(Xi, Yj)\n",
    "                else:\n",
    "                    # flatten to vectors\n",
    "                    v1 = Xi.reshape(-1)\n",
    "                    v2 = Yj.reshape(-1)\n",
    "                    if method == 'cosine':\n",
    "                        s = np.dot(v1, v2) / (np.linalg.norm(v1) * np.linalg.norm(v2))\n",
    "                    elif method in ('euclidean', 'manhattan'):\n",
    "                        p = 2 if method == 'euclidean' else 1\n",
    "                        d = np.linalg.norm(v1 - v2, ord=p)\n",
    "                        s = 1.0 / (1.0 + d)\n",
    "                    else:\n",
    "                        raise ValueError(f\"Unknown method {method!r}\")\n",
    "                M[i, j] = M[j, i] = s\n",
    "        sims.append(M)\n",
    "\n",
    "    return sims"
   ],
   "outputs": [],
   "execution_count": null
  },
  {
   "cell_type": "code",
   "id": "574d06f1-7e3d-4908-b050-3cf18ec4099c",
   "metadata": {},
   "source": [
    "emb_sims = embedding_space_similarities(runs, method='cka')"
   ],
   "outputs": [],
   "execution_count": null
  },
  {
   "cell_type": "code",
   "id": "9572883c-29cc-4164-ba7a-0558f6c31451",
   "metadata": {},
   "source": [
    "plot_prediction_similarity_heatmap(\n",
    "    similarities=emb_sims,\n",
    "    run_titles=titles,\n",
    "    cmap='viridis',\n",
    "    figsize=(8, 6),\n",
    "    title=\"Embedding Space Similarity\"\n",
    ")"
   ],
   "outputs": [],
   "execution_count": null
  },
  {
   "cell_type": "markdown",
   "id": "9cc24309-7f0c-4707-ad3d-d4ef25e7e961",
   "metadata": {},
   "source": [
    "# Prediction Similarity"
   ]
  },
  {
   "cell_type": "code",
   "id": "bc343674-5cb8-42f0-947c-4fb92c8fabc7",
   "metadata": {},
   "source": [
    "from helper.visualization import compute_prediction_similarities\n",
    "from helper.plots import plot_prediction_similarity_heatmap"
   ],
   "outputs": [],
   "execution_count": null
  },
  {
   "cell_type": "code",
   "id": "629e96e3-2d7c-44c0-8f93-a633cc700f32",
   "metadata": {},
   "source": [
    "similarities = compute_prediction_similarities(runs, similarity=\"cosine\")\n",
    "plot_prediction_similarity_heatmap(similarities, run_titles=titles, figsize=(11, 7))"
   ],
   "outputs": [],
   "execution_count": null
  },
  {
   "cell_type": "code",
   "id": "2a86aecf-0570-49f6-8f95-724554e0cbd1",
   "metadata": {},
   "source": [
    "import matplotlib\n",
    "matplotlib.pyplot.close()"
   ],
   "outputs": [],
   "execution_count": null
  },
  {
   "cell_type": "code",
   "id": "408fb174-0fb1-4981-bef0-6afe2c7a979c",
   "metadata": {},
   "source": [
    "similarities = compute_prediction_similarities(runs[::-2], similarity=\"cosine\")\n",
    "plot_prediction_similarity_heatmap(similarities, run_titles=titles[::-2], figsize=(6,5))"
   ],
   "outputs": [],
   "execution_count": null
  },
  {
   "cell_type": "code",
   "id": "76713fc5-cac0-42c7-ae38-776dd5e1c293",
   "metadata": {},
   "source": [
    "from helper.visualization import mphate_on_predictions"
   ],
   "outputs": [],
   "execution_count": null
  },
  {
   "cell_type": "code",
   "id": "2f91b411-0255-40ec-ba0e-b12109a7f036",
   "metadata": {},
   "source": [
    "pred_animations = mphate_on_predictions(runs, titles=titles)"
   ],
   "outputs": [],
   "execution_count": null
  },
  {
   "cell_type": "code",
   "id": "4764ba7d-dbd8-4963-b2c6-adf30dd921e6",
   "metadata": {},
   "source": [
    "plot_phate_animations(pred_animations, start_epoch=5, legend_dist=-1.0)"
   ],
   "outputs": [],
   "execution_count": null
  },
  {
   "cell_type": "markdown",
   "id": "49823885-c33e-41aa-8551-dd67419a7c55",
   "metadata": {},
   "source": [
    "# PHATE on Model weights"
   ]
  },
  {
   "cell_type": "code",
   "id": "f1c8c3ea-5295-4186-bfa2-f4884f903ea4",
   "metadata": {
    "scrolled": true
   },
   "source": [
    "from helper.visualization import mphate_on_model_weights\n",
    "\n",
    "animations_model = mphate_on_model_weights(runs, titles=titles)"
   ],
   "outputs": [],
   "execution_count": null
  },
  {
   "cell_type": "code",
   "id": "b4a70f1b-54d2-4fb1-be80-6af4435af505",
   "metadata": {},
   "source": [
    "# Optional: smooth for visualization only\n",
    "plot_phate_animations(animations_model, smooth_window=5, smooth_alpha=0.9, start_epoch=0)"
   ],
   "outputs": [],
   "execution_count": null
  },
  {
   "cell_type": "markdown",
   "id": "8dac5e6d-9f04-40cf-9fd1-bb03f1fe7dde",
   "metadata": {},
   "source": [
    "### Weight similarities"
   ]
  },
  {
   "cell_type": "code",
   "id": "cdd09665-7cf1-4ebb-aac6-f0ca37deaab6",
   "metadata": {},
   "source": [
    "import numpy as np\n",
    "from sklearn.metrics.pairwise import cosine_similarity, pairwise_distances\n",
    "\n",
    "def model_weight_similarities(runs: list, metric: str = 'cosine'):\n",
    "    \"\"\"\n",
    "    Compute epoch‐wise similarity matrices between runs in weight‐space.\n",
    "\n",
    "    Args:\n",
    "        runs: list of Run, each with get_flattened_weights() -> np.ndarray, shape (n_epochs, n_features)\n",
    "        metric: one of 'cosine', 'euclidean', 'manhattan'\n",
    "\n",
    "    Returns:\n",
    "        similarities: list of length n_epochs, each an (n_runs x n_runs) np.ndarray of similarities in (0,1]\n",
    "    \"\"\"\n",
    "    # stack to shape (n_runs, n_epochs, n_features)\n",
    "    all_flat = np.stack([run.get_flattened_weights() for run in runs], axis=0)\n",
    "    n_runs, n_epochs, _ = all_flat.shape\n",
    "\n",
    "    sims = []\n",
    "    for ep in range(n_epochs):\n",
    "        X = all_flat[:, ep, :]  # shape (n_runs, n_features)\n",
    "\n",
    "        if metric == 'cosine':\n",
    "            S = cosine_similarity(X)\n",
    "        elif metric in ('euclidean', 'manhattan'):\n",
    "            D = pairwise_distances(X, metric=metric)\n",
    "            S = D\n",
    "        else:\n",
    "            raise ValueError(f\"Unsupported metric: {metric!r}\")\n",
    "\n",
    "        sims.append(S)\n",
    "\n",
    "    return sims"
   ],
   "outputs": [],
   "execution_count": null
  },
  {
   "cell_type": "code",
   "id": "35b3427b-7808-4da4-b093-6c630e68d92f",
   "metadata": {},
   "source": [
    "# choose your metric:\n",
    "weight_sims = model_weight_similarities(runs, metric='cosine')"
   ],
   "outputs": [],
   "execution_count": null
  },
  {
   "cell_type": "code",
   "id": "78310e4b-9001-420e-b63b-7cb188021951",
   "metadata": {},
   "source": [
    "# then plot\n",
    "plot_prediction_similarity_heatmap(\n",
    "    similarities=[sim[::2,::2] for sim in weight_sims],\n",
    "    run_titles=titles[::2],\n",
    "    cmap='viridis', # 'viridis_r' or 'viridis'\n",
    "    figsize=(7, 4)\n",
    ")\n",
    "\n",
    "# then plot\n",
    "plot_prediction_similarity_heatmap(\n",
    "    similarities=[sim[::-2,::-2] for sim in weight_sims],\n",
    "    run_titles=titles[::-2],\n",
    "    cmap='viridis', # 'viridis_r' or 'viridis'\n",
    "    figsize=(7, 4)\n",
    ")"
   ],
   "outputs": [],
   "execution_count": null
  },
  {
   "cell_type": "markdown",
   "id": "55f44a47-1a64-4a8e-8d77-d814d73c48fc",
   "metadata": {},
   "source": [
    "# Linear Mode Connectivity (LMC)"
   ]
  },
  {
   "cell_type": "code",
   "id": "60773540-3951-4cd3-b210-2362ce71bc93",
   "metadata": {},
   "source": [
    "import torch\n",
    "device = torch.device(\"cuda\" if torch.cuda.is_available() else \"cpu\")"
   ],
   "outputs": [],
   "execution_count": null
  },
  {
   "cell_type": "code",
   "id": "a4d6c078-ffa1-4c40-85ec-d3b210c2c665",
   "metadata": {},
   "source": [
    "#from helper.neuro_viz import compute_lmc_loss_path\n",
    "from helper.visualization import linear_mode_connectivity_path\n",
    "\n",
    "def compute_LMC(runs, idx_1, idx_2, titles, model, dataset_name, device='cpu', num_points=10, ):\n",
    "    print(f\"Compute LMC between ({titles[idx_1]}) and ({titles[idx_2]})\")\n",
    "\n",
    "    info1 = runs[idx_1].results[\"model_info\"]\n",
    "    info2 = runs[idx_2].results[\"model_info\"]\n",
    "    \n",
    "    assert info1 == info2, f\"Model architectures differ:\\n{info1}\\n{info2}\"\n",
    "    print(\"Same architecture:\")\n",
    "    print(runs[idx_1].results[\"model_info\"])\n",
    "\n",
    "    assert repr(model_arch) == runs[idx_1].results[\"model_info\"], \"Wrong model\"\n",
    "\n",
    "    path = linear_mode_connectivity_path(runs[idx_1], runs[idx_2], num_points=num_points)\n",
    "\n",
    "    losses = compute_lmc_loss_path(path, model, dataset_name, device=device)\n",
    "\n",
    "    return losses"
   ],
   "outputs": [],
   "execution_count": null
  },
  {
   "cell_type": "code",
   "id": "afd7af5e-d457-4629-9d90-c19e2aa6c927",
   "metadata": {},
   "source": [
    "from helper.vision_classification import init_mlp_for_dataset, init_cnn_for_dataset\n",
    "\n",
    "model = init_cnn_for_dataset(dataset_name, conv_dims=[64, 128, 256], kernel_sizes=[5, 3, 3], hidden_dims=[256, 128], dropout=0.2, residual=False).to(device)"
   ],
   "outputs": [],
   "execution_count": null
  },
  {
   "cell_type": "code",
   "id": "a920cd8c-472d-4d35-a798-ff9d10fe8382",
   "metadata": {},
   "source": [
    "lmc_results = {}"
   ],
   "outputs": [],
   "execution_count": null
  },
  {
   "cell_type": "code",
   "id": "bf44e9cb-8481-4ad1-a98c-c8cbb53ab94b",
   "metadata": {},
   "source": [
    "for i in range(6):\n",
    "    for j in range(6):\n",
    "        if i == j:\n",
    "            continue\n",
    "        # skip if already computed in either order\n",
    "        if (i, j) in lmc_results or (j, i) in lmc_results:\n",
    "            continue\n",
    "        print(f\"Computing LMC for runs {i} → {j}\")\n",
    "        lmc_results[(i, j)] = compute_LMC(\n",
    "            runs, i, j, titles, model, dataset_name, device, num_points=3\n",
    "        )\n",
    "        break"
   ],
   "outputs": [],
   "execution_count": null
  },
  {
   "cell_type": "code",
   "id": "15b26ee0-6a0f-4294-b621-b400e20c5b8c",
   "metadata": {},
   "source": [
    "import numpy as np\n",
    "print(np.array(lmc_results[(0,1)]).min(), np.array(lmc_results[(0,1)]).max())"
   ],
   "outputs": [],
   "execution_count": null
  },
  {
   "cell_type": "code",
   "id": "f40048d1-36f8-4628-8212-66cc3acca14f",
   "metadata": {},
   "source": [
    "import matplotlib.pyplot as plt\n",
    "\n",
    "# lmc_results is a dict mapping (i,j) → list of losses\n",
    "fig, ax = plt.subplots(figsize=(10, 6))\n",
    "\n",
    "for (i, j), losses in lmc_results.items():\n",
    "    ax.plot(\n",
    "        losses,\n",
    "        label=f\"{titles[i]} ↔ {titles[j]}\",\n",
    "        alpha=0.8\n",
    "    )\n",
    "\n",
    "ax.set_xlabel(\"Interpolation index\")\n",
    "ax.set_ylabel(\"Loss\")\n",
    "ax.set_title(\"LMC loss paths for all run‐pairs\")\n",
    "ax.set_ylim(bottom=0)\n",
    "ax.legend(\n",
    "    title=\"Run pairs\",\n",
    "    loc=\"upper right\",\n",
    "    bbox_to_anchor=(1.3, 1),\n",
    "    ncol=1,\n",
    "    frameon=False\n",
    ")\n",
    "plt.tight_layout()\n",
    "plt.show()"
   ],
   "outputs": [],
   "execution_count": null
  },
  {
   "cell_type": "code",
   "id": "8a0f8d8e-0546-449c-a1a7-4e391ebe6882",
   "metadata": {},
   "source": [
    "for i, run in enumerate(runs):\n",
    "    print(titles[i], \": \", run.results[\"val_losses\"][-1])"
   ],
   "outputs": [],
   "execution_count": null
  },
  {
   "cell_type": "code",
   "id": "cc1b723a-2f54-45e9-a7ff-076ebc642ef0",
   "metadata": {},
   "source": [
    "import torch\n",
    "from copy import deepcopy\n",
    "from tqdm import tqdm\n",
    "from helper.neuro_viz import Loss, repopulate_model_fixed\n",
    "\n",
    "def compute_lmc_loss_path(\n",
    "    weight_path: list[np.ndarray],\n",
    "    model: torch.nn.Module,\n",
    "    dataset_name: str,\n",
    "    device: str = 'cpu',\n",
    "    loss_name: str = 'test_loss',\n",
    "    whichloss: str = 'crossentropy',\n",
    "    bn_recal_batches: int = 100\n",
    "):\n",
    "    loss_obj = Loss(dataset_name, device)\n",
    "    losses = []\n",
    "    model.to(device)\n",
    "\n",
    "    for flat in tqdm(weight_path, desc=\"Compute LMC losses\"):\n",
    "        weights = torch.as_tensor(flat, dtype=torch.float32, device=device)\n",
    "        with torch.no_grad():\n",
    "            model = repopulate_model_fixed(weights.clone(), model)\n",
    "        loss = loss_obj.get_loss(model, loss_name, whichloss).detach()\n",
    "        print(loss)\n",
    "        losses.append(loss.item())\n",
    "\n",
    "    return losses"
   ],
   "outputs": [],
   "execution_count": null
  },
  {
   "cell_type": "code",
   "id": "a8ccbc19-1bb6-4857-8a6c-5432c4a47fb8",
   "metadata": {},
   "source": [
    "flat = runs[0].get_flattened_weights()[0]\n",
    "weights = torch.as_tensor(flat, device=device)\n",
    "loss_obj = Loss(dataset_name, device)\n",
    "with torch.no_grad():\n",
    "    model = repopulate_model_fixed(weights.clone(), model)\n",
    "loss = loss_obj.get_loss(model, 'test_loss', 'crossentropy').detach()\n",
    "print(loss)"
   ],
   "outputs": [],
   "execution_count": null
  },
  {
   "cell_type": "code",
   "id": "4dbd0d3e-6445-4e7e-a906-73e9f921f884",
   "metadata": {},
   "source": [
    "flat[:10]"
   ],
   "outputs": [],
   "execution_count": null
  },
  {
   "cell_type": "code",
   "id": "b382cb97-f242-4b47-89af-edcd9a5c6a4b",
   "metadata": {},
   "source": [],
   "outputs": [],
   "execution_count": null
  }
 ],
 "metadata": {
  "kernelspec": {
   "display_name": "Python (phate-env)",
   "language": "python",
   "name": "phate-env"
  },
  "language_info": {
   "codemirror_mode": {
    "name": "ipython",
    "version": 3
   },
   "file_extension": ".py",
   "mimetype": "text/x-python",
   "name": "python",
   "nbconvert_exporter": "python",
   "pygments_lexer": "ipython3",
   "version": "3.10.18"
  }
 },
 "nbformat": 4,
 "nbformat_minor": 5
}
