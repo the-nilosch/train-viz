{
 "cells": [
  {
   "cell_type": "code",
   "execution_count": null,
   "id": "991f02a8-99fe-4426-95b6-5ef290a7ad48",
   "metadata": {
    "ExecuteTime": {
     "end_time": "2025-08-20T12:17:51.525069Z",
     "start_time": "2025-08-20T12:17:51.522720Z"
    },
    "is_executing": true
   },
   "outputs": [],
   "source": [
    "from helper.plots import plot_phate_animations"
   ]
  },
  {
   "cell_type": "markdown",
   "id": "8cad5593de73e53a",
   "metadata": {},
   "source": [
    "# Compare Runs\n",
    "Compare embedding trajectories"
   ]
  },
  {
   "cell_type": "code",
   "execution_count": null,
   "id": "12f70551be9900eb",
   "metadata": {
    "collapsed": false,
    "jupyter": {
     "outputs_hidden": false
    }
   },
   "outputs": [],
   "source": [
    "dataset_name = 'cifar10'\n",
    "\n",
    "run_ids = [\n",
    "    \"run-0017-CNN_cifar10_128_0.8072\", # Seed 42, SAM\n",
    "    \"run-0019-CNN_cifar10_128_0.8487\", # Seed 42\n",
    "    \"run-0021-CNN_cifar10_128_0.8054\", # Seed 11, SAM\n",
    "    \"run-0023-CNN_cifar10_128_0.8509\", # Seed 11\n",
    "    \"run-0025-CNN_cifar10_128_0.8062\",\n",
    "    \"run-0027-CNN_cifar10_128_0.8503\"\n",
    "]\n",
    "\n",
    "titles = [    \n",
    "    \"Seed 42, SAM, 0.8072\",\n",
    "    \"Seed 42, SGD, 0.8487\",\n",
    "    \"Seed 11, SAM, 0.8054\",\n",
    "    \"Seed 11, SGD, 0.8509\",\n",
    "    \"Seed 6, SAM, 0.8062\",\n",
    "    \"Seed 6, SGD, 0.8503\",\n",
    "]"
   ]
  },
  {
   "cell_type": "code",
   "execution_count": null,
   "id": "fa161133-7cfe-4c71-84b2-5c7b3f958f41",
   "metadata": {
    "is_executing": true
   },
   "outputs": [],
   "source": [
    "dataset_name = 'cifar10'\n",
    "\n",
    "run_ids = [\n",
    "    \"run-0016-CNN_cifar10_128_0.8093\", # Seed 42, SAM, Residual\n",
    "    \"run-0018-CNN_cifar10_128_0.8499\", # Seed 42, Residual\n",
    "    \"run-0020-CNN_cifar10_128_0.8079\", # Seed 11, SAM, Residual\n",
    "    \"run-0022-CNN_cifar10_128_0.8519\", # Seed 11, Residual\n",
    "    \"run-0024-CNN_cifar10_128_0.8062\",\n",
    "    \"run-0026-CNN_cifar10_128_0.8504\"\n",
    "]\n",
    "\n",
    "titles = [\n",
    "    \"Seed 42, SAM, Residual 0.8093\",\n",
    "    \"Seed 42, SGD, Residual 0.8499\",\n",
    "    \"Seed 11, SAM, Residual 0.8079\",\n",
    "    \"Seed 11, SGD, Residual 0.8519\",\n",
    "    \"Seed 6, SAM, Residual 0.0.8062\",\n",
    "    \"Seed 6, SGD, Residual 0.8504\",\n",
    "]"
   ]
  },
  {
   "cell_type": "code",
   "execution_count": null,
   "id": "f508a821b2903aa8",
   "metadata": {
    "ExecuteTime": {
     "end_time": "2025-08-20T12:17:47.738610Z",
     "start_time": "2025-08-20T12:17:47.734929Z"
    }
   },
   "outputs": [],
   "source": [
    "dataset_name = 'mnist'\n",
    "\n",
    "run_ids = [\n",
    "    \"run-0011-CNN_mnist_32_0.9776\",\n",
    "    \"run-0012-CNN_mnist_32_0.9768\",\n",
    "    \"run-0013-CNN_mnist_32_0.9797\",\n",
    "    \"run-0014-CNN_mnist_32_0.9744\",\n",
    "]\n",
    "\n",
    "titles = [\n",
    "    \"Seed 42, SGD, 0.9776\",\n",
    "    \"Seed 42, SAM, 0.9768\",\n",
    "    \"Seed 42, SGD, Residual 0.9797\",\n",
    "    \"Seed 42, SAM, Residual 0.9744\",\n",
    "]"
   ]
  },
  {
   "cell_type": "code",
   "execution_count": null,
   "id": "7c38217958ac5665",
   "metadata": {
    "ExecuteTime": {
     "end_time": "2025-08-20T12:17:49.068153Z",
     "start_time": "2025-08-20T12:17:47.794571Z"
    },
    "is_executing": true
   },
   "outputs": [],
   "source": [
    "from helper.visualization import Run\n",
    "\n",
    "runs = []\n",
    "for run_id in run_ids:\n",
    "    runs.append(Run(run_id, dataset_name))"
   ]
  },
  {
   "cell_type": "markdown",
   "id": "61603b718488c842",
   "metadata": {
    "jp-MarkdownHeadingCollapsed": true
   },
   "source": [
    "### Trainings:"
   ]
  },
  {
   "cell_type": "code",
   "execution_count": null,
   "id": "f9a03b1ff594eef0",
   "metadata": {
    "ExecuteTime": {
     "end_time": "2025-08-20T12:18:00.929008Z",
     "start_time": "2025-08-20T12:18:00.060863Z"
    },
    "is_executing": true
   },
   "outputs": [],
   "source": [
    "for run in runs[:2]:\n",
    "    run.plot_training_records()"
   ]
  },
  {
   "cell_type": "markdown",
   "id": "ba7a1eb1c7a6c77d",
   "metadata": {
    "jp-MarkdownHeadingCollapsed": true
   },
   "source": [
    "## PHATE Embedding Trajectories"
   ]
  },
  {
   "cell_type": "code",
   "execution_count": null,
   "id": "6788f954-3dc5-4e3e-bb0c-68e481ddcad3",
   "metadata": {
    "ExecuteTime": {
     "end_time": "2025-08-20T12:18:05.395105Z",
     "start_time": "2025-08-20T12:18:02.152855Z"
    },
    "scrolled": true
   },
   "outputs": [],
   "source": [
    "from helper.visualization import mphate_on_runs\n",
    "\n",
    "animations = mphate_on_runs(runs, titles)"
   ]
  },
  {
   "cell_type": "code",
   "execution_count": null,
   "id": "006a7917-9bc7-4a11-a1fe-edfa446b119c",
   "metadata": {
    "ExecuteTime": {
     "end_time": "2025-08-20T12:18:07.711204Z",
     "start_time": "2025-08-20T12:18:07.709143Z"
    }
   },
   "outputs": [],
   "source": [
    "from helper.plots import soft_smooth "
   ]
  },
  {
   "cell_type": "code",
   "execution_count": null,
   "id": "76bd64ba-f2a7-4c3c-a8f7-9a6b12cea1ad",
   "metadata": {
    "ExecuteTime": {
     "end_time": "2025-08-20T12:18:08.907537Z",
     "start_time": "2025-08-20T12:18:08.354757Z"
    }
   },
   "outputs": [],
   "source": [
    "%matplotlib ipympl\n",
    "%matplotlib widget\n",
    "\n",
    "plot_phate_animations(animations, smooth_window=7, smooth_alpha=0.85, start_epoch=30)"
   ]
  },
  {
   "cell_type": "markdown",
   "id": "40e30ed6-595c-4a2a-89ea-cb4e8711d90f",
   "metadata": {},
   "source": [
    "## CKA Similarities"
   ]
  },
  {
   "cell_type": "markdown",
   "id": "01685957-16be-4587-b416-280957643309",
   "metadata": {},
   "source": [
    "### Multiple paths per epoch"
   ]
  },
  {
   "cell_type": "code",
   "execution_count": null,
   "id": "b9cc9cb1-47a4-4cf0-9281-d2ad5c691a7a",
   "metadata": {},
   "outputs": [],
   "source": [
    "# Epoch-wise CKA of embedding spaces\n",
    "from helper.visualization import compute_epochwise_embedding_cka\n",
    "from helper.plots import plot_prediction_similarity_heatmap\n",
    "\n",
    "cka_mats = compute_epochwise_embedding_cka(\n",
    "    runs,\n",
    "    skip=1 # Less Epochs, faster computation\n",
    ")\n",
    "plot_prediction_similarity_heatmap(\n",
    "    cka_mats,\n",
    "    run_titles=titles,\n",
    "    cmap=\"magma\",\n",
    "    title=\"Embedding CKA at Epoch {}\"\n",
    ")"
   ]
  },
  {
   "cell_type": "markdown",
   "id": "26a21663-54a0-499a-85bd-5a5b20509725",
   "metadata": {},
   "source": [
    "### Compare two trainings\n",
    "Includes time dimension"
   ]
  },
  {
   "cell_type": "code",
   "execution_count": null,
   "id": "18e60ae4-ecfb-456b-b8fe-57c37d8d331b",
   "metadata": {},
   "outputs": [],
   "source": [
    "from helper.visualization import compute_cross_epoch_similarity\n",
    "from helper.plots import plot_cross_epoch_similarity_heatmap\n",
    "i, j = 0, 1\n",
    "\n",
    "# 1) Compute\n",
    "S, ix, iy = compute_cross_epoch_similarity(\n",
    "    runs[i], runs[j],\n",
    "    mode=\"embeddings\", similarity=\"cka\",\n",
    "    skip=10,\n",
    "    desc_prefix=f\"{titles[i]} vs {titles[j]} — \"\n",
    ")"
   ]
  },
  {
   "cell_type": "code",
   "execution_count": null,
   "id": "28c5b68b-19f7-447a-b9d2-b1c72aaf6632",
   "metadata": {},
   "outputs": [],
   "source": [
    "# 2) Plot\n",
    "plot_cross_epoch_similarity_heatmap(\n",
    "    S, ix, iy,\n",
    "    title_x=titles[i], title_y=titles[j],\n",
    "    similarity=\"cka\", cmap=\"magma\", figsize=(7.5, 6.5),\n",
    "    show_percent=True,\n",
    "    vmin_from_data=True,\n",
    "    extra_title=\" - SAM vs SGD on same Seed\"\n",
    ")"
   ]
  },
  {
   "cell_type": "code",
   "execution_count": null,
   "id": "9cf5ff69-b8c9-45e2-ad94-0a28a1aaa665",
   "metadata": {},
   "outputs": [],
   "source": [
    "i, j = 0, 3\n",
    "\n",
    "# 1) Compute\n",
    "S, ix, iy = compute_cross_epoch_similarity(\n",
    "    runs[i], runs[j],\n",
    "    mode=\"embeddings\", similarity=\"cka\",\n",
    "    skip=10,\n",
    "    desc_prefix=f\"{titles[i]} vs {titles[j]} — \"\n",
    ")"
   ]
  },
  {
   "cell_type": "code",
   "execution_count": null,
   "id": "e98076ba-ab4b-42cf-98d6-6521f8a7a1bf",
   "metadata": {},
   "outputs": [],
   "source": [
    "# 2) Plot\n",
    "plot_cross_epoch_similarity_heatmap(\n",
    "    S, ix, iy,\n",
    "    title_x=titles[i], title_y=titles[j],\n",
    "    similarity=\"cka\", cmap=\"magma\", figsize=(7.5, 6.5),\n",
    "    show_percent=True,\n",
    "    vmin_from_data=True,\n",
    "    extra_title=\" - SAM vs SGD on different Seeds\"\n",
    ")"
   ]
  },
  {
   "cell_type": "code",
   "execution_count": null,
   "id": "726a4572-6450-4f1e-b29a-ada40d707fd2",
   "metadata": {},
   "outputs": [],
   "source": [
    "i, j = 0, 2\n",
    "\n",
    "# 1) Compute\n",
    "S, ix, iy = compute_cross_epoch_similarity(\n",
    "    runs[i], runs[j],\n",
    "    mode=\"embeddings\", similarity=\"cka\",\n",
    "    skip=10, #start_epoch=40,\n",
    "    desc_prefix=f\"{titles[i]} vs {titles[j]} — \"\n",
    ")\n",
    "\n",
    "# 2) Plot\n",
    "plot_cross_epoch_similarity_heatmap(\n",
    "    S, ix, iy,\n",
    "    title_x=titles[i], title_y=titles[j],\n",
    "    similarity=\"cka\", cmap=\"magma\", figsize=(7.5, 6.5),\n",
    "    show_percent=True,\n",
    "    vmin_from_data=True,\n",
    "    extra_title=\" - Both SAM, different Seeds\"\n",
    ")"
   ]
  },
  {
   "cell_type": "code",
   "execution_count": null,
   "id": "8a5b0629-82f1-4d65-9d99-ad4dc47897bf",
   "metadata": {},
   "outputs": [],
   "source": [
    "i, j = 1, 3\n",
    "\n",
    "# 1) Compute\n",
    "S, ix, iy = compute_cross_epoch_similarity(\n",
    "    runs[i], runs[j],\n",
    "    mode=\"embeddings\", similarity=\"cka\",\n",
    "    skip=10, #start_epoch=40,\n",
    "    desc_prefix=f\"{titles[i]} vs {titles[j]} — \"\n",
    ")\n",
    "\n",
    "# 2) Plot\n",
    "plot_cross_epoch_similarity_heatmap(\n",
    "    S, ix, iy,\n",
    "    title_x=titles[i], title_y=titles[j],\n",
    "    similarity=\"cka\", cmap=\"magma\", figsize=(7.5, 6.5),\n",
    "    show_percent=True,\n",
    "    vmin_from_data=True,\n",
    "    extra_title=\" - Both SGD, different Seeds\"\n",
    ")"
   ]
  },
  {
   "cell_type": "markdown",
   "id": "9cc24309-7f0c-4707-ad3d-d4ef25e7e961",
   "metadata": {},
   "source": [
    "## Prediction Similarity"
   ]
  },
  {
   "cell_type": "markdown",
   "id": "bc887664-e18c-411f-b00d-ef2996dc4ebb",
   "metadata": {},
   "source": [
    "### Multiple paths per epoch"
   ]
  },
  {
   "cell_type": "code",
   "execution_count": null,
   "id": "bc343674-5cb8-42f0-947c-4fb92c8fabc7",
   "metadata": {},
   "outputs": [],
   "source": [
    "from helper.visualization import compute_prediction_similarities\n",
    "from helper.plots import plot_prediction_similarity_heatmap"
   ]
  },
  {
   "cell_type": "code",
   "execution_count": null,
   "id": "629e96e3-2d7c-44c0-8f93-a633cc700f32",
   "metadata": {},
   "outputs": [],
   "source": [
    "%matplotlib ipympl\n",
    "%matplotlib widget\n",
    "similarities = compute_prediction_similarities(runs, similarity=\"cosine\")\n",
    "plot_prediction_similarity_heatmap(similarities, run_titles=titles)"
   ]
  },
  {
   "cell_type": "markdown",
   "id": "ef2845ed-f539-49e9-9256-56d350ac6b06",
   "metadata": {},
   "source": [
    "### Predictions Run Comparison"
   ]
  },
  {
   "cell_type": "code",
   "execution_count": null,
   "id": "e31110ac-be11-46b4-af1e-f6458df5a5a1",
   "metadata": {},
   "outputs": [],
   "source": [
    "from helper.visualization import compute_prediction_cross_epoch_similarity\n",
    "from helper.plots import plot_prediction_cross_epoch_heatmap \n",
    "\n",
    "i,  j = 1, 3\n",
    "\n",
    "# 1) Cosine similarity on predictions, skip every 5 epochs from 30 onward\n",
    "S_pred, ix, iy = compute_prediction_cross_epoch_similarity(\n",
    "    runs[i], runs[j],\n",
    "    metric=\"cosine\",\n",
    "    desc_prefix=f\"{titles[i]} vs {titles[j]} — \"\n",
    ")\n",
    "plot_prediction_cross_epoch_heatmap(\n",
    "    S_pred, ix, iy,\n",
    "    title_x=titles[i], title_y=titles[j],\n",
    "    metric=\"cosine\", show_percent=False, percent_decimals=1,\n",
    "    vmin_from_data=True\n",
    ")"
   ]
  },
  {
   "cell_type": "markdown",
   "id": "d19d2453-1cee-4b9c-8495-886011337b6d",
   "metadata": {},
   "source": [
    "### Predictions MPHATE"
   ]
  },
  {
   "cell_type": "code",
   "execution_count": null,
   "id": "2a86aecf-0570-49f6-8f95-724554e0cbd1",
   "metadata": {},
   "outputs": [],
   "source": [
    "import matplotlib\n",
    "matplotlib.pyplot.close()"
   ]
  },
  {
   "cell_type": "code",
   "execution_count": null,
   "id": "408fb174-0fb1-4981-bef0-6afe2c7a979c",
   "metadata": {},
   "outputs": [],
   "source": [
    "similarities = compute_prediction_similarities(runs[::-2], similarity=\"cosine\")\n",
    "plot_prediction_similarity_heatmap(similarities, run_titles=titles[::-2], figsize=(6,5))"
   ]
  },
  {
   "cell_type": "code",
   "execution_count": null,
   "id": "76713fc5-cac0-42c7-ae38-776dd5e1c293",
   "metadata": {},
   "outputs": [],
   "source": [
    "from helper.visualization import mphate_on_predictions"
   ]
  },
  {
   "cell_type": "code",
   "execution_count": null,
   "id": "c44605f8-2d84-493f-932f-785b60ea822d",
   "metadata": {},
   "outputs": [],
   "source": [
    "from helper.visualization import Animation\n",
    "\n",
    "def mphate_on_predictions(runs, titles=None):\n",
    "    \"\"\"\n",
    "    Apply M-PHATE to the prediction distributions (val_distributions) across runs.\n",
    "    Returns a list of Animation objects, one per run, with projections over epochs.\n",
    "    \"\"\"\n",
    "    import m_phate\n",
    "\n",
    "    all_run_flattened = []\n",
    "\n",
    "    for run in runs:\n",
    "        preds_per_epoch = run.results[\"val_distributions\"]  # list of (samples, classes)\n",
    "        flattened_epochs = [pred.reshape(-1) for pred in preds_per_epoch]  # shape: (samples * classes,)\n",
    "        flattened_tensor = np.stack(flattened_epochs)  # shape: (epochs, flat_dim)\n",
    "        all_run_flattened.append(flattened_tensor[10:])\n",
    "\n",
    "    all_run_flattened = np.stack(all_run_flattened)  # shape: (n_runs, epochs, flat_dim)\n",
    "    combined_pred = np.transpose(all_run_flattened, (1, 0, 2))  # (epochs, runs, features)\n",
    "\n",
    "    # Run M-PHATE\n",
    "    mphate_op = m_phate.M_PHATE(knn_dist=\"cosine\", mds_dist=\"cosine\")\n",
    "    mphate_emb = mphate_op.fit_transform(combined_pred)  # shape: (epochs * runs, 2)\n",
    "\n",
    "    n_epochs, n_runs = combined_pred.shape[:2]\n",
    "    mphate_emb = mphate_emb.reshape(n_epochs, n_runs, 2)\n",
    "    mphate_trajectories = np.transpose(mphate_emb, (1, 0, 2))  # shape: (runs, epochs, 2)\n",
    "\n",
    "    # Wrap into Animation objects\n",
    "    animations = []\n",
    "    for idx, run in enumerate(runs):\n",
    "        title = titles[idx] if titles is not None else run.results[\"train_config\"]\n",
    "        anim = Animation(\n",
    "            projections=mphate_trajectories[idx],\n",
    "            title=title,\n",
    "            run=run\n",
    "        )\n",
    "        animations.append(anim)\n",
    "\n",
    "    return animations"
   ]
  },
  {
   "cell_type": "code",
   "execution_count": null,
   "id": "2f91b411-0255-40ec-ba0e-b12109a7f036",
   "metadata": {
    "scrolled": true
   },
   "outputs": [],
   "source": [
    "pred_animations = mphate_on_predictions(runs, titles=titles)"
   ]
  },
  {
   "cell_type": "code",
   "execution_count": null,
   "id": "4764ba7d-dbd8-4963-b2c6-adf30dd921e6",
   "metadata": {},
   "outputs": [],
   "source": [
    "plot_phate_animations(pred_animations, start_epoch=5, legend_dist=-1.0)"
   ]
  }
 ],
 "metadata": {
  "kernelspec": {
   "display_name": "Python (phate-env)",
   "language": "python",
   "name": "phate-env"
  },
  "language_info": {
   "codemirror_mode": {
    "name": "ipython",
    "version": 3
   },
   "file_extension": ".py",
   "mimetype": "text/x-python",
   "name": "python",
   "nbconvert_exporter": "python",
   "pygments_lexer": "ipython3",
   "version": "3.10.18"
  }
 },
 "nbformat": 4,
 "nbformat_minor": 5
}
