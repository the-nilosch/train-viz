{
 "cells": [
  {
   "cell_type": "code",
   "execution_count": null,
   "id": "991f02a8-99fe-4426-95b6-5ef290a7ad48",
   "metadata": {},
   "outputs": [],
   "source": [
    "from helper.plots import plot_phate_animations"
   ]
  },
  {
   "cell_type": "markdown",
   "id": "8cad5593de73e53a",
   "metadata": {},
   "source": [
    "# Embedding Trajectories\n",
    "Compare embedding trajectories"
   ]
  },
  {
   "cell_type": "code",
   "execution_count": null,
   "id": "initial_id",
   "metadata": {
    "ExecuteTime": {
     "end_time": "2025-07-24T12:04:49.421255Z",
     "start_time": "2025-07-24T12:04:49.416438Z"
    }
   },
   "outputs": [],
   "source": [
    "dataset_name = 'mnist'\n",
    "\n",
    "run_ids = [\n",
    "#    \"run-0011-CNN_mnist_32_0.9776\",\n",
    "#    \"run-0012-CNN_mnist_32_0.9768\"\n",
    "#    \"run-0007-CNN_mnist_128_0.9851\",\n",
    "\n",
    "    \"run-0016-CNN_cifar10_128_0.8093\", # Seed 42, SAM, Residual\n",
    "    \"run-0017-CNN_cifar10_128_0.8072\", # Seed 42, SAM\n",
    "    \"run-0018-CNN_cifar10_128_0.8499\", # Seed 42, Residual\n",
    "    \"run-0019-CNN_cifar10_128_0.8487\", # Seed 42\n",
    "\n",
    "    \"run-0020-CNN_cifar10_128_0.8079\", # Seed 11, SAM, Residual\n",
    "    \"run-0021-CNN_cifar10_128_0.8054\", # Seed 11, SAM\n",
    "    \"run-0022-CNN_cifar10_128_0.8519\", # Seed 11, Residual\n",
    "    \"run-0023-CNN_cifar10_128_0.8509\", # Seed 11\n",
    "\n",
    "    \"run-0024-CNN_cifar10_128_0.8062\",\n",
    "    \"run-0025-CNN_cifar10_128_0.8062\",\n",
    "    \"run-0026-CNN_cifar10_128_0.8504\",\n",
    "    \"run-0027-CNN_cifar10_128_0.8503\",\n",
    "]"
   ]
  },
  {
   "cell_type": "code",
   "execution_count": null,
   "id": "fa161133-7cfe-4c71-84b2-5c7b3f958f41",
   "metadata": {},
   "outputs": [],
   "source": [
    "titles = [\n",
    "    \"Seed 42, SAM, Residual 0.8093\",\n",
    "    \"Seed 42, SAM, 0.8072\",\n",
    "    \"Seed 42, SGD, Residual 0.8499\",\n",
    "    \"Seed 42, SGD, 0.8487\",\n",
    "    \"Seed 11, SAM, Residual 0.8079\",\n",
    "    \"Seed 11, SAM, 0.8054\",\n",
    "    \"Seed 11, SGD, Residual 0.8519\",\n",
    "    \"Seed 11, SGD, 0.8509\",\n",
    "    \n",
    "    \"Seed 6, SAM, Residual 0.0.8062\",\n",
    "    \"Seed 6, SAM, 0.8062\",\n",
    "    \"Seed 6, SGD, Residual 0.8504\",\n",
    "    \"Seed 6, SGD, 0.8503\",\n",
    "]"
   ]
  },
  {
   "cell_type": "code",
   "execution_count": null,
   "id": "7c38217958ac5665",
   "metadata": {
    "ExecuteTime": {
     "end_time": "2025-07-24T12:04:53.371061Z",
     "start_time": "2025-07-24T12:04:50.427480Z"
    }
   },
   "outputs": [],
   "source": [
    "from helper.visualization import Run\n",
    "\n",
    "runs = []\n",
    "for run_id in run_ids:\n",
    "    runs.append(Run(run_id, dataset_name))"
   ]
  },
  {
   "cell_type": "markdown",
   "id": "61603b718488c842",
   "metadata": {
    "jp-MarkdownHeadingCollapsed": true
   },
   "source": [
    "### Trainings:"
   ]
  },
  {
   "cell_type": "code",
   "execution_count": null,
   "id": "f9a03b1ff594eef0",
   "metadata": {
    "scrolled": true
   },
   "outputs": [],
   "source": [
    "for run in runs:\n",
    "    run.plot_training_records()"
   ]
  },
  {
   "cell_type": "markdown",
   "id": "ba7a1eb1c7a6c77d",
   "metadata": {},
   "source": [
    "## PHATE Embedding Trajectories"
   ]
  },
  {
   "cell_type": "code",
   "execution_count": null,
   "id": "6788f954-3dc5-4e3e-bb0c-68e481ddcad3",
   "metadata": {
    "scrolled": true
   },
   "outputs": [],
   "source": [
    "from helper.visualization import mphate_on_runs\n",
    "\n",
    "animations = mphate_on_runs(runs, titles)"
   ]
  },
  {
   "cell_type": "code",
   "execution_count": null,
   "id": "006a7917-9bc7-4a11-a1fe-edfa446b119c",
   "metadata": {},
   "outputs": [],
   "source": [
    "from helper.plots import soft_smooth "
   ]
  },
  {
   "cell_type": "code",
   "execution_count": null,
   "id": "76bd64ba-f2a7-4c3c-a8f7-9a6b12cea1ad",
   "metadata": {},
   "outputs": [],
   "source": [
    "%matplotlib ipympl\n",
    "%matplotlib widget\n",
    "\n",
    "plot_phate_animations(animations, smooth_window=7, smooth_alpha=0.85, start_epoch=30)"
   ]
  },
  {
   "cell_type": "code",
   "execution_count": null,
   "id": "023343af-b8d1-416a-951c-10154aff2c8a",
   "metadata": {},
   "outputs": [],
   "source": [
    "n = 4\n",
    "print(f\"{titles[n]}\\n\")\n",
    "animations[n].evaluate()"
   ]
  },
  {
   "cell_type": "markdown",
   "id": "9cc24309-7f0c-4707-ad3d-d4ef25e7e961",
   "metadata": {},
   "source": [
    "# Prediction Similarity"
   ]
  },
  {
   "cell_type": "code",
   "execution_count": null,
   "id": "bc343674-5cb8-42f0-947c-4fb92c8fabc7",
   "metadata": {},
   "outputs": [],
   "source": [
    "from helper.visualization import compute_prediction_similarities\n",
    "from helper.plots import plot_prediction_similarity_heatmap"
   ]
  },
  {
   "cell_type": "code",
   "execution_count": null,
   "id": "629e96e3-2d7c-44c0-8f93-a633cc700f32",
   "metadata": {},
   "outputs": [],
   "source": [
    "similarities = compute_prediction_similarities(runs, similarity=\"cosine\")\n",
    "plot_prediction_similarity_heatmap(similarities, run_titles=titles)"
   ]
  },
  {
   "cell_type": "code",
   "execution_count": null,
   "id": "2a86aecf-0570-49f6-8f95-724554e0cbd1",
   "metadata": {},
   "outputs": [],
   "source": [
    "import matplotlib\n",
    "matplotlib.pyplot.close()"
   ]
  },
  {
   "cell_type": "code",
   "execution_count": null,
   "id": "408fb174-0fb1-4981-bef0-6afe2c7a979c",
   "metadata": {},
   "outputs": [],
   "source": [
    "similarities = compute_prediction_similarities(runs[::-2], similarity=\"cosine\")\n",
    "plot_prediction_similarity_heatmap(similarities, run_titles=titles[::-2], figsize=(6,5))"
   ]
  },
  {
   "cell_type": "code",
   "execution_count": null,
   "id": "76713fc5-cac0-42c7-ae38-776dd5e1c293",
   "metadata": {},
   "outputs": [],
   "source": [
    "from helper.visualization import mphate_on_predictions"
   ]
  },
  {
   "cell_type": "code",
   "execution_count": null,
   "id": "2f91b411-0255-40ec-ba0e-b12109a7f036",
   "metadata": {},
   "outputs": [],
   "source": [
    "pred_animations = mphate_on_predictions(runs, titles=titles)"
   ]
  },
  {
   "cell_type": "code",
   "execution_count": null,
   "id": "4764ba7d-dbd8-4963-b2c6-adf30dd921e6",
   "metadata": {},
   "outputs": [],
   "source": [
    "plot_phate_animations(pred_animations, start_epoch=5, legend_dist=-1.0)"
   ]
  },
  {
   "cell_type": "markdown",
   "id": "49823885-c33e-41aa-8551-dd67419a7c55",
   "metadata": {},
   "source": [
    "# PHATE on Model weights"
   ]
  },
  {
   "cell_type": "code",
   "execution_count": null,
   "id": "4fa2988e-5482-4bb6-b40a-e06d00eda714",
   "metadata": {},
   "outputs": [],
   "source": [
    "from NeuroVisualizer.neuro_aux.utils import get_files\n",
    "\n",
    "run_ids = []\n",
    "pt_files = []\n",
    "\n",
    "for run in runs:\n",
    "    run_ids.append(run.results[\"ll_flattened_weights_dir\"])\n",
    "\n",
    "for run_id in run_ids:\n",
    "    model_folder = f\"trainings/{run_id}\"\n",
    "    pt_files.append(get_files(model_folder, prefix=\"model-\"))\n",
    "    print(f\"Found {len(pt_files[-1])} checkpoint files.\")\n",
    "\n",
    "pt_files_flat = [path for sublist in pt_files for path in sublist]"
   ]
  },
  {
   "cell_type": "code",
   "execution_count": null,
   "id": "e9dd7337-7f86-4f64-be32-99dbf4d8fe95",
   "metadata": {},
   "outputs": [],
   "source": [
    "import torch\n",
    "import numpy as np\n",
    "\n",
    "from tqdm import tqdm\n",
    "\n",
    "def load_flattened_weights(pt_file_paths, device=\"cpu\"):\n",
    "    \"\"\"\n",
    "    Load already-flattened model weights (using weights_only=True) from .pt files.\n",
    "    \"\"\"\n",
    "    flattened = []\n",
    "    for path in tqdm(pt_file_paths, desc=\"Loading model checkpoints\"):\n",
    "        try:\n",
    "            tensor = torch.load(path, map_location=device, weights_only=True)\n",
    "        except TypeError:\n",
    "            raise ValueError(f\"torch.load(..., weights_only=True) is not supported for {path}.\")\n",
    "\n",
    "        if not isinstance(tensor, torch.Tensor):\n",
    "            raise ValueError(f\"Expected a flattened tensor in {path}, got {type(tensor)}\")\n",
    "\n",
    "        flattened.append(tensor.detach().cpu().numpy())\n",
    "\n",
    "    return np.stack(flattened)  # shape: (n_checkpoints, total_weights)"
   ]
  },
  {
   "cell_type": "code",
   "execution_count": null,
   "id": "35b8d940-ebee-4f30-9886-fe91c2a39a0a",
   "metadata": {},
   "outputs": [],
   "source": [
    "import m_phate\n",
    "from helper.visualization import Animation\n",
    "\n",
    "def mphate_on_model_weights(pt_files_by_run, runs, titles=None):\n",
    "    \"\"\"\n",
    "    Apply M-PHATE to flattened model weights from multiple runs.\n",
    "\n",
    "    Args:\n",
    "        pt_files_by_run: list of list of checkpoint paths (one list per run)\n",
    "        titles: optional list of labels per run\n",
    "\n",
    "    Returns:\n",
    "        animations: list of Animation objects, one per run\n",
    "    \"\"\"\n",
    "    all_run_flattened = []\n",
    "\n",
    "    for file_list in pt_files_by_run:\n",
    "        run_flattened = load_flattened_weights(file_list)  # shape: (epochs, features)\n",
    "        all_run_flattened.append(run_flattened)\n",
    "\n",
    "    all_run_flattened = np.stack(all_run_flattened)  # shape: (n_runs, n_epochs, features)\n",
    "    combined_weights = np.transpose(all_run_flattened, (1, 0, 2))  # shape: (epochs, runs, features)\n",
    "\n",
    "    mphate_op = m_phate.M_PHATE(knn_dist=\"cosine\", mds_dist=\"cosine\")\n",
    "    mphate_emb = mphate_op.fit_transform(combined_weights)  # shape: (epochs * runs, 2)\n",
    "\n",
    "    n_epochs, n_runs = combined_weights.shape[:2]\n",
    "    mphate_emb = mphate_emb.reshape(n_epochs, n_runs, 2)\n",
    "    mphate_trajectories = np.transpose(mphate_emb, (1, 0, 2))  # (runs, epochs, 2)\n",
    "\n",
    "    animations = []\n",
    "    for idx, file_list in enumerate(pt_files_by_run):\n",
    "        title = titles[idx] if titles else f\"Run {idx}\"\n",
    "        anim = Animation(\n",
    "            projections=mphate_trajectories[idx],\n",
    "            title=title,\n",
    "            run=runs[idx]\n",
    "        )\n",
    "        animations.append(anim)\n",
    "\n",
    "    return animations\n"
   ]
  },
  {
   "cell_type": "code",
   "execution_count": null,
   "id": "f1c8c3ea-5295-4186-bfa2-f4884f903ea4",
   "metadata": {},
   "outputs": [],
   "source": [
    "# pt_files_by_run: list of lists of checkpoint paths\n",
    "animations_model = mphate_on_model_weights(pt_files, runs, titles=titles)"
   ]
  },
  {
   "cell_type": "code",
   "execution_count": null,
   "id": "b4a70f1b-54d2-4fb1-be80-6af4435af505",
   "metadata": {},
   "outputs": [],
   "source": [
    "# Optional: smooth for visualization only\n",
    "plot_phate_animations(animations_model, smooth_window=5, smooth_alpha=0.9)"
   ]
  },
  {
   "cell_type": "code",
   "execution_count": null,
   "id": "d2093a1f-ef9d-46ef-8fb6-2c341008b607",
   "metadata": {},
   "outputs": [],
   "source": []
  }
 ],
 "metadata": {
  "kernelspec": {
   "display_name": "Python (phate-env)",
   "language": "python",
   "name": "phate-env"
  },
  "language_info": {
   "codemirror_mode": {
    "name": "ipython",
    "version": 3
   },
   "file_extension": ".py",
   "mimetype": "text/x-python",
   "name": "python",
   "nbconvert_exporter": "python",
   "pygments_lexer": "ipython3",
   "version": "3.10.18"
  }
 },
 "nbformat": 4,
 "nbformat_minor": 5
}
