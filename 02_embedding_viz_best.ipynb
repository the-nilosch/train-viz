{
 "cells": [
  {
   "metadata": {},
   "cell_type": "markdown",
   "source": [
    "# Embedding Visualzation\n",
    "\n",
    "Embedding visualization methods, that have proven to be meaningful"
   ],
   "id": "b24530816a44ff39"
  },
  {
   "metadata": {},
   "cell_type": "markdown",
   "source": "## Choose Train Run",
   "id": "4c3953eff1b9fba6"
  },
  {
   "metadata": {
    "collapsed": true
   },
   "cell_type": "code",
   "outputs": [],
   "execution_count": null,
   "source": [
    "# ==== MNIST ========\n",
    "dataset = \"mnist\"\n",
    "\n",
    "run_id = \"run-0011-CNN_mnist_32_0.9776\"\n",
    "#run_id = \"run-0012-CNN_mnist_32_0.9768\"\n",
    "#run_id = \"run-0013-CNN_mnist_32_0.9797\"\n",
    "#run_id = \"run-0014-CNN_mnist_32_0.9744\""
   ],
   "id": "initial_id"
  },
  {
   "metadata": {},
   "cell_type": "code",
   "outputs": [],
   "execution_count": null,
   "source": [
    "# ==== CIFAR 10 ========\n",
    "dataset = \"cifar10\"\n",
    "\n",
    "# Residual\n",
    "run_id = \"run-0016-CNN_cifar10_128_0.8093\" # Seed 42, SAM\n",
    "# run_id = \"run-0018-CNN_cifar10_128_0.8499\" # Seed 42\n",
    "# run_id = \"run-0020-CNN_cifar10_128_0.8079\" # Seed 11, SAM\n",
    "# run_id = \"run-0022-CNN_cifar10_128_0.8519\" # Seed 11\n",
    "\n",
    "# No Residual\n",
    "# run_id = \"run-0017-CNN_cifar10_128_0.8072\" # Seed 42, SAM\n",
    "# run_id = \"run-0019-CNN_cifar10_128_0.8487\" # Seed 42\n",
    "# run_id = \"run-0021-CNN_cifar10_128_0.8054\" # Seed 11, SAM\n",
    "# run_id = \"run-0023-CNN_cifar10_128_0.8509\" # Seed 11"
   ],
   "id": "c493ecd65ad261c1"
  },
  {
   "metadata": {},
   "cell_type": "code",
   "outputs": [],
   "execution_count": null,
   "source": [
    "from helper.visualization import Run\n",
    "run = Run(run_id, dataset)"
   ],
   "id": "a8579f226662ec57"
  },
  {
   "metadata": {},
   "cell_type": "markdown",
   "source": "## The Training",
   "id": "523e3728154409b3"
  },
  {
   "metadata": {},
   "cell_type": "code",
   "outputs": [],
   "execution_count": null,
   "source": "run.plot_training_records()",
   "id": "9258051d4eae8675"
  },
  {
   "metadata": {},
   "cell_type": "markdown",
   "source": "### Confusion Matrix Development",
   "id": "e0bcd4102928b964"
  },
  {
   "metadata": {},
   "cell_type": "code",
   "outputs": [],
   "execution_count": null,
   "source": [
    "%matplotlib ipympl\n",
    "%matplotlib widget\n",
    "run.confusion_matrix(annotate=True)"
   ],
   "id": "c9b74cfba13bc2d7"
  },
  {
   "metadata": {},
   "cell_type": "markdown",
   "source": "## Embedding Drift & CKA Similarities",
   "id": "a995ebb26b08f498"
  },
  {
   "metadata": {},
   "cell_type": "markdown",
   "source": [
    "The embedding drift describes:\n",
    "- **Multi-scale skips**: for each snapshot index `i`, compare its embedding `E_i` to earlier snapshots `E_{i - 2**n}` for `n = 0,1,…,4` (skip lengths 1, 2, 4, 8, 16).\n",
    "- **Mean Euclidean distance**:\n",
    "  ```python\n",
    "  drift = np.linalg.norm(current_snapshot - previous_snapshot, axis=1).mean()\n",
    "- **Result:** a dict mapping each skip length to a time series of drift values, showing how rapidly—and at what scales—the embedding space is evolving."
   ],
   "id": "68d44d5645862b6c"
  },
  {
   "metadata": {},
   "cell_type": "code",
   "outputs": [],
   "execution_count": null,
   "source": "run.plot_embedding_drifts() #TODO MANHATTAN OR EUCLIDEAN",
   "id": "d6465eb0aaa41053"
  },
  {
   "metadata": {},
   "cell_type": "markdown",
   "source": [
    "This plot shows **1 − CKA similarity** over time, representing the **structural change** in the embedding space.\n",
    "Lower values indicate high similarity (stable structure), while higher values reflect greater representational drift.\n",
    "It allows direct comparison with Euclidean embedding drift and helps identify when and how much the internal structure evolves during training."
   ],
   "id": "71c456cbfca5ddd6"
  },
  {
   "metadata": {},
   "cell_type": "code",
   "outputs": [],
   "execution_count": null,
   "source": "run.plot_cka_similarities(y_lim=0.3)",
   "id": "7a66b83cd87abeba"
  },
  {
   "metadata": {},
   "cell_type": "markdown",
   "source": [
    "## Eigenvalue development\n",
    "This plot shows the **10 top PCA eigenvalues** of the embedding space over training time.\n",
    "Each curve represents the variance explained by a principal direction.\n",
    "Changes in the eigenvalue spectrum reveal how the dimensional structure of the embeddings evolves — e.g., early compression, later expansion, or stabilization of representational capacity."
   ],
   "id": "d6c8f4404e1cc38f"
  },
  {
   "metadata": {},
   "cell_type": "code",
   "outputs": [],
   "execution_count": null,
   "source": "run.eigenvalues()",
   "id": "21f9d4cba20c143d"
  }
 ],
 "metadata": {
  "kernelspec": {
   "display_name": "Python 3",
   "language": "python",
   "name": "python3"
  },
  "language_info": {
   "codemirror_mode": {
    "name": "ipython",
    "version": 2
   },
   "file_extension": ".py",
   "mimetype": "text/x-python",
   "name": "python",
   "nbconvert_exporter": "python",
   "pygments_lexer": "ipython2",
   "version": "2.7.6"
  }
 },
 "nbformat": 4,
 "nbformat_minor": 5
}
