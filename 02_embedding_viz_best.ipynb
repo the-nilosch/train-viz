{
 "cells": [
  {
   "cell_type": "markdown",
   "id": "b24530816a44ff39",
   "metadata": {},
   "source": [
    "# Embedding Visualzation\n",
    "\n",
    "Embedding visualization methods, that have proven to be meaningful"
   ]
  },
  {
   "cell_type": "markdown",
   "id": "4c3953eff1b9fba6",
   "metadata": {},
   "source": [
    "## Choose Train Run"
   ]
  },
  {
   "cell_type": "code",
   "execution_count": null,
   "id": "initial_id",
   "metadata": {},
   "outputs": [],
   "source": [
    "# ==== MNIST ========\n",
    "dataset = \"mnist\"\n",
    "\n",
    "run_id = \"run-0011-CNN_mnist_32_0.9776\"\n",
    "#run_id = \"run-0012-CNN_mnist_32_0.9768\"\n",
    "#run_id = \"run-0013-CNN_mnist_32_0.9797\"\n",
    "#run_id = \"run-0014-CNN_mnist_32_0.9744\""
   ]
  },
  {
   "cell_type": "code",
   "execution_count": null,
   "id": "c493ecd65ad261c1",
   "metadata": {},
   "outputs": [],
   "source": [
    "# ==== CIFAR 10 ========\n",
    "dataset = \"cifar10\"\n",
    "\n",
    "# Residual\n",
    "run_id = \"run-0016-CNN_cifar10_128_0.8093\" # Seed 42, SAM\n",
    "# run_id = \"run-0018-CNN_cifar10_128_0.8499\" # Seed 42\n",
    "# run_id = \"run-0020-CNN_cifar10_128_0.8079\" # Seed 11, SAM\n",
    "# run_id = \"run-0022-CNN_cifar10_128_0.8519\" # Seed 11\n",
    "\n",
    "# No Residual\n",
    "# run_id = \"run-0017-CNN_cifar10_128_0.8072\" # Seed 42, SAM\n",
    "# run_id = \"run-0019-CNN_cifar10_128_0.8487\" # Seed 42\n",
    "# run_id = \"run-0021-CNN_cifar10_128_0.8054\" # Seed 11, SAM\n",
    "# run_id = \"run-0023-CNN_cifar10_128_0.8509\" # Seed 11"
   ]
  },
  {
   "cell_type": "code",
   "execution_count": null,
   "id": "4ae195927b70c637",
   "metadata": {
    "collapsed": false
   },
   "outputs": [],
   "source": [
    "dataset = \"cifar10\"\n",
    "run_id = \"run-0041-ViT_cifar10_256_0.8107\""
   ]
  },
  {
   "cell_type": "code",
   "execution_count": null,
   "id": "a8579f226662ec57",
   "metadata": {},
   "outputs": [],
   "source": [
    "from helper.visualization import Run\n",
    "run = Run(run_id, dataset)"
   ]
  },
  {
   "cell_type": "markdown",
   "id": "523e3728154409b3",
   "metadata": {
    "jp-MarkdownHeadingCollapsed": true
   },
   "source": [
    "## The Training"
   ]
  },
  {
   "cell_type": "code",
   "execution_count": null,
   "id": "9258051d4eae8675",
   "metadata": {},
   "outputs": [],
   "source": [
    "run.plot_training_records()"
   ]
  },
  {
   "cell_type": "markdown",
   "id": "e0bcd4102928b964",
   "metadata": {},
   "source": [
    "### Confusion Matrix Development"
   ]
  },
  {
   "cell_type": "code",
   "execution_count": null,
   "id": "c9b74cfba13bc2d7",
   "metadata": {},
   "outputs": [],
   "source": [
    "%matplotlib ipympl\n",
    "%matplotlib widget\n",
    "run.confusion_matrix(annotate=True)"
   ]
  },
  {
   "cell_type": "markdown",
   "id": "a995ebb26b08f498",
   "metadata": {
    "jp-MarkdownHeadingCollapsed": true
   },
   "source": [
    "## Embedding Drift & CKA Similarities"
   ]
  },
  {
   "cell_type": "markdown",
   "id": "68d44d5645862b6c",
   "metadata": {},
   "source": [
    "The embedding drift describes:\n",
    "- **Multi-scale skips**: for each snapshot index `i`, compare its embedding `E_i` to earlier snapshots `E_{i - 2**n}` for `n = 0,1,…,4` (skip lengths 1, 2, 4, 8, 16).\n",
    "- **Mean Euclidean distance**:\n",
    "  ```python\n",
    "  drift = np.linalg.norm(current_snapshot - previous_snapshot, axis=1).mean()\n",
    "- **Result:** a dict mapping each skip length to a time series of drift values, showing how rapidly—and at what scales—the embedding space is evolving."
   ]
  },
  {
   "cell_type": "code",
   "execution_count": null,
   "id": "d6465eb0aaa41053",
   "metadata": {},
   "outputs": [],
   "source": [
    "run.plot_embedding_drifts()"
   ]
  },
  {
   "cell_type": "markdown",
   "id": "71c456cbfca5ddd6",
   "metadata": {},
   "source": [
    "This plot shows **1 − CKA similarity** over time, representing the **structural change** in the embedding space.\n",
    "Lower values indicate high similarity (stable structure), while higher values reflect greater representational drift.\n",
    "It allows direct comparison with Euclidean embedding drift and helps identify when and how much the internal structure evolves during training."
   ]
  },
  {
   "cell_type": "code",
   "execution_count": null,
   "id": "7a66b83cd87abeba",
   "metadata": {},
   "outputs": [],
   "source": [
    "run.plot_cka_similarities(y_lim=0.3)"
   ]
  },
  {
   "cell_type": "markdown",
   "id": "d6c8f4404e1cc38f",
   "metadata": {
    "jp-MarkdownHeadingCollapsed": true
   },
   "source": [
    "## Eigenvalue development\n",
    "This plot shows the **10 top PCA eigenvalues** of the embedding space over training time.\n",
    "Each curve represents the variance explained by a principal direction.\n",
    "Changes in the eigenvalue spectrum reveal how the dimensional structure of the embeddings evolves — e.g., early compression, later expansion, or stabilization of representational capacity."
   ]
  },
  {
   "cell_type": "code",
   "execution_count": null,
   "id": "21f9d4cba20c143d",
   "metadata": {},
   "outputs": [],
   "source": [
    "run.eigenvalues()"
   ]
  },
  {
   "cell_type": "markdown",
   "id": "f92e1cfa9b7dc97f",
   "metadata": {
    "collapsed": false
   },
   "source": [
    "# Compare Visualizations\n",
    "Hyperparameter choices through evaluation"
   ]
  },
  {
   "cell_type": "markdown",
   "id": "01f928eb-a8ef-4cac-8ac1-cc4cf64e73c4",
   "metadata": {},
   "source": [
    "### Compute"
   ]
  },
  {
   "cell_type": "code",
   "execution_count": null,
   "id": "b44098de772ac210",
   "metadata": {
    "collapsed": false
   },
   "outputs": [],
   "source": [
    "from helper.visualization import generate_pca_animation\n",
    "\n",
    "ani_pca_all = generate_pca_animation(run, fit_basis='all')\n",
    "ani_pca_window = generate_pca_animation(run, fit_basis='window', window_size=16).denoise(do_cka_similarities=False)"
   ]
  },
  {
   "cell_type": "code",
   "execution_count": null,
   "id": "130555494e90b33",
   "metadata": {
    "collapsed": false
   },
   "outputs": [],
   "source": [
    "from helper.visualization import generate_tsne_animation\n",
    "\n",
    "tsne_blended = generate_tsne_animation(\n",
    "    run,\n",
    "    tsne_update=0.2\n",
    ")"
   ]
  },
  {
   "cell_type": "code",
   "execution_count": null,
   "id": "1bcee143ce20d0c",
   "metadata": {
    "collapsed": false
   },
   "outputs": [],
   "source": [
    "from helper.visualization import generate_umap_animation\n",
    "\n",
    "umap_ani = generate_umap_animation(\n",
    "    run,\n",
    "    metric='cosine',\n",
    "    n_neighbors=20,\n",
    "    min_dist=0.2\n",
    ").denoise(do_cka_similarities=False)"
   ]
  },
  {
   "cell_type": "code",
   "execution_count": null,
   "id": "e5dd279fd9a8dbe2",
   "metadata": {
    "collapsed": false
   },
   "outputs": [],
   "source": [
    "from helper.visualization import generate_mphate_animation\n",
    "\n",
    "#mphate_ani = generate_mphate_animation(\n",
    "#    run,\n",
    "#    #t=t, #TODO Best PARAMETERS\n",
    "#)"
   ]
  },
  {
   "cell_type": "markdown",
   "id": "16ebd244-2a3c-4f47-883a-912bf5624915",
   "metadata": {},
   "source": [
    "### Visualize"
   ]
  },
  {
   "cell_type": "code",
   "execution_count": null,
   "id": "67e3fe39a1319716",
   "metadata": {
    "collapsed": false
   },
   "outputs": [],
   "source": [
    "%matplotlib ipympl\n",
    "%matplotlib widget\n",
    "from helper.visualization import show_animations\n",
    "\n",
    "show_animations(\n",
    "    animations=[\n",
    "        ani_pca_all,\n",
    "        ani_pca_window,\n",
    "        tsne_blended,\n",
    "        umap_ani,\n",
    "        #mphate_ani\n",
    "    ],\n",
    "    custom_titles=[\n",
    "        \"PCA on all\",\n",
    "        \"PCA window denoised\",\n",
    "        \"t-SNE\",\n",
    "        \"UMAP\",\n",
    "        \"M-PHATE\"\n",
    "    ],\n",
    "    figsize_per_plot=(4, 4),\n",
    "    cols=3,\n",
    "    shared_axes=False,\n",
    "    add_confusion_matrix=True,\n",
    "    annotate_confusion_matrix=True,\n",
    "    interpolate=True,\n",
    "    steps_per_transition=3,\n",
    ")"
   ]
  },
  {
   "cell_type": "code",
   "execution_count": null,
   "id": "940c86d7-1d9c-4f8d-a2bd-bbc1e225461f",
   "metadata": {},
   "outputs": [],
   "source": []
  }
 ],
 "metadata": {
  "kernelspec": {
   "display_name": "Python 3 (ipykernel)",
   "language": "python",
   "name": "python3"
  },
  "language_info": {
   "codemirror_mode": {
    "name": "ipython",
    "version": 3
   },
   "file_extension": ".py",
   "mimetype": "text/x-python",
   "name": "python",
   "nbconvert_exporter": "python",
   "pygments_lexer": "ipython3",
   "version": "3.10.18"
  }
 },
 "nbformat": 4,
 "nbformat_minor": 5
}
